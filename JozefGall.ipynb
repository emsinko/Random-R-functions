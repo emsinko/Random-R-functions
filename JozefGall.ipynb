{
 "cells": [
  {
   "cell_type": "markdown",
   "metadata": {},
   "source": [
    "# <center>  </center>\n",
    "## <center> Jozef Gáll - Kliešťom prenášané zoonózy na Slovensku  </center>\n"
   ]
  },
  {
   "cell_type": "markdown",
   "metadata": {},
   "source": [
    "### Intro"
   ]
  },
  {
   "cell_type": "markdown",
   "metadata": {},
   "source": [
    "Čiže moja práca sa týka boreliózy a encefalitídy. Potreboval by som zhotoviť štatistické spracovanie údajov. Zozbieral som jednotlivé dáta, ktoré som aj prepísal do tabuliek (posielam Vám ich v prílohe). Pri borelióze sledovaným obdobím sú roky 2016 až prvý polrok roku 2020, pri encefalitíde mám údaje od roku 2018 až do prvého polroku 2020 (skôr sa diagnostika encefalitídy v Brezne nerobila). Potreboval by som dať do korelácie:\n",
    "\n",
    "1) Výskyt pozitívnych a negatívnych výsledkov za sledované obdobia \n",
    "\n",
    "    a) 2016 BOR (IgG, IgM)\n",
    "\n",
    "    b) 2017 BOR (IgG, IgM)\n",
    "\n",
    "    c) 2018 BOR (IgG, IgM) + TBEV (skr. encefalitídy)\n",
    "\n",
    "    d) 2019 BOR (IgG, IgM) +TBEV\n",
    "\n",
    "    e) 2020 BOR (IgG,IgM) + TBEV\n",
    "\n",
    "2) Výskyt ochorenia v jednotlivých mesiacoch (taktiež za jednotlivé roky)\n",
    "\n",
    "3) Výskyt ochorení v závislosti od \n",
    "    \n",
    "    a) Veku pacientov (za jednotlivé roky)\n",
    "    \n",
    "    b) Pohlavia (za jednotlivé roky)\n",
    "    \n",
    "    c) Lokality (bydliska, za jednotlivé roky)\n",
    "\n",
    "4) Výskyt v závislosti od najčastejšieho klinického príznaku a\n",
    "\n",
    "5) Najčastejšie diagnózy pri borelióze a encefalitíde.\n"
   ]
  },
  {
   "cell_type": "markdown",
   "metadata": {},
   "source": [
    "<b> NAĆÍTANIE KNIŽNÍC </b>"
   ]
  },
  {
   "cell_type": "code",
   "execution_count": 2,
   "metadata": {},
   "outputs": [],
   "source": [
    "library(tidyverse)\n",
    "library(glue)   \n",
    "library(readxl)   \n",
    "library(repr)\n",
    "\n",
    "#library(Hmisc)"
   ]
  },
  {
   "cell_type": "code",
   "execution_count": null,
   "metadata": {},
   "outputs": [],
   "source": [
    "# 1 "
   ]
  },
  {
   "cell_type": "markdown",
   "metadata": {},
   "source": [
    "#### Načítanie dát"
   ]
  },
  {
   "cell_type": "code",
   "execution_count": 3,
   "metadata": {},
   "outputs": [],
   "source": [
    "data <- readxl::read_excel(\"data.xlsx\", sheet = \"Pozitivne\")"
   ]
  },
  {
   "cell_type": "code",
   "execution_count": 5,
   "metadata": {},
   "outputs": [
    {
     "data": {
      "text/html": [
       "<table>\n",
       "<caption>A tibble: 882 × 5</caption>\n",
       "<thead>\n",
       "\t<tr><th scope=col>obec</th><th scope=col>vek</th><th scope=col>pohlavie</th><th scope=col>typ</th><th scope=col>rok</th></tr>\n",
       "\t<tr><th scope=col>&lt;chr&gt;</th><th scope=col>&lt;dbl&gt;</th><th scope=col>&lt;chr&gt;</th><th scope=col>&lt;chr&gt;</th><th scope=col>&lt;dbl&gt;</th></tr>\n",
       "</thead>\n",
       "<tbody>\n",
       "\t<tr><td>Bacúch</td><td>65</td><td>Ž</td><td>BOR IGG</td><td>2016</td></tr>\n",
       "\t<tr><td>Bacúch</td><td>85</td><td>M</td><td>BOR IGG</td><td>2016</td></tr>\n",
       "\t<tr><td>Beňuš </td><td>47</td><td>Ž</td><td>BOR IGG</td><td>2016</td></tr>\n",
       "\t<tr><td>Beňuš </td><td>60</td><td>Ž</td><td>BOR IGG</td><td>2016</td></tr>\n",
       "\t<tr><td>Beňuš </td><td>49</td><td>M</td><td>BOR IGG</td><td>2016</td></tr>\n",
       "\t<tr><td>Beňuš </td><td>47</td><td>Ž</td><td>BOR IGG</td><td>2016</td></tr>\n",
       "\t<tr><td>Beňuš </td><td>49</td><td>M</td><td>BOR IGG</td><td>2016</td></tr>\n",
       "\t<tr><td>Brezno</td><td>69</td><td>M</td><td>BOR IGG</td><td>2016</td></tr>\n",
       "\t<tr><td>Brezno</td><td>63</td><td>Ž</td><td>BOR IGG</td><td>2016</td></tr>\n",
       "\t<tr><td>Brezno</td><td>21</td><td>Ž</td><td>BOR IGG</td><td>2016</td></tr>\n",
       "\t<tr><td>Brezno</td><td>59</td><td>Ž</td><td>BOR IGG</td><td>2016</td></tr>\n",
       "\t<tr><td>Brezno</td><td>13</td><td>Ž</td><td>BOR IGG</td><td>2016</td></tr>\n",
       "\t<tr><td>Brezno</td><td>13</td><td>Ž</td><td>BOR IGG</td><td>2016</td></tr>\n",
       "\t<tr><td>Brezno</td><td>55</td><td>Ž</td><td>BOR IGG</td><td>2016</td></tr>\n",
       "\t<tr><td>Brezno</td><td>70</td><td>Ž</td><td>BOR IGG</td><td>2016</td></tr>\n",
       "\t<tr><td>Brezno</td><td>67</td><td>Ž</td><td>BOR IGG</td><td>2016</td></tr>\n",
       "\t<tr><td>Brezno</td><td>71</td><td>Ž</td><td>BOR IGG</td><td>2016</td></tr>\n",
       "\t<tr><td>Brezno</td><td>67</td><td>M</td><td>BOR IGG</td><td>2016</td></tr>\n",
       "\t<tr><td>Brezno</td><td>67</td><td>Ž</td><td>BOR IGG</td><td>2016</td></tr>\n",
       "\t<tr><td>Brezno</td><td>54</td><td>M</td><td>BOR IGG</td><td>2016</td></tr>\n",
       "\t<tr><td>Brezno</td><td>43</td><td>Ž</td><td>BOR IGG</td><td>2016</td></tr>\n",
       "\t<tr><td>Brezno</td><td>66</td><td>Ž</td><td>BOR IGG</td><td>2016</td></tr>\n",
       "\t<tr><td>Brezno</td><td>67</td><td>Ž</td><td>BOR IGG</td><td>2016</td></tr>\n",
       "\t<tr><td>Brezno</td><td>49</td><td>Ž</td><td>BOR IGG</td><td>2016</td></tr>\n",
       "\t<tr><td>Brezno</td><td>62</td><td>Ž</td><td>BOR IGG</td><td>2016</td></tr>\n",
       "\t<tr><td>Brezno</td><td>67</td><td>M</td><td>BOR IGG</td><td>2016</td></tr>\n",
       "\t<tr><td>Brezno</td><td>26</td><td>Ž</td><td>BOR IGG</td><td>2016</td></tr>\n",
       "\t<tr><td>Brezno</td><td>40</td><td>M</td><td>BOR IGG</td><td>2016</td></tr>\n",
       "\t<tr><td>Brezno</td><td>35</td><td>Ž</td><td>BOR IGG</td><td>2016</td></tr>\n",
       "\t<tr><td>Brezno</td><td>20</td><td>M</td><td>BOR IGG</td><td>2016</td></tr>\n",
       "\t<tr><td>...</td><td>...</td><td>...</td><td>...</td><td>...</td></tr>\n",
       "\t<tr><td>Predajná          </td><td>66</td><td>M</td><td>BOR IGG </td><td>2020</td></tr>\n",
       "\t<tr><td>Valaská           </td><td>50</td><td>Ž</td><td>BOR IGG </td><td>2020</td></tr>\n",
       "\t<tr><td>Valaská           </td><td>71</td><td>Ž</td><td>BOR IGG </td><td>2020</td></tr>\n",
       "\t<tr><td>Valaská           </td><td>89</td><td>M</td><td>BOR IGG </td><td>2020</td></tr>\n",
       "\t<tr><td>Závadka nad Hronom</td><td> 5</td><td>M</td><td>BOR IGG </td><td>2020</td></tr>\n",
       "\t<tr><td>Brezno            </td><td> 9</td><td>Ž</td><td>BOR IGG </td><td>2020</td></tr>\n",
       "\t<tr><td>Jasenie           </td><td>75</td><td>M</td><td>BOR IGG </td><td>2020</td></tr>\n",
       "\t<tr><td>Brezno            </td><td>78</td><td>M</td><td>BOR IGG </td><td>2020</td></tr>\n",
       "\t<tr><td>Nemecká           </td><td>12</td><td>M</td><td>TBEV IGM</td><td>2020</td></tr>\n",
       "\t<tr><td>Hronec            </td><td>64</td><td>Ž</td><td>TBEV IGM</td><td>2020</td></tr>\n",
       "\t<tr><td>Závadka nad Hronom</td><td>30</td><td>M</td><td>TBEV IGM</td><td>2020</td></tr>\n",
       "\t<tr><td>Brezno            </td><td>46</td><td>M</td><td>TBEV IGM</td><td>2020</td></tr>\n",
       "\t<tr><td>Brezno            </td><td>46</td><td>M</td><td>TBEV IGM</td><td>2020</td></tr>\n",
       "\t<tr><td>Závadka nad Hronom</td><td>64</td><td>M</td><td>TBEV IGM</td><td>2020</td></tr>\n",
       "\t<tr><td>Podbrezová        </td><td>66</td><td>M</td><td>TBEV IGM</td><td>2020</td></tr>\n",
       "\t<tr><td>Podbrezová        </td><td>66</td><td>M</td><td>TBEV IGM</td><td>2020</td></tr>\n",
       "\t<tr><td>Brezno            </td><td>33</td><td>M</td><td>TBEV IGM</td><td>2020</td></tr>\n",
       "\t<tr><td>Brezno            </td><td>33</td><td>M</td><td>TBEV IGM</td><td>2020</td></tr>\n",
       "\t<tr><td>Brezno            </td><td> 9</td><td>Ž</td><td>TBEV IGM</td><td>2020</td></tr>\n",
       "\t<tr><td>Čierny Balog      </td><td>54</td><td>M</td><td>TBEV IGM</td><td>2020</td></tr>\n",
       "\t<tr><td>Brezno            </td><td>43</td><td>Ž</td><td>TBEV IGM</td><td>2020</td></tr>\n",
       "\t<tr><td>Čierny Balog      </td><td>37</td><td>M</td><td>TBEV IGM</td><td>2020</td></tr>\n",
       "\t<tr><td>Čierny Balog      </td><td>37</td><td>M</td><td>TBEV IGM</td><td>2020</td></tr>\n",
       "\t<tr><td>Brezno            </td><td>46</td><td>M</td><td>TBEV IGG</td><td>2020</td></tr>\n",
       "\t<tr><td>Závadka nad Hronom</td><td>64</td><td>M</td><td>TBEV IGG</td><td>2020</td></tr>\n",
       "\t<tr><td>Podbrezová        </td><td>66</td><td>M</td><td>TBEV IGG</td><td>2020</td></tr>\n",
       "\t<tr><td>Brezno            </td><td>33</td><td>M</td><td>TBEV IGG</td><td>2020</td></tr>\n",
       "\t<tr><td>Brezno            </td><td> 9</td><td>Ž</td><td>TBEV IGG</td><td>2020</td></tr>\n",
       "\t<tr><td>Čierny Balog      </td><td>54</td><td>M</td><td>TBEV IGG</td><td>2020</td></tr>\n",
       "\t<tr><td>Čierny Balog      </td><td>37</td><td>M</td><td>TBEV IGG</td><td>2020</td></tr>\n",
       "</tbody>\n",
       "</table>\n"
      ],
      "text/latex": [
       "A tibble: 882 × 5\n",
       "\\begin{tabular}{lllll}\n",
       " obec & vek & pohlavie & typ & rok\\\\\n",
       " <chr> & <dbl> & <chr> & <chr> & <dbl>\\\\\n",
       "\\hline\n",
       "\t Bacúch & 65 & Ž & BOR IGG & 2016\\\\\n",
       "\t Bacúch & 85 & M & BOR IGG & 2016\\\\\n",
       "\t Beňuš  & 47 & Ž & BOR IGG & 2016\\\\\n",
       "\t Beňuš  & 60 & Ž & BOR IGG & 2016\\\\\n",
       "\t Beňuš  & 49 & M & BOR IGG & 2016\\\\\n",
       "\t Beňuš  & 47 & Ž & BOR IGG & 2016\\\\\n",
       "\t Beňuš  & 49 & M & BOR IGG & 2016\\\\\n",
       "\t Brezno & 69 & M & BOR IGG & 2016\\\\\n",
       "\t Brezno & 63 & Ž & BOR IGG & 2016\\\\\n",
       "\t Brezno & 21 & Ž & BOR IGG & 2016\\\\\n",
       "\t Brezno & 59 & Ž & BOR IGG & 2016\\\\\n",
       "\t Brezno & 13 & Ž & BOR IGG & 2016\\\\\n",
       "\t Brezno & 13 & Ž & BOR IGG & 2016\\\\\n",
       "\t Brezno & 55 & Ž & BOR IGG & 2016\\\\\n",
       "\t Brezno & 70 & Ž & BOR IGG & 2016\\\\\n",
       "\t Brezno & 67 & Ž & BOR IGG & 2016\\\\\n",
       "\t Brezno & 71 & Ž & BOR IGG & 2016\\\\\n",
       "\t Brezno & 67 & M & BOR IGG & 2016\\\\\n",
       "\t Brezno & 67 & Ž & BOR IGG & 2016\\\\\n",
       "\t Brezno & 54 & M & BOR IGG & 2016\\\\\n",
       "\t Brezno & 43 & Ž & BOR IGG & 2016\\\\\n",
       "\t Brezno & 66 & Ž & BOR IGG & 2016\\\\\n",
       "\t Brezno & 67 & Ž & BOR IGG & 2016\\\\\n",
       "\t Brezno & 49 & Ž & BOR IGG & 2016\\\\\n",
       "\t Brezno & 62 & Ž & BOR IGG & 2016\\\\\n",
       "\t Brezno & 67 & M & BOR IGG & 2016\\\\\n",
       "\t Brezno & 26 & Ž & BOR IGG & 2016\\\\\n",
       "\t Brezno & 40 & M & BOR IGG & 2016\\\\\n",
       "\t Brezno & 35 & Ž & BOR IGG & 2016\\\\\n",
       "\t Brezno & 20 & M & BOR IGG & 2016\\\\\n",
       "\t ... & ... & ... & ... & ...\\\\\n",
       "\t Predajná           & 66 & M & BOR IGG  & 2020\\\\\n",
       "\t Valaská            & 50 & Ž & BOR IGG  & 2020\\\\\n",
       "\t Valaská            & 71 & Ž & BOR IGG  & 2020\\\\\n",
       "\t Valaská            & 89 & M & BOR IGG  & 2020\\\\\n",
       "\t Závadka nad Hronom &  5 & M & BOR IGG  & 2020\\\\\n",
       "\t Brezno             &  9 & Ž & BOR IGG  & 2020\\\\\n",
       "\t Jasenie            & 75 & M & BOR IGG  & 2020\\\\\n",
       "\t Brezno             & 78 & M & BOR IGG  & 2020\\\\\n",
       "\t Nemecká            & 12 & M & TBEV IGM & 2020\\\\\n",
       "\t Hronec             & 64 & Ž & TBEV IGM & 2020\\\\\n",
       "\t Závadka nad Hronom & 30 & M & TBEV IGM & 2020\\\\\n",
       "\t Brezno             & 46 & M & TBEV IGM & 2020\\\\\n",
       "\t Brezno             & 46 & M & TBEV IGM & 2020\\\\\n",
       "\t Závadka nad Hronom & 64 & M & TBEV IGM & 2020\\\\\n",
       "\t Podbrezová         & 66 & M & TBEV IGM & 2020\\\\\n",
       "\t Podbrezová         & 66 & M & TBEV IGM & 2020\\\\\n",
       "\t Brezno             & 33 & M & TBEV IGM & 2020\\\\\n",
       "\t Brezno             & 33 & M & TBEV IGM & 2020\\\\\n",
       "\t Brezno             &  9 & Ž & TBEV IGM & 2020\\\\\n",
       "\t Čierny Balog       & 54 & M & TBEV IGM & 2020\\\\\n",
       "\t Brezno             & 43 & Ž & TBEV IGM & 2020\\\\\n",
       "\t Čierny Balog       & 37 & M & TBEV IGM & 2020\\\\\n",
       "\t Čierny Balog       & 37 & M & TBEV IGM & 2020\\\\\n",
       "\t Brezno             & 46 & M & TBEV IGG & 2020\\\\\n",
       "\t Závadka nad Hronom & 64 & M & TBEV IGG & 2020\\\\\n",
       "\t Podbrezová         & 66 & M & TBEV IGG & 2020\\\\\n",
       "\t Brezno             & 33 & M & TBEV IGG & 2020\\\\\n",
       "\t Brezno             &  9 & Ž & TBEV IGG & 2020\\\\\n",
       "\t Čierny Balog       & 54 & M & TBEV IGG & 2020\\\\\n",
       "\t Čierny Balog       & 37 & M & TBEV IGG & 2020\\\\\n",
       "\\end{tabular}\n"
      ],
      "text/markdown": [
       "\n",
       "A tibble: 882 × 5\n",
       "\n",
       "| obec &lt;chr&gt; | vek &lt;dbl&gt; | pohlavie &lt;chr&gt; | typ &lt;chr&gt; | rok &lt;dbl&gt; |\n",
       "|---|---|---|---|---|\n",
       "| Bacúch | 65 | Ž | BOR IGG | 2016 |\n",
       "| Bacúch | 85 | M | BOR IGG | 2016 |\n",
       "| Beňuš  | 47 | Ž | BOR IGG | 2016 |\n",
       "| Beňuš  | 60 | Ž | BOR IGG | 2016 |\n",
       "| Beňuš  | 49 | M | BOR IGG | 2016 |\n",
       "| Beňuš  | 47 | Ž | BOR IGG | 2016 |\n",
       "| Beňuš  | 49 | M | BOR IGG | 2016 |\n",
       "| Brezno | 69 | M | BOR IGG | 2016 |\n",
       "| Brezno | 63 | Ž | BOR IGG | 2016 |\n",
       "| Brezno | 21 | Ž | BOR IGG | 2016 |\n",
       "| Brezno | 59 | Ž | BOR IGG | 2016 |\n",
       "| Brezno | 13 | Ž | BOR IGG | 2016 |\n",
       "| Brezno | 13 | Ž | BOR IGG | 2016 |\n",
       "| Brezno | 55 | Ž | BOR IGG | 2016 |\n",
       "| Brezno | 70 | Ž | BOR IGG | 2016 |\n",
       "| Brezno | 67 | Ž | BOR IGG | 2016 |\n",
       "| Brezno | 71 | Ž | BOR IGG | 2016 |\n",
       "| Brezno | 67 | M | BOR IGG | 2016 |\n",
       "| Brezno | 67 | Ž | BOR IGG | 2016 |\n",
       "| Brezno | 54 | M | BOR IGG | 2016 |\n",
       "| Brezno | 43 | Ž | BOR IGG | 2016 |\n",
       "| Brezno | 66 | Ž | BOR IGG | 2016 |\n",
       "| Brezno | 67 | Ž | BOR IGG | 2016 |\n",
       "| Brezno | 49 | Ž | BOR IGG | 2016 |\n",
       "| Brezno | 62 | Ž | BOR IGG | 2016 |\n",
       "| Brezno | 67 | M | BOR IGG | 2016 |\n",
       "| Brezno | 26 | Ž | BOR IGG | 2016 |\n",
       "| Brezno | 40 | M | BOR IGG | 2016 |\n",
       "| Brezno | 35 | Ž | BOR IGG | 2016 |\n",
       "| Brezno | 20 | M | BOR IGG | 2016 |\n",
       "| ... | ... | ... | ... | ... |\n",
       "| Predajná           | 66 | M | BOR IGG  | 2020 |\n",
       "| Valaská            | 50 | Ž | BOR IGG  | 2020 |\n",
       "| Valaská            | 71 | Ž | BOR IGG  | 2020 |\n",
       "| Valaská            | 89 | M | BOR IGG  | 2020 |\n",
       "| Závadka nad Hronom |  5 | M | BOR IGG  | 2020 |\n",
       "| Brezno             |  9 | Ž | BOR IGG  | 2020 |\n",
       "| Jasenie            | 75 | M | BOR IGG  | 2020 |\n",
       "| Brezno             | 78 | M | BOR IGG  | 2020 |\n",
       "| Nemecká            | 12 | M | TBEV IGM | 2020 |\n",
       "| Hronec             | 64 | Ž | TBEV IGM | 2020 |\n",
       "| Závadka nad Hronom | 30 | M | TBEV IGM | 2020 |\n",
       "| Brezno             | 46 | M | TBEV IGM | 2020 |\n",
       "| Brezno             | 46 | M | TBEV IGM | 2020 |\n",
       "| Závadka nad Hronom | 64 | M | TBEV IGM | 2020 |\n",
       "| Podbrezová         | 66 | M | TBEV IGM | 2020 |\n",
       "| Podbrezová         | 66 | M | TBEV IGM | 2020 |\n",
       "| Brezno             | 33 | M | TBEV IGM | 2020 |\n",
       "| Brezno             | 33 | M | TBEV IGM | 2020 |\n",
       "| Brezno             |  9 | Ž | TBEV IGM | 2020 |\n",
       "| Čierny Balog       | 54 | M | TBEV IGM | 2020 |\n",
       "| Brezno             | 43 | Ž | TBEV IGM | 2020 |\n",
       "| Čierny Balog       | 37 | M | TBEV IGM | 2020 |\n",
       "| Čierny Balog       | 37 | M | TBEV IGM | 2020 |\n",
       "| Brezno             | 46 | M | TBEV IGG | 2020 |\n",
       "| Závadka nad Hronom | 64 | M | TBEV IGG | 2020 |\n",
       "| Podbrezová         | 66 | M | TBEV IGG | 2020 |\n",
       "| Brezno             | 33 | M | TBEV IGG | 2020 |\n",
       "| Brezno             |  9 | Ž | TBEV IGG | 2020 |\n",
       "| Čierny Balog       | 54 | M | TBEV IGG | 2020 |\n",
       "| Čierny Balog       | 37 | M | TBEV IGG | 2020 |\n",
       "\n"
      ],
      "text/plain": [
       "    obec               vek pohlavie typ      rok \n",
       "1   Bacúch             65  Ž        BOR IGG  2016\n",
       "2   Bacúch             85  M        BOR IGG  2016\n",
       "3   Beňuš              47  Ž        BOR IGG  2016\n",
       "4   Beňuš              60  Ž        BOR IGG  2016\n",
       "5   Beňuš              49  M        BOR IGG  2016\n",
       "6   Beňuš              47  Ž        BOR IGG  2016\n",
       "7   Beňuš              49  M        BOR IGG  2016\n",
       "8   Brezno             69  M        BOR IGG  2016\n",
       "9   Brezno             63  Ž        BOR IGG  2016\n",
       "10  Brezno             21  Ž        BOR IGG  2016\n",
       "11  Brezno             59  Ž        BOR IGG  2016\n",
       "12  Brezno             13  Ž        BOR IGG  2016\n",
       "13  Brezno             13  Ž        BOR IGG  2016\n",
       "14  Brezno             55  Ž        BOR IGG  2016\n",
       "15  Brezno             70  Ž        BOR IGG  2016\n",
       "16  Brezno             67  Ž        BOR IGG  2016\n",
       "17  Brezno             71  Ž        BOR IGG  2016\n",
       "18  Brezno             67  M        BOR IGG  2016\n",
       "19  Brezno             67  Ž        BOR IGG  2016\n",
       "20  Brezno             54  M        BOR IGG  2016\n",
       "21  Brezno             43  Ž        BOR IGG  2016\n",
       "22  Brezno             66  Ž        BOR IGG  2016\n",
       "23  Brezno             67  Ž        BOR IGG  2016\n",
       "24  Brezno             49  Ž        BOR IGG  2016\n",
       "25  Brezno             62  Ž        BOR IGG  2016\n",
       "26  Brezno             67  M        BOR IGG  2016\n",
       "27  Brezno             26  Ž        BOR IGG  2016\n",
       "28  Brezno             40  M        BOR IGG  2016\n",
       "29  Brezno             35  Ž        BOR IGG  2016\n",
       "30  Brezno             20  M        BOR IGG  2016\n",
       "... ...                ... ...      ...      ... \n",
       "853 Predajná           66  M        BOR IGG  2020\n",
       "854 Valaská            50  Ž        BOR IGG  2020\n",
       "855 Valaská            71  Ž        BOR IGG  2020\n",
       "856 Valaská            89  M        BOR IGG  2020\n",
       "857 Závadka nad Hronom  5  M        BOR IGG  2020\n",
       "858 Brezno              9  Ž        BOR IGG  2020\n",
       "859 Jasenie            75  M        BOR IGG  2020\n",
       "860 Brezno             78  M        BOR IGG  2020\n",
       "861 Nemecká            12  M        TBEV IGM 2020\n",
       "862 Hronec             64  Ž        TBEV IGM 2020\n",
       "863 Závadka nad Hronom 30  M        TBEV IGM 2020\n",
       "864 Brezno             46  M        TBEV IGM 2020\n",
       "865 Brezno             46  M        TBEV IGM 2020\n",
       "866 Závadka nad Hronom 64  M        TBEV IGM 2020\n",
       "867 Podbrezová         66  M        TBEV IGM 2020\n",
       "868 Podbrezová         66  M        TBEV IGM 2020\n",
       "869 Brezno             33  M        TBEV IGM 2020\n",
       "870 Brezno             33  M        TBEV IGM 2020\n",
       "871 Brezno              9  Ž        TBEV IGM 2020\n",
       "872 Čierny Balog       54  M        TBEV IGM 2020\n",
       "873 Brezno             43  Ž        TBEV IGM 2020\n",
       "874 Čierny Balog       37  M        TBEV IGM 2020\n",
       "875 Čierny Balog       37  M        TBEV IGM 2020\n",
       "876 Brezno             46  M        TBEV IGG 2020\n",
       "877 Závadka nad Hronom 64  M        TBEV IGG 2020\n",
       "878 Podbrezová         66  M        TBEV IGG 2020\n",
       "879 Brezno             33  M        TBEV IGG 2020\n",
       "880 Brezno              9  Ž        TBEV IGG 2020\n",
       "881 Čierny Balog       54  M        TBEV IGG 2020\n",
       "882 Čierny Balog       37  M        TBEV IGG 2020"
      ]
     },
     "metadata": {},
     "output_type": "display_data"
    }
   ],
   "source": [
    "# a) 2016 BOR (IgG, IgM)\n",
    "data %>% rok == 2016"
   ]
  },
  {
   "cell_type": "code",
   "execution_count": null,
   "metadata": {},
   "outputs": [],
   "source": []
  },
  {
   "cell_type": "code",
   "execution_count": null,
   "metadata": {},
   "outputs": [],
   "source": []
  },
  {
   "cell_type": "markdown",
   "metadata": {},
   "source": [
    "2) Výskyt ochorenia v jednotlivých mesiacoch (taktiež za jednotlivé roky)"
   ]
  },
  {
   "cell_type": "code",
   "execution_count": 16,
   "metadata": {},
   "outputs": [],
   "source": [
    "data <- readxl::read_excel(\"data.xlsx\", sheet = \"MesiacZachytu\")"
   ]
  },
  {
   "cell_type": "code",
   "execution_count": 44,
   "metadata": {},
   "outputs": [
    {
     "data": {
      "image/png": "[encoded data removed]",
      "text/plain": [
       "plot without title"
      ]
     },
     "metadata": {
      "image/png": {
       "height": 840,
       "width": 1200
      },
      "text/plain": {
       "height": 840,
       "width": 1200
      }
     },
     "output_type": "display_data"
    }
   ],
   "source": [
    "options(repr.plot.width=20, repr.plot.height=14)\n",
    "\n",
    "data %>% \n",
    "    group_by(typ, rok_mesiac) %>% \n",
    "    summarise(pocet=  n()) %>% \n",
    "    ggplot(aes(x = factor(rok_mesiac), y = pocet)) + geom_col() + theme_bw() + facet_wrap(~ typ) + theme(text = element_text(size=15), axis.text.x = element_text(angle = 90))"
   ]
  },
  {
   "cell_type": "code",
   "execution_count": 38,
   "metadata": {},
   "outputs": [],
   "source": [
    "options(repr.plot.width = 20, repr.plot.height=14)"
   ]
  },
  {
   "cell_type": "code",
   "execution_count": 40,
   "metadata": {},
   "outputs": [
    {
     "ename": "ERROR",
     "evalue": "Error in theme_bw(text = element_text(size = 20)): unused argument (text = element_text(size = 20))\n",
     "output_type": "error",
     "traceback": [
      "Error in theme_bw(text = element_text(size = 20)): unused argument (text = element_text(size = 20))\nTraceback:\n"
     ]
    }
   ],
   "source": [
    "data %>% group_by(typ, rok) %>% summarise(pocet=  n()) %>% ggplot(aes(x = rok, y = pocet)) + geom_col() + theme_bw() + facet_wrap(~ typ, ncol = 4)"
   ]
  },
  {
   "cell_type": "code",
   "execution_count": null,
   "metadata": {},
   "outputs": [],
   "source": []
  },
  {
   "cell_type": "code",
   "execution_count": null,
   "metadata": {},
   "outputs": [],
   "source": []
  },
  {
   "cell_type": "code",
   "execution_count": null,
   "metadata": {},
   "outputs": [],
   "source": []
  },
  {
   "cell_type": "code",
   "execution_count": 268,
   "metadata": {},
   "outputs": [
    {
     "data": {
      "text/html": [
       "<table>\n",
       "<thead><tr><th scope=col>Ako dlho pracujete v spoločnosti HBS a.s.?</th><th scope=col>počet</th></tr></thead>\n",
       "<tbody>\n",
       "\t<tr><td>6 až 10 rokov  </td><td>13             </td></tr>\n",
       "\t<tr><td>11 až 15 rokov </td><td>12             </td></tr>\n",
       "\t<tr><td>16 a viac rokov</td><td> 8             </td></tr>\n",
       "\t<tr><td>1 až 5 rokov   </td><td> 6             </td></tr>\n",
       "</tbody>\n",
       "</table>\n"
      ],
      "text/latex": [
       "\\begin{tabular}{r|ll}\n",
       " Ako dlho pracujete v spoločnosti HBS a.s.? & počet\\\\\n",
       "\\hline\n",
       "\t 6 až 10 rokov   & 13             \\\\\n",
       "\t 11 až 15 rokov  & 12             \\\\\n",
       "\t 16 a viac rokov &  8             \\\\\n",
       "\t 1 až 5 rokov    &  6             \\\\\n",
       "\\end{tabular}\n"
      ],
      "text/markdown": [
       "\n",
       "Ako dlho pracujete v spoločnosti HBS a.s.? | počet | \n",
       "|---|---|---|---|\n",
       "| 6 až 10 rokov   | 13              | \n",
       "| 11 až 15 rokov  | 12              | \n",
       "| 16 a viac rokov |  8              | \n",
       "| 1 až 5 rokov    |  6              | \n",
       "\n",
       "\n"
      ],
      "text/plain": [
       "  Ako dlho pracujete v spoločnosti HBS a.s.? počet\n",
       "1 6 až 10 rokov                              13   \n",
       "2 11 až 15 rokov                             12   \n",
       "3 16 a viac rokov                             8   \n",
       "4 1 až 5 rokov                                6   "
      ]
     },
     "metadata": {},
     "output_type": "display_data"
    }
   ],
   "source": [
    "data %>% na.omit() %>% group_by(`Ako dlho pracujete v spoločnosti HBS a.s.?`) %>% count() %>% rename(počet = n) %>% arrange(-počet)"
   ]
  },
  {
   "cell_type": "code",
   "execution_count": 269,
   "metadata": {},
   "outputs": [
    {
     "data": {
      "text/html": [
       "<table>\n",
       "<thead><tr><th scope=col>Bolo strategické plánovanie v minulosti účinné?</th><th scope=col>počet</th></tr></thead>\n",
       "<tbody>\n",
       "\t<tr><td>Áno           </td><td>24            </td></tr>\n",
       "\t<tr><td>Neviem posúdiť</td><td> 9            </td></tr>\n",
       "\t<tr><td>Nie           </td><td> 6            </td></tr>\n",
       "</tbody>\n",
       "</table>\n"
      ],
      "text/latex": [
       "\\begin{tabular}{r|ll}\n",
       " Bolo strategické plánovanie v minulosti účinné? & počet\\\\\n",
       "\\hline\n",
       "\t Áno            & 24            \\\\\n",
       "\t Neviem posúdiť &  9            \\\\\n",
       "\t Nie            &  6            \\\\\n",
       "\\end{tabular}\n"
      ],
      "text/markdown": [
       "\n",
       "Bolo strategické plánovanie v minulosti účinné? | počet | \n",
       "|---|---|---|\n",
       "| Áno            | 24             | \n",
       "| Neviem posúdiť |  9             | \n",
       "| Nie            |  6             | \n",
       "\n",
       "\n"
      ],
      "text/plain": [
       "  Bolo strategické plánovanie v minulosti účinné? počet\n",
       "1 Áno                                             24   \n",
       "2 Neviem posúdiť                                   9   \n",
       "3 Nie                                              6   "
      ]
     },
     "metadata": {},
     "output_type": "display_data"
    }
   ],
   "source": [
    "data %>% na.omit() %>% group_by(`Bolo strategické plánovanie v minulosti účinné?`) %>% count() %>% rename(počet = n)"
   ]
  },
  {
   "cell_type": "markdown",
   "metadata": {},
   "source": [
    "### Vytvorenie prevodníka medzi odpoveďami a číselnou hodnotou"
   ]
  },
  {
   "cell_type": "code",
   "execution_count": 270,
   "metadata": {},
   "outputs": [
    {
     "data": {
      "text/html": [
       "<table>\n",
       "<thead><tr><th scope=col>Odpoved</th><th scope=col>Hodnota</th></tr></thead>\n",
       "<tbody>\n",
       "\t<tr><td>Nie           </td><td>-1            </td></tr>\n",
       "\t<tr><td>Neviem posúdiť</td><td> 0            </td></tr>\n",
       "\t<tr><td>Áno           </td><td> 1            </td></tr>\n",
       "</tbody>\n",
       "</table>\n"
      ],
      "text/latex": [
       "\\begin{tabular}{r|ll}\n",
       " Odpoved & Hodnota\\\\\n",
       "\\hline\n",
       "\t Nie            & -1            \\\\\n",
       "\t Neviem posúdiť &  0            \\\\\n",
       "\t Áno            &  1            \\\\\n",
       "\\end{tabular}\n"
      ],
      "text/markdown": [
       "\n",
       "Odpoved | Hodnota | \n",
       "|---|---|---|\n",
       "| Nie            | -1             | \n",
       "| Neviem posúdiť |  0             | \n",
       "| Áno            |  1             | \n",
       "\n",
       "\n"
      ],
      "text/plain": [
       "  Odpoved        Hodnota\n",
       "1 Nie            -1     \n",
       "2 Neviem posúdiť  0     \n",
       "3 Áno             1     "
      ]
     },
     "metadata": {},
     "output_type": "display_data"
    }
   ],
   "source": [
    "prevodnik <- data.frame(Odpoved = c(\"Nie\", \"Neviem posúdiť\", \"Áno\"), Hodnota = c(-1,0,1))\n",
    "prevodnik"
   ]
  },
  {
   "cell_type": "code",
   "execution_count": 271,
   "metadata": {},
   "outputs": [
    {
     "name": "stderr",
     "output_type": "stream",
     "text": [
      "Joining, by = \"Odpoved\"\n",
      "Warning message:\n",
      "\"Column `Odpoved` joining character vector and factor, coercing into character vector\""
     ]
    }
   ],
   "source": [
    "colnames(data) <- c(\"Počet rokov v HBS\", \"Odpoved\")\n",
    "data[\"Otazka\"] <- \"Bolo strategické plánovanie v minulosti účinné?\"\n",
    "\n",
    "data <- data %>% na.omit() %>% inner_join(prevodnik)\n",
    "data$Odpoved <- ordered(data$Odpoved,levels = c(\"Nie\", \"Neviem posúdiť\", \"Áno\"))\n",
    "data$`Počet rokov v HBS` <- ordered(data$`Počet rokov v HBS`,levels = c(\"1 až 5 rokov\", \"6 až 10 rokov\", \"11 až 15 rokov\",\"16 a viac rokov\"))"
   ]
  },
  {
   "cell_type": "markdown",
   "metadata": {},
   "source": [
    "#### Vizualizácia odpovedí v závislosti od počtu odpracovaných rokov v spoločnosti HBS"
   ]
  },
  {
   "cell_type": "code",
   "execution_count": 272,
   "metadata": {},
   "outputs": [
    {
     "data": {},
     "metadata": {},
     "output_type": "display_data"
    },
    {
     "data": {
      "image/png": "[encoded data removed]",
      "text/plain": [
       "plot without title"
      ]
     },
     "metadata": {},
     "output_type": "display_data",
     "source": "R display func"
    }
   ],
   "source": [
    "options(repr.plot.width = 7, repr.plot.height = 5)\n",
    "data %>% na.omit() %>% \n",
    "    ggplot(aes(x = `Počet rokov v HBS` , fill = Odpoved)) +   #reorder(TypNadoru, velkost, FUN = median)\n",
    "    geom_bar(position = \"fill\") + \n",
    "    stat_fill_labels() + \n",
    "    labs(x = \"Počet odpracovaných rokov v HBS\", title = \"Bolo strategické plánovanie v minulosti účinné?\", y = \"Podiel odpovedí [%]\",fill = \"Odpoveď\") + \n",
    "    theme_bw() + \n",
    "    geom_text(stat = \"fill_labels\", col = \"white\") + #geom_text(stat = \"fill_labels\") + \n",
    "    scale_y_continuous(labels = scales::percent_format())"
   ]
  },
  {
   "cell_type": "markdown",
   "metadata": {},
   "source": [
    "### Položená otázka"
   ]
  },
  {
   "cell_type": "markdown",
   "metadata": {},
   "source": [
    "<b> Bolo strategické plánovanie v minulosti účinné? </b>"
   ]
  },
  {
   "cell_type": "markdown",
   "metadata": {},
   "source": [
    "$H_0:$ Názory na účinnosť strategických plánovaní nie je závislý od počtu odpracovaných rokov v spoločnosti HBS  \n",
    "\n",
    "$H_1:$ Názory na účinnosť strategických plánovaní je závislý od počtu odpracovaných rokov v spoločnosti HBS  "
   ]
  },
  {
   "cell_type": "code",
   "execution_count": 273,
   "metadata": {},
   "outputs": [
    {
     "data": {
      "text/plain": [
       "\n",
       "\tKruskal-Wallis rank sum test\n",
       "\n",
       "data:  data$Odpoved and data$`Počet rokov v HBS`\n",
       "Kruskal-Wallis chi-squared = 4.4831, df = 3, p-value = 0.2138\n"
      ]
     },
     "metadata": {},
     "output_type": "display_data"
    }
   ],
   "source": [
    "kruskal.test(x = data$Odpoved, g = data$`Počet rokov v HBS`)"
   ]
  },
  {
   "cell_type": "markdown",
   "metadata": {},
   "source": [
    "### Výsledok testu"
   ]
  },
  {
   "cell_type": "markdown",
   "metadata": {},
   "source": [
    "Hypotézu $H_0$ nezamietame na hladine významnosti 5% s p-value = 21,38 %. Prijímame hypotézu $H_0$: názory na  účinnosť strategických plánovaní nie sú štatisticky odlišné v závislosti od počtu odpracovaných rokov v spoločnosti HBS. Na testovanie bol použitý Kruskalov-Wallisov test. \n",
    "\n"
   ]
  },
  {
   "cell_type": "markdown",
   "metadata": {},
   "source": [
    "### Vzájomné porovnanie dvojíc okresov"
   ]
  },
  {
   "cell_type": "code",
   "execution_count": 274,
   "metadata": {},
   "outputs": [
    {
     "data": {
      "text/plain": [
       "\n",
       "\tPairwise comparisons using Wilcoxon rank sum test \n",
       "\n",
       "data:  data$Hodnota and data$`Počet rokov v HBS` \n",
       "\n",
       "                1 až 5 rokov 6 až 10 rokov 11 až 15 rokov\n",
       "6 až 10 rokov   0.368        -             -             \n",
       "11 až 15 rokov  0.955        0.159         -             \n",
       "16 a viac rokov 0.471        0.068         0.416         \n",
       "\n",
       "P value adjustment method: none "
      ]
     },
     "metadata": {},
     "output_type": "display_data"
    }
   ],
   "source": [
    "pairwise.wilcox.test(x = data$Hodnota, g = data$`Počet rokov v HBS`, p.adjust.method = \"none\",exact = FALSE) #BH "
   ]
  },
  {
   "cell_type": "markdown",
   "metadata": {},
   "source": [
    "### Výsledok porovnania dvojíc okresov"
   ]
  },
  {
   "cell_type": "markdown",
   "metadata": {},
   "source": [
    "Štatisticky významné rozdiely sa nepreukázali pre žiadnu dvojicu (na hladine významnosti 5%). Použitý bol Wilcoxonov dvojvýberový neparametrický test. Najväčšia rozdieľnosť sa preukázala medzi dvojicou 6-10 rokov a 16+ rokov (p-value = 6,8 %).\n",
    "\n",
    "V prípade použitia $\\alpha = 0,1$ by bolo pre túto dvojicu významný rozdiel, avšak na hladine významnosti 10 % "
   ]
  },
  {
   "cell_type": "code",
   "execution_count": null,
   "metadata": {},
   "outputs": [],
   "source": []
  },
  {
   "cell_type": "markdown",
   "metadata": {},
   "source": [
    "## Hypotéza 2\n"
   ]
  },
  {
   "cell_type": "markdown",
   "metadata": {},
   "source": [
    "Nulová hypotéza H0: Predpokladáme že neexistuje štatistický významný rozdiel v názore na existenciu niektorých časovo orientovaných strategických plánov v spoločnosti  HBP a.s. z hľadiska dosiahnutého stupňa informovanosti zamestnancov.\n",
    "\n",
    "Alternatívna hypotéza H1: Predpokladáme, že existuje štatisticky významný rozdiel v názore na existenciu niektorých časovo orientovaných strategických plánov v spoločnosti  HBP a.s. z hľadiska dosiahnutého stupňa informovanosti zamestnancov."
   ]
  },
  {
   "cell_type": "markdown",
   "metadata": {},
   "source": [
    "#### Načítanie, úprava a pohľad na dáta"
   ]
  },
  {
   "cell_type": "code",
   "execution_count": 275,
   "metadata": {},
   "outputs": [],
   "source": [
    "data <- readxl::read_excel(\"data.xlsx\", sheet = \"Hypoteza2_uprava\")"
   ]
  },
  {
   "cell_type": "code",
   "execution_count": 276,
   "metadata": {},
   "outputs": [
    {
     "data": {
      "text/html": [
       "<table>\n",
       "<thead><tr><th scope=col>Respondent</th><th scope=col>fl_chyba_odpoved</th><th scope=col>fl_nevie_posudit</th><th scope=col>Sú zamestnanci informovaní o smerovaní, stratégii a cieľoch spoločnosti?</th><th scope=col>Informovanosť</th><th scope=col>Otázka</th><th scope=col>Krátkodobé</th><th scope=col>Strednodobé (3 až 5 rokov)</th><th scope=col>Dlhodobé (5 a viac rokov)</th><th scope=col>Neviem posúdiť</th><th scope=col>Pocet odpovedi</th></tr></thead>\n",
       "<tbody>\n",
       "\t<tr><td>35                                                          </td><td>0                                                           </td><td>0                                                           </td><td>Áno, spoločnosť zamestnancov informuje dostatočne           </td><td>Áno, dostatočne                                             </td><td>Ktorými z uvedených plánov spoločnosť HBP a.s. disponuje?   </td><td>Áno                                                         </td><td>Áno                                                         </td><td>Áno                                                         </td><td>NA                                                          </td><td>3                                                           </td></tr>\n",
       "\t<tr><td>58                                                          </td><td>1                                                           </td><td>0                                                           </td><td>Nie, spoločnosť musí zamestnancov informovať vo väčšej miere</td><td>Nie, mala by informovať viac                                </td><td>Ktorými z uvedených plánov spoločnosť HBP a.s. disponuje?   </td><td>Nezaznačil                                                  </td><td>Nezaznačil                                                  </td><td>Nezaznačil                                                  </td><td>NA                                                          </td><td>3                                                           </td></tr>\n",
       "\t<tr><td>50                                                          </td><td>0                                                           </td><td>0                                                           </td><td>Áno, spoločnosť zamestnancov informuje dostatočne           </td><td>Áno, dostatočne                                             </td><td>Ktorými z uvedených plánov spoločnosť HBP a.s. disponuje?   </td><td>Áno                                                         </td><td>Áno                                                         </td><td>Áno                                                         </td><td>NA                                                          </td><td>3                                                           </td></tr>\n",
       "\t<tr><td>57                                                          </td><td>0                                                           </td><td>1                                                           </td><td>Áno, ale uvítal/a by som viac informácii                    </td><td>Áno, ale mohla by viac                                      </td><td>Ktorými z uvedených plánov spoločnosť HBP a.s. disponuje?   </td><td>Nezaznačil                                                  </td><td>Nezaznačil                                                  </td><td>Nezaznačil                                                  </td><td>Neviem posúdiť                                              </td><td>4                                                           </td></tr>\n",
       "\t<tr><td>59                                                          </td><td>1                                                           </td><td>0                                                           </td><td>Nie, spoločnosť musí zamestnancov informovať vo väčšej miere</td><td>Nie, mala by informovať viac                                </td><td>Ktorými z uvedených plánov spoločnosť HBP a.s. disponuje?   </td><td>Nezaznačil                                                  </td><td>Nezaznačil                                                  </td><td>Nezaznačil                                                  </td><td>NA                                                          </td><td>3                                                           </td></tr>\n",
       "</tbody>\n",
       "</table>\n"
      ],
      "text/latex": [
       "\\begin{tabular}{r|lllllllllll}\n",
       " Respondent & fl\\_chyba\\_odpoved & fl\\_nevie\\_posudit & Sú zamestnanci informovaní o smerovaní, stratégii a cieľoch spoločnosti? & Informovanosť & Otázka & Krátkodobé & Strednodobé (3 až 5 rokov) & Dlhodobé (5 a viac rokov) & Neviem posúdiť & Pocet odpovedi\\\\\n",
       "\\hline\n",
       "\t 35                                                           & 0                                                            & 0                                                            & Áno, spoločnosť zamestnancov informuje dostatočne            & Áno, dostatočne                                              & Ktorými z uvedených plánov spoločnosť HBP a.s. disponuje?    & Áno                                                          & Áno                                                          & Áno                                                          & NA                                                           & 3                                                           \\\\\n",
       "\t 58                                                           & 1                                                            & 0                                                            & Nie, spoločnosť musí zamestnancov informovať vo väčšej miere & Nie, mala by informovať viac                                 & Ktorými z uvedených plánov spoločnosť HBP a.s. disponuje?    & Nezaznačil                                                   & Nezaznačil                                                   & Nezaznačil                                                   & NA                                                           & 3                                                           \\\\\n",
       "\t 50                                                           & 0                                                            & 0                                                            & Áno, spoločnosť zamestnancov informuje dostatočne            & Áno, dostatočne                                              & Ktorými z uvedených plánov spoločnosť HBP a.s. disponuje?    & Áno                                                          & Áno                                                          & Áno                                                          & NA                                                           & 3                                                           \\\\\n",
       "\t 57                                                           & 0                                                            & 1                                                            & Áno, ale uvítal/a by som viac informácii                     & Áno, ale mohla by viac                                       & Ktorými z uvedených plánov spoločnosť HBP a.s. disponuje?    & Nezaznačil                                                   & Nezaznačil                                                   & Nezaznačil                                                   & Neviem posúdiť                                               & 4                                                           \\\\\n",
       "\t 59                                                           & 1                                                            & 0                                                            & Nie, spoločnosť musí zamestnancov informovať vo väčšej miere & Nie, mala by informovať viac                                 & Ktorými z uvedených plánov spoločnosť HBP a.s. disponuje?    & Nezaznačil                                                   & Nezaznačil                                                   & Nezaznačil                                                   & NA                                                           & 3                                                           \\\\\n",
       "\\end{tabular}\n"
      ],
      "text/markdown": [
       "\n",
       "Respondent | fl_chyba_odpoved | fl_nevie_posudit | Sú zamestnanci informovaní o smerovaní, stratégii a cieľoch spoločnosti? | Informovanosť | Otázka | Krátkodobé | Strednodobé (3 až 5 rokov) | Dlhodobé (5 a viac rokov) | Neviem posúdiť | Pocet odpovedi | \n",
       "|---|---|---|---|---|\n",
       "| 35                                                           | 0                                                            | 0                                                            | Áno, spoločnosť zamestnancov informuje dostatočne            | Áno, dostatočne                                              | Ktorými z uvedených plánov spoločnosť HBP a.s. disponuje?    | Áno                                                          | Áno                                                          | Áno                                                          | NA                                                           | 3                                                            | \n",
       "| 58                                                           | 1                                                            | 0                                                            | Nie, spoločnosť musí zamestnancov informovať vo väčšej miere | Nie, mala by informovať viac                                 | Ktorými z uvedených plánov spoločnosť HBP a.s. disponuje?    | Nezaznačil                                                   | Nezaznačil                                                   | Nezaznačil                                                   | NA                                                           | 3                                                            | \n",
       "| 50                                                           | 0                                                            | 0                                                            | Áno, spoločnosť zamestnancov informuje dostatočne            | Áno, dostatočne                                              | Ktorými z uvedených plánov spoločnosť HBP a.s. disponuje?    | Áno                                                          | Áno                                                          | Áno                                                          | NA                                                           | 3                                                            | \n",
       "| 57                                                           | 0                                                            | 1                                                            | Áno, ale uvítal/a by som viac informácii                     | Áno, ale mohla by viac                                       | Ktorými z uvedených plánov spoločnosť HBP a.s. disponuje?    | Nezaznačil                                                   | Nezaznačil                                                   | Nezaznačil                                                   | Neviem posúdiť                                               | 4                                                            | \n",
       "| 59                                                           | 1                                                            | 0                                                            | Nie, spoločnosť musí zamestnancov informovať vo väčšej miere | Nie, mala by informovať viac                                 | Ktorými z uvedených plánov spoločnosť HBP a.s. disponuje?    | Nezaznačil                                                   | Nezaznačil                                                   | Nezaznačil                                                   | NA                                                           | 3                                                            | \n",
       "\n",
       "\n"
      ],
      "text/plain": [
       "  Respondent fl_chyba_odpoved fl_nevie_posudit\n",
       "1 35         0                0               \n",
       "2 58         1                0               \n",
       "3 50         0                0               \n",
       "4 57         0                1               \n",
       "5 59         1                0               \n",
       "  Sú zamestnanci informovaní o smerovaní, stratégii a cieľoch spoločnosti?\n",
       "1 Áno, spoločnosť zamestnancov informuje dostatočne                       \n",
       "2 Nie, spoločnosť musí zamestnancov informovať vo väčšej miere            \n",
       "3 Áno, spoločnosť zamestnancov informuje dostatočne                       \n",
       "4 Áno, ale uvítal/a by som viac informácii                                \n",
       "5 Nie, spoločnosť musí zamestnancov informovať vo väčšej miere            \n",
       "  Informovanosť               \n",
       "1 Áno, dostatočne             \n",
       "2 Nie, mala by informovať viac\n",
       "3 Áno, dostatočne             \n",
       "4 Áno, ale mohla by viac      \n",
       "5 Nie, mala by informovať viac\n",
       "  Otázka                                                    Krátkodobé\n",
       "1 Ktorými z uvedených plánov spoločnosť HBP a.s. disponuje? Áno       \n",
       "2 Ktorými z uvedených plánov spoločnosť HBP a.s. disponuje? Nezaznačil\n",
       "3 Ktorými z uvedených plánov spoločnosť HBP a.s. disponuje? Áno       \n",
       "4 Ktorými z uvedených plánov spoločnosť HBP a.s. disponuje? Nezaznačil\n",
       "5 Ktorými z uvedených plánov spoločnosť HBP a.s. disponuje? Nezaznačil\n",
       "  Strednodobé (3 až 5 rokov) Dlhodobé (5 a viac rokov) Neviem posúdiť\n",
       "1 Áno                        Áno                       NA            \n",
       "2 Nezaznačil                 Nezaznačil                NA            \n",
       "3 Áno                        Áno                       NA            \n",
       "4 Nezaznačil                 Nezaznačil                Neviem posúdiť\n",
       "5 Nezaznačil                 Nezaznačil                NA            \n",
       "  Pocet odpovedi\n",
       "1 3             \n",
       "2 3             \n",
       "3 3             \n",
       "4 4             \n",
       "5 3             "
      ]
     },
     "metadata": {},
     "output_type": "display_data"
    }
   ],
   "source": [
    "data %>% sample_n(5)"
   ]
  },
  {
   "cell_type": "markdown",
   "metadata": {},
   "source": [
    "<b> V DÁTACH SA NACHÁDZAJÚ RESPONDENTI, KTORÝ NEODPOVEDELI NA OTÁZKU, ALEBO NEVEDELI POSÚDIŤ - TÝCH VYLÚČIME</b>"
   ]
  },
  {
   "cell_type": "code",
   "execution_count": 277,
   "metadata": {},
   "outputs": [],
   "source": [
    "data <- data %>% filter(fl_chyba_odpoved == 0)  %>% filter(fl_nevie_posudit == 0) "
   ]
  },
  {
   "cell_type": "code",
   "execution_count": 278,
   "metadata": {},
   "outputs": [
    {
     "data": {
      "text/html": [
       "'Zostalo 28 odpovedí'"
      ],
      "text/latex": [
       "'Zostalo 28 odpovedí'"
      ],
      "text/markdown": [
       "'Zostalo 28 odpovedí'"
      ],
      "text/plain": [
       "Zostalo 28 odpovedí"
      ]
     },
     "metadata": {},
     "output_type": "display_data"
    }
   ],
   "source": [
    "glue(\"Zostalo {nrow(data)} odpovedí\")"
   ]
  },
  {
   "cell_type": "markdown",
   "metadata": {},
   "source": [
    "### Otázky v dotazńiku: "
   ]
  },
  {
   "cell_type": "markdown",
   "metadata": {},
   "source": [
    "- Ktorými z uvedených plánov spoločnosť HBP a.s. disponuje? \n",
    "- Sú zamestnanci informovaní o smerovaní, stratégii a cieľoch spoločnosti? "
   ]
  },
  {
   "cell_type": "markdown",
   "metadata": {},
   "source": [
    "Možnosti plánov na výber (bolo treba vybrať 1 až 4 možnosti):\n",
    "\n",
    "- Krátkodobé\n",
    "- Strednodobé (3 až 5 rokov)\n",
    "- Dlhodobé (5 a viac rokov)\n",
    "- Neviem posúdiť\n"
   ]
  },
  {
   "cell_type": "markdown",
   "metadata": {},
   "source": [
    "Možné odpovede na infomovanosť:\n",
    "\n",
    "- Nie, takýto druh informácií nepovažujem za dôležitý\n",
    "- Nie, spoločnosť musí zamestnancov informovať vo väčšej miereň\n",
    "- Neviem posúdiť\n",
    "- Áno, ale uvítal/a by som viac informácii\n",
    "- Áno, spoločnosť zamestnancov informuje dostatočne\n",
    "\n",
    "\n"
   ]
  },
  {
   "cell_type": "markdown",
   "metadata": {},
   "source": [
    "<b> Úprava dát </b>"
   ]
  },
  {
   "cell_type": "code",
   "execution_count": 279,
   "metadata": {},
   "outputs": [],
   "source": [
    "data_gather <- \n",
    "data %>% \n",
    "    filter(fl_chyba_odpoved == 0) %>% \n",
    "    filter(fl_nevie_posudit == 0) %>% \n",
    "    select(-fl_chyba_odpoved, - `Sú zamestnanci informovaní o smerovaní, stratégii a cieľoch spoločnosti?`, - `Neviem posúdiť`) %>% \n",
    "    gather(key = \"Horizont\", value = \"Vyber\", `Krátkodobé` : `Dlhodobé (5 a viac rokov)` ) %>% arrange(Respondent)\n",
    "\n",
    "data_gather$Informovanosť <- ordered(data_gather$Informovanosť,levels = c(\"Áno, dostatočne\", \"Áno, ale mohla by viac\", \"Nie, mala by informovať viac\",\"Nie, ale nepovažujem za dôležité\"))"
   ]
  },
  {
   "cell_type": "markdown",
   "metadata": {},
   "source": [
    "### 1) Krátkodobé"
   ]
  },
  {
   "cell_type": "code",
   "execution_count": 280,
   "metadata": {},
   "outputs": [
    {
     "data": {},
     "metadata": {},
     "output_type": "display_data"
    },
    {
     "data": {
      "image/png": "[encoded data removed]",
      "text/plain": [
       "plot without title"
      ]
     },
     "metadata": {},
     "output_type": "display_data",
     "source": "R display func"
    }
   ],
   "source": [
    "data_gather %>% filter(Horizont == \"Krátkodobé\") %>% mutate(fl_zaznacil = ifelse(Vyber == \"Áno\", 1, 0)) %>% \n",
    "        ggplot(aes(x = Informovanosť , fill = as.factor(Vyber))) +   #reorder(TypNadoru, velkost, FUN = median)\n",
    "        geom_bar(position = \"fill\") + \n",
    "        stat_fill_labels() + \n",
    "        labs(x = \"Informovanosť\", \n",
    "             y = \"Podiel odpovedí [%]\", \n",
    "             title = glue(\"Rozdelenie odpovedí podĺa informovanosti pre: Krátkodobé\"), \n",
    "             fill = \"Zaznačil odpoveď\") + \n",
    "        theme_bw() + \n",
    "        geom_text(stat = \"fill_labels\", col = \"white\") +   #geom_text(stat = \"fill_labels\") + \n",
    "        #scale_y_continuous(labels = scales::percent_format)# + \n",
    "        theme(axis.text.x = element_text(angle = 45, hjust = 1))"
   ]
  },
  {
   "cell_type": "code",
   "execution_count": 281,
   "metadata": {},
   "outputs": [
    {
     "data": {},
     "metadata": {},
     "output_type": "display_data"
    },
    {
     "data": {
      "image/png": "[encoded data removed]",
      "text/plain": [
       "plot without title"
      ]
     },
     "metadata": {},
     "output_type": "display_data",
     "source": "R display func"
    }
   ],
   "source": [
    "data_gather %>% filter(Horizont == \"Krátkodobé\") %>% mutate(fl_zaznacil = ifelse(Vyber == \"Áno\", 1, 0)) %>% \n",
    "        ggplot(aes(x = Informovanosť , fill = as.factor(Vyber))) +   #reorder(TypNadoru, velkost, FUN = median)\n",
    "        geom_bar(position = \"dodge\") + \n",
    "        #stat_fill_labels() + \n",
    "        labs(x = \"Informovanosť\", \n",
    "             y = \"Počet odpovedí\", \n",
    "             title = glue(\"Rozdelenie odpovedí podĺa informovanosti pre: Krátkodobé\"), \n",
    "             fill = \"Zaznačil odpoveď\") + \n",
    "        theme_bw() + \n",
    "        scale_y_continuous(breaks = 0:10) + \n",
    "        theme(axis.text.x = element_text(angle = 45, hjust = 1))"
   ]
  },
  {
   "cell_type": "markdown",
   "metadata": {},
   "source": [
    "<b> Testovanie </b>"
   ]
  },
  {
   "cell_type": "code",
   "execution_count": 282,
   "metadata": {},
   "outputs": [],
   "source": [
    "df_test <- data_gather %>% \n",
    "    mutate(fl_zaznacil = ifelse(Vyber == \"Áno\", 1, 0)) %>% \n",
    "    filter(Horizont == \"Krátkodobé\") %>% \n",
    "    select(Informovanosť,Vyber,fl_zaznacil)"
   ]
  },
  {
   "cell_type": "markdown",
   "metadata": {},
   "source": [
    "$H_0:$ Vnímanie existencie <b> krátkodobých </b> strategických plánov v spoločnosti  HBP a.s. je rovnaké z hľadiska dosiahnutého stupňa informovanosti zamestnancov\n",
    "\n",
    "$H_1:$ Vnímanie existencie <b> krátkodobých </b> strategických plánov v spoločnosti  HBP a.s. je rozdielne z hľadiska dosiahnutého stupňa informovanosti zamestnancov"
   ]
  },
  {
   "cell_type": "code",
   "execution_count": 283,
   "metadata": {},
   "outputs": [
    {
     "data": {
      "text/plain": [
       "\n",
       "\tKruskal-Wallis rank sum test\n",
       "\n",
       "data:  df_test$Vyber and df_test$Informovanosť\n",
       "Kruskal-Wallis chi-squared = 7.65, df = 3, p-value = 0.05383\n"
      ]
     },
     "metadata": {},
     "output_type": "display_data"
    }
   ],
   "source": [
    "kruskal.test(x = df_test$Vyber, g = df_test$Informovanosť)"
   ]
  },
  {
   "cell_type": "code",
   "execution_count": 284,
   "metadata": {},
   "outputs": [],
   "source": [
    "#kruskal.test(x = df_test$fl_zaznacil, g = df_test$Informovanosť)"
   ]
  },
  {
   "cell_type": "markdown",
   "metadata": {},
   "source": [
    "<b> Výsledok testu </b>"
   ]
  },
  {
   "cell_type": "markdown",
   "metadata": {},
   "source": [
    "Hypotézu $H_0$ <b> nezamietame </b> na hladine významnosti 5% s p-value = 5,383 %. Vnímanie existencie krátkodobých strategických plánov v spoločnosti HBP a.s. z hľadiska dosiahnutého stupňa informovanosti zamestnancov sa <b> nepreukázalo </b> byť význmane odlišné.\n",
    "\n",
    "Ak by sme testovali na hladine významnosti 10 %, hypotézu H0 by sme zamietli a mohli by sme považovať rozdielnosť za významnú\n",
    "\n"
   ]
  },
  {
   "cell_type": "markdown",
   "metadata": {},
   "source": [
    "<b> Vzájomné porovnanie dvojíc stupňov informovanosti </b>"
   ]
  },
  {
   "cell_type": "code",
   "execution_count": 285,
   "metadata": {},
   "outputs": [
    {
     "data": {
      "text/plain": [
       "\n",
       "\tPairwise comparisons using Wilcoxon rank sum test \n",
       "\n",
       "data:  df_test$fl_zaznacil and df_test$Informovanosť \n",
       "\n",
       "                                 Áno, dostatočne Áno, ale mohla by viac\n",
       "Áno, ale mohla by viac           0.016           -                     \n",
       "Nie, mala by informovať viac     0.097           0.454                 \n",
       "Nie, ale nepovažujem za dôležité 0.010           0.724                 \n",
       "                                 Nie, mala by informovať viac\n",
       "Áno, ale mohla by viac           -                           \n",
       "Nie, mala by informovať viac     -                           \n",
       "Nie, ale nepovažujem za dôležité 0.350                       \n",
       "\n",
       "P value adjustment method: none "
      ]
     },
     "metadata": {},
     "output_type": "display_data"
    }
   ],
   "source": [
    "pairwise.wilcox.test(x = df_test$fl_zaznacil, g = df_test$Informovanosť, p.adjust.method = \"none\", exact = FALSE) # BH"
   ]
  },
  {
   "cell_type": "markdown",
   "metadata": {},
   "source": [
    "<b> Výsledok porovnania dvojíc stupňov informovanosti </b>"
   ]
  },
  {
   "cell_type": "markdown",
   "metadata": {},
   "source": [
    "Preukázal štatisticky významný rozdiel medzi  dvojicami informovanosti pri krátkodobých planovaní:\n",
    "- \"Áno, dostatočne\" a \"Áno, ale mohla by viac\" , (p = 0.016 = 1,6% < 5%)\n",
    "- \"Áno, dostatočne\" a \"Nie, ale nepovažujem za dôležité\" , (p = 0.01  = 1% < 5%)"
   ]
  },
  {
   "cell_type": "markdown",
   "metadata": {},
   "source": [
    "### 2) Strednodobé (3 až 5 rokov)"
   ]
  },
  {
   "cell_type": "code",
   "execution_count": 286,
   "metadata": {},
   "outputs": [
    {
     "data": {},
     "metadata": {},
     "output_type": "display_data"
    },
    {
     "data": {
      "image/png": "[encoded data removed]",
      "text/plain": [
       "plot without title"
      ]
     },
     "metadata": {},
     "output_type": "display_data",
     "source": "R display func"
    }
   ],
   "source": [
    "data_gather %>% filter(Horizont == \"Strednodobé (3 až 5 rokov)\") %>% mutate(fl_zaznacil = ifelse(Vyber == \"Áno\", 1, 0)) %>% \n",
    "        ggplot(aes(x = Informovanosť , fill = as.factor(Vyber))) +   #reorder(TypNadoru, velkost, FUN = median)\n",
    "        geom_bar(position = \"fill\") + \n",
    "        stat_fill_labels() + \n",
    "        labs(x = \"Informovanosť\", \n",
    "             y = \"Podiel odpovedí [%]\", \n",
    "             title = glue(\"Rozdelenie odpovedí podĺa informovanosti pre: Strednodobé (3 až 5 rokov)\"), \n",
    "             fill = \"Zaznačil odpoveď\") + \n",
    "        theme_bw() + \n",
    "        geom_text(stat = \"fill_labels\", col = \"white\") +   #geom_text(stat = \"fill_labels\") + \n",
    "        #scale_y_continuous(labels = scales::percent_format)# + \n",
    "        theme(axis.text.x = element_text(angle = 45, hjust = 1))"
   ]
  },
  {
   "cell_type": "code",
   "execution_count": 287,
   "metadata": {},
   "outputs": [
    {
     "data": {},
     "metadata": {},
     "output_type": "display_data"
    },
    {
     "data": {
      "image/png": "[encoded data removed]",
      "text/plain": [
       "plot without title"
      ]
     },
     "metadata": {},
     "output_type": "display_data",
     "source": "R display func"
    }
   ],
   "source": [
    "data_gather %>% filter(Horizont == \"Strednodobé (3 až 5 rokov)\") %>% mutate(fl_zaznacil = ifelse(Vyber == \"Áno\", 1, 0)) %>% \n",
    "        ggplot(aes(x = Informovanosť , fill = as.factor(Vyber))) +   #reorder(TypNadoru, velkost, FUN = median)\n",
    "        geom_bar(position = \"dodge\") + \n",
    "        #stat_fill_labels() + \n",
    "        labs(x = \"Informovanosť\", \n",
    "             y = \"Počet odpovedí\", \n",
    "             title = glue(\"Rozdelenie odpovedí podĺa informovanosti pre: Strednodobé (3 až 5 rokov)\"), \n",
    "             fill = \"Zaznačil odpoveď\") + \n",
    "        theme_bw() + \n",
    "        #geom_text(stat = \"fill_labels\", col = \"white\") +   #geom_text(stat = \"fill_labels\") + \n",
    "        scale_y_continuous(breaks = 0:10) + \n",
    "        theme(axis.text.x = element_text(angle = 45, hjust = 1))"
   ]
  },
  {
   "cell_type": "markdown",
   "metadata": {},
   "source": [
    "<b> Testovanie </b>"
   ]
  },
  {
   "cell_type": "code",
   "execution_count": 288,
   "metadata": {},
   "outputs": [],
   "source": [
    "df_test <- data_gather %>% \n",
    "    mutate(fl_zaznacil = ifelse(Vyber == \"Áno\", 1, 0)) %>% \n",
    "    filter(Horizont == \"Strednodobé (3 až 5 rokov)\") %>% \n",
    "    select(Informovanosť,Vyber,fl_zaznacil)"
   ]
  },
  {
   "cell_type": "markdown",
   "metadata": {},
   "source": [
    "$H_0:$ Vnímanie existencie <b> strednodobých </b> strategických plánov v spoločnosti  HBP a.s. je rovnaké z hľadiska dosiahnutého stupňa informovanosti zamestnancov\n",
    "\n",
    "$H_1:$ Vnímanie existencie <b> strednodobých </b> strategických plánov v spoločnosti  HBP a.s. je rozdielne z hľadiska dosiahnutého stupňa informovanosti zamestnancov"
   ]
  },
  {
   "cell_type": "code",
   "execution_count": 289,
   "metadata": {},
   "outputs": [
    {
     "data": {
      "text/plain": [
       "\n",
       "\tKruskal-Wallis rank sum test\n",
       "\n",
       "data:  df_test$Vyber and df_test$Informovanosť\n",
       "Kruskal-Wallis chi-squared = 8.1842, df = 3, p-value = 0.04235\n"
      ]
     },
     "metadata": {},
     "output_type": "display_data"
    }
   ],
   "source": [
    "kruskal.test(x = df_test$Vyber, g = df_test$Informovanosť)"
   ]
  },
  {
   "cell_type": "code",
   "execution_count": 290,
   "metadata": {},
   "outputs": [],
   "source": [
    "#kruskal.test(x = df_test$fl_zaznacil, g = df_test$Informovanosť)"
   ]
  },
  {
   "cell_type": "markdown",
   "metadata": {},
   "source": [
    "<b> Výsledok testu </b>"
   ]
  },
  {
   "cell_type": "markdown",
   "metadata": {},
   "source": [
    "Hypotézu $H_0$ <b> zamietame </b> na hladine významnosti 5% s p-value = 4,235 %. Vnímanie existencie strednodobých strategických plánov v spoločnosti HBP a.s. z hľadiska dosiahnutého stupňa informovanosti zamestnancov sa <b> preukázali </b> byť význmane odlišné.\n"
   ]
  },
  {
   "cell_type": "markdown",
   "metadata": {},
   "source": [
    "<b> Vzájomné porovnanie dvojíc stupňov informovanosti </b>"
   ]
  },
  {
   "cell_type": "code",
   "execution_count": 291,
   "metadata": {},
   "outputs": [
    {
     "data": {
      "text/plain": [
       "\n",
       "\tPairwise comparisons using Wilcoxon rank sum test \n",
       "\n",
       "data:  df_test$fl_zaznacil and df_test$Informovanosť \n",
       "\n",
       "                                 Áno, dostatočne Áno, ale mohla by viac\n",
       "Áno, ale mohla by viac           0.0463          -                     \n",
       "Nie, mala by informovať viac     0.0097          0.5040                \n",
       "Nie, ale nepovažujem za dôležité 0.0104          0.4795                \n",
       "                                 Nie, mala by informovať viac\n",
       "Áno, ale mohla by viac           -                           \n",
       "Nie, mala by informovať viac     -                           \n",
       "Nie, ale nepovažujem za dôležité 0.8937                      \n",
       "\n",
       "P value adjustment method: none "
      ]
     },
     "metadata": {},
     "output_type": "display_data"
    }
   ],
   "source": [
    "pairwise.wilcox.test(x = df_test$fl_zaznacil, g = df_test$Informovanosť, p.adjust.method = \"none\", exact = FALSE) # BH"
   ]
  },
  {
   "cell_type": "markdown",
   "metadata": {},
   "source": [
    "<b> Výsledok porovnania dvojíc stupňov informovanosti </b>"
   ]
  },
  {
   "cell_type": "markdown",
   "metadata": {},
   "source": [
    "Preukázal štatisticky významný rozdiel medzi  dvojicami informovanosti pri strednodobom planovaní:\n",
    "- \"Áno, dostatočne\" a \"Áno, ale mohla by viac\" , (p = 0.0463 = 4,63 % < 5%)\n",
    "- \"Áno, dostatočne\" a \"Nie, mala by informovať viac\" , (p = 0.0097  = 0,97 % < 5%)\n",
    "- \"Áno, dostatočne\" a \"Nie, ale nepovažujem za dôležité\" , (p = 0.0104  = 1,04 % < 5%)"
   ]
  },
  {
   "cell_type": "code",
   "execution_count": null,
   "metadata": {},
   "outputs": [],
   "source": []
  },
  {
   "cell_type": "code",
   "execution_count": null,
   "metadata": {},
   "outputs": [],
   "source": []
  },
  {
   "cell_type": "markdown",
   "metadata": {},
   "source": [
    "### 3) Dlhodobé (5 a viac rokov)"
   ]
  },
  {
   "cell_type": "code",
   "execution_count": 292,
   "metadata": {},
   "outputs": [
    {
     "data": {},
     "metadata": {},
     "output_type": "display_data"
    },
    {
     "data": {
      "image/png": "[encoded data removed]",
      "text/plain": [
       "plot without title"
      ]
     },
     "metadata": {},
     "output_type": "display_data",
     "source": "R display func"
    }
   ],
   "source": [
    "data_gather %>% filter(Horizont == \"Dlhodobé (5 a viac rokov)\") %>% mutate(fl_zaznacil = ifelse(Vyber == \"Áno\", 1, 0)) %>% \n",
    "        ggplot(aes(x = Informovanosť , fill = as.factor(Vyber))) +   #reorder(TypNadoru, velkost, FUN = median)\n",
    "        geom_bar(position = \"fill\") + \n",
    "        stat_fill_labels() + \n",
    "        labs(x = \"Informovanosť\", \n",
    "             y = \"Podiel odpovedí [%]\", \n",
    "             title = glue(\"Rozdelenie odpovedí podĺa informovanosti pre: Dlhodobé (5 a viac rokov)\"), \n",
    "             fill = \"Zaznačil odpoveď\") + \n",
    "        theme_bw() + \n",
    "        geom_text(stat = \"fill_labels\", col = \"white\") +   #geom_text(stat = \"fill_labels\") + \n",
    "        #scale_y_continuous(labels = scales::percent_format)# + \n",
    "        theme(axis.text.x = element_text(angle = 45, hjust = 1))"
   ]
  },
  {
   "cell_type": "code",
   "execution_count": 293,
   "metadata": {},
   "outputs": [
    {
     "data": {},
     "metadata": {},
     "output_type": "display_data"
    },
    {
     "data": {
      "image/png": "[encoded data removed]",
      "text/plain": [
       "plot without title"
      ]
     },
     "metadata": {},
     "output_type": "display_data",
     "source": "R display func"
    }
   ],
   "source": [
    "data_gather %>% filter(Horizont == \"Dlhodobé (5 a viac rokov)\") %>% mutate(fl_zaznacil = ifelse(Vyber == \"Áno\", 1, 0)) %>% \n",
    "        ggplot(aes(x = Informovanosť , fill = as.factor(Vyber))) +   #reorder(TypNadoru, velkost, FUN = median)\n",
    "        geom_bar(position = \"dodge\") + \n",
    "        #stat_fill_labels() + \n",
    "        labs(x = \"Informovanosť\", \n",
    "             y = \"Počet odpovedí\", \n",
    "             title = glue(\"Rozdelenie odpovedí podĺa informovanosti pre: Dlhodobé (5 a viac rokov)\"), \n",
    "             fill = \"Zaznačil odpoveď\") + \n",
    "        theme_bw() + \n",
    "        #geom_text(stat = \"fill_labels\", col = \"white\") +   #geom_text(stat = \"fill_labels\") + \n",
    "        scale_y_continuous(breaks = 0:10) + \n",
    "        theme(axis.text.x = element_text(angle = 45, hjust = 1))"
   ]
  },
  {
   "cell_type": "markdown",
   "metadata": {},
   "source": [
    "<b> Testovanie </b>"
   ]
  },
  {
   "cell_type": "code",
   "execution_count": 294,
   "metadata": {},
   "outputs": [],
   "source": [
    "df_test <- data_gather %>% \n",
    "    mutate(fl_zaznacil = ifelse(Vyber == \"Áno\", 1, 0)) %>% \n",
    "    filter(Horizont == \"Dlhodobé (5 a viac rokov)\") %>% \n",
    "    select(Informovanosť,Vyber,fl_zaznacil)"
   ]
  },
  {
   "cell_type": "markdown",
   "metadata": {},
   "source": [
    "$H_0:$ Vnímanie existencie <b> dlhodobých </b> strategických plánov v spoločnosti  HBP a.s. je rovnaké z hľadiska dosiahnutého stupňa informovanosti zamestnancov\n",
    "\n",
    "$H_1:$ Vnímanie existencie <b> dlhodobých </b> strategických plánov v spoločnosti  HBP a.s. je rozdielne z hľadiska dosiahnutého stupňa informovanosti zamestnancov"
   ]
  },
  {
   "cell_type": "code",
   "execution_count": 295,
   "metadata": {},
   "outputs": [
    {
     "data": {
      "text/plain": [
       "\n",
       "\tKruskal-Wallis rank sum test\n",
       "\n",
       "data:  df_test$Vyber and df_test$Informovanosť\n",
       "Kruskal-Wallis chi-squared = 6.2308, df = 3, p-value = 0.1009\n"
      ]
     },
     "metadata": {},
     "output_type": "display_data"
    }
   ],
   "source": [
    "kruskal.test(x = df_test$Vyber, g = df_test$Informovanosť)"
   ]
  },
  {
   "cell_type": "code",
   "execution_count": 296,
   "metadata": {},
   "outputs": [],
   "source": [
    "#kruskal.test(x = df_test$fl_zaznacil, g = df_test$Informovanosť)"
   ]
  },
  {
   "cell_type": "markdown",
   "metadata": {},
   "source": [
    "<b> Výsledok testu </b>"
   ]
  },
  {
   "cell_type": "markdown",
   "metadata": {},
   "source": [
    "Hypotézu $H_0$ <b> nezamietame </b> na hladine významnosti 5% s p-value = 10,09 %. Vnímanie existencie krátkodobých strategických plánov v spoločnosti HBP a.s. z hľadiska dosiahnutého stupňa informovanosti zamestnancov sa <b> nepreukázalo </b> byť význmane odlišné."
   ]
  },
  {
   "cell_type": "markdown",
   "metadata": {},
   "source": [
    "<b> Vzájomné porovnanie dvojíc stupňov informovanosti </b>"
   ]
  },
  {
   "cell_type": "code",
   "execution_count": 297,
   "metadata": {},
   "outputs": [
    {
     "data": {
      "text/plain": [
       "\n",
       "\tPairwise comparisons using Wilcoxon rank sum test \n",
       "\n",
       "data:  df_test$fl_zaznacil and df_test$Informovanosť \n",
       "\n",
       "                                 Áno, dostatočne Áno, ale mohla by viac\n",
       "Áno, ale mohla by viac           -               -                     \n",
       "Nie, mala by informovať viac     0.097           0.141                 \n",
       "Nie, ale nepovažujem za dôležité -               -                     \n",
       "                                 Nie, mala by informovať viac\n",
       "Áno, ale mohla by viac           -                           \n",
       "Nie, mala by informovať viac     -                           \n",
       "Nie, ale nepovažujem za dôležité 0.413                       \n",
       "\n",
       "P value adjustment method: none "
      ]
     },
     "metadata": {},
     "output_type": "display_data"
    }
   ],
   "source": [
    "pairwise.wilcox.test(x = df_test$fl_zaznacil, g = df_test$Informovanosť, p.adjust.method = \"none\", exact = FALSE) # BH"
   ]
  },
  {
   "cell_type": "markdown",
   "metadata": {},
   "source": [
    "<b> Výsledok porovnania dvojíc stupňov informovanosti </b>"
   ]
  },
  {
   "cell_type": "markdown",
   "metadata": {},
   "source": [
    "Nepreukázal sa štatisticky významný rozdiel medzi  dvojicami informovanosti pri dlhodobom planovaní:"
   ]
  },
  {
   "cell_type": "code",
   "execution_count": null,
   "metadata": {},
   "outputs": [],
   "source": []
  },
  {
   "cell_type": "code",
   "execution_count": null,
   "metadata": {},
   "outputs": [],
   "source": []
  },
  {
   "cell_type": "markdown",
   "metadata": {},
   "source": [
    "## Hypotéza 3"
   ]
  },
  {
   "cell_type": "markdown",
   "metadata": {},
   "source": [
    "Nulová hypotéza H0: Predpokladáme, že neexistuje štatisticky významný rozdiel vo vnímaní analytických metód využívaných spoločnosťou  HBP a.s.z hľadiska funkcie, ktorú zamestnanci v spoločnosti zastávajú.\n",
    "\n",
    "Alternatívna hypotéza H1: Predpokladáme, že existuje štatisticky významný rozdiel vo vnímaní analytických metód využívaných spoločnosťou  HBP a.s. z hľadiska funkcie, ktorú zamestnanci v spoločnosti zastávajú.\n",
    "\n"
   ]
  },
  {
   "cell_type": "markdown",
   "metadata": {},
   "source": [
    "#### Načítanie, úprava a pohľad na dáta"
   ]
  },
  {
   "cell_type": "code",
   "execution_count": 298,
   "metadata": {},
   "outputs": [],
   "source": [
    "data <- readxl::read_excel(\"data.xlsx\", sheet = \"Hypoteza3\")"
   ]
  },
  {
   "cell_type": "markdown",
   "metadata": {},
   "source": [
    "<b> ŠTATISTIKY AJ S REPSONDENTAMI, KTORI NEVEDIA POSÚDIŤ </b>"
   ]
  },
  {
   "cell_type": "code",
   "execution_count": 299,
   "metadata": {},
   "outputs": [
    {
     "data": {
      "text/html": [
       "<table>\n",
       "<thead><tr><th scope=col>Pracovná funkcia</th><th scope=col>Metoda</th><th scope=col>Pocet</th><th scope=col>Zaznacilo</th><th scope=col>Nezaznacilo</th><th scope=col>NevediaPosudit</th><th scope=col>Pomer zaznačených</th><th scope=col>Pomer zaznačených pri tých čo vedia posúdiť</th><th scope=col>Pomer tých, čo nevedia posúdiť</th></tr></thead>\n",
       "<tbody>\n",
       "\t<tr><td>manažér                               </td><td>BCG maticu                            </td><td> 2                                    </td><td> 0                                    </td><td>  2                                   </td><td> 0                                    </td><td>0 %                                   </td><td>0 %                                   </td><td>0 %                                   </td></tr>\n",
       "\t<tr><td>rádový TH zamestnanec (administratíva)</td><td>BCG maticu                            </td><td>12                                    </td><td> 0                                    </td><td>  8                                   </td><td> 4                                    </td><td>0 %                                   </td><td>0 %                                   </td><td>33.33 %                               </td></tr>\n",
       "\t<tr><td>rádový zamestnanec                    </td><td>BCG maticu                            </td><td>18                                    </td><td> 0                                    </td><td>  0                                   </td><td>18                                    </td><td>0 %                                   </td><td>NaN %                                 </td><td>100 %                                 </td></tr>\n",
       "\t<tr><td>vedúci úseku                          </td><td>BCG maticu                            </td><td> 7                                    </td><td> 3                                    </td><td>  2                                   </td><td> 2                                    </td><td>42.86 %                               </td><td>60 %                                  </td><td>28.57 %                               </td></tr>\n",
       "\t<tr><td>manažér                               </td><td>Finančné analýzy                      </td><td> 2                                    </td><td> 2                                    </td><td>  0                                   </td><td> 0                                    </td><td>100 %                                 </td><td>100 %                                 </td><td>0 %                                   </td></tr>\n",
       "\t<tr><td>rádový TH zamestnanec (administratíva)</td><td>Finančné analýzy                      </td><td>12                                    </td><td> 8                                    </td><td>  0                                   </td><td> 4                                    </td><td>66.67 %                               </td><td>100 %                                 </td><td>33.33 %                               </td></tr>\n",
       "\t<tr><td>rádový zamestnanec                    </td><td>Finančné analýzy                      </td><td>18                                    </td><td> 0                                    </td><td>  0                                   </td><td>18                                    </td><td>0 %                                   </td><td>NaN %                                 </td><td>100 %                                 </td></tr>\n",
       "\t<tr><td>vedúci úseku                          </td><td>Finančné analýzy                      </td><td> 7                                    </td><td> 4                                    </td><td>  1                                   </td><td> 2                                    </td><td>57.14 %                               </td><td>80 %                                  </td><td>28.57 %                               </td></tr>\n",
       "\t<tr><td>manažér                               </td><td>Iné                                   </td><td> 2                                    </td><td> 0                                    </td><td>  2                                   </td><td> 0                                    </td><td>0 %                                   </td><td>0 %                                   </td><td>0 %                                   </td></tr>\n",
       "\t<tr><td>rádový TH zamestnanec (administratíva)</td><td>Iné                                   </td><td>12                                    </td><td> 0                                    </td><td>  8                                   </td><td> 4                                    </td><td>0 %                                   </td><td>0 %                                   </td><td>33.33 %                               </td></tr>\n",
       "\t<tr><td>rádový zamestnanec                    </td><td>Iné                                   </td><td>18                                    </td><td> 0                                    </td><td>  0                                   </td><td>18                                    </td><td>0 %                                   </td><td>NaN %                                 </td><td>100 %                                 </td></tr>\n",
       "\t<tr><td>vedúci úseku                          </td><td>Iné                                   </td><td> 7                                    </td><td> 0                                    </td><td>  5                                   </td><td> 2                                    </td><td>0 %                                   </td><td>0 %                                   </td><td>28.57 %                               </td></tr>\n",
       "\t<tr><td>manažér                               </td><td>Metódu 7S                             </td><td> 2                                    </td><td> 0                                    </td><td>  2                                   </td><td> 0                                    </td><td>0 %                                   </td><td>0 %                                   </td><td>0 %                                   </td></tr>\n",
       "\t<tr><td>rádový TH zamestnanec (administratíva)</td><td>Metódu 7S                             </td><td>12                                    </td><td> 0                                    </td><td>  8                                   </td><td> 4                                    </td><td>0 %                                   </td><td>0 %                                   </td><td>33.33 %                               </td></tr>\n",
       "\t<tr><td>rádový zamestnanec                    </td><td>Metódu 7S                             </td><td>18                                    </td><td> 0                                    </td><td>  0                                   </td><td>18                                    </td><td>0 %                                   </td><td>NaN %                                 </td><td>100 %                                 </td></tr>\n",
       "\t<tr><td>vedúci úseku                          </td><td>Metódu 7S                             </td><td> 7                                    </td><td> 1                                    </td><td>  4                                   </td><td> 2                                    </td><td>14.29 %                               </td><td>20 %                                  </td><td>28.57 %                               </td></tr>\n",
       "\t<tr><td>manažér                               </td><td>Neviem posúdiť                        </td><td> 2                                    </td><td> 0                                    </td><td>  2                                   </td><td> 0                                    </td><td>0 %                                   </td><td>0 %                                   </td><td>0 %                                   </td></tr>\n",
       "\t<tr><td>rádový TH zamestnanec (administratíva)</td><td>Neviem posúdiť                        </td><td>12                                    </td><td> 4                                    </td><td>  4                                   </td><td> 4                                    </td><td>33.33 %                               </td><td>50 %                                  </td><td>33.33 %                               </td></tr>\n",
       "\t<tr><td>rádový zamestnanec                    </td><td>Neviem posúdiť                        </td><td>18                                    </td><td>18                                    </td><td>-18                                   </td><td>18                                    </td><td>100 %                                 </td><td>Inf %                                 </td><td>100 %                                 </td></tr>\n",
       "\t<tr><td>vedúci úseku                          </td><td>Neviem posúdiť                        </td><td> 7                                    </td><td> 2                                    </td><td>  3                                   </td><td> 2                                    </td><td>28.57 %                               </td><td>40 %                                  </td><td>28.57 %                               </td></tr>\n",
       "\t<tr><td>manažér                               </td><td>PEST analýzu                          </td><td> 2                                    </td><td> 2                                    </td><td>  0                                   </td><td> 0                                    </td><td>100 %                                 </td><td>100 %                                 </td><td>0 %                                   </td></tr>\n",
       "\t<tr><td>rádový TH zamestnanec (administratíva)</td><td>PEST analýzu                          </td><td>12                                    </td><td> 3                                    </td><td>  5                                   </td><td> 4                                    </td><td>25 %                                  </td><td>37.5 %                                </td><td>33.33 %                               </td></tr>\n",
       "\t<tr><td>rádový zamestnanec                    </td><td>PEST analýzu                          </td><td>18                                    </td><td> 0                                    </td><td>  0                                   </td><td>18                                    </td><td>0 %                                   </td><td>NaN %                                 </td><td>100 %                                 </td></tr>\n",
       "\t<tr><td>vedúci úseku                          </td><td>PEST analýzu                          </td><td> 7                                    </td><td> 4                                    </td><td>  1                                   </td><td> 2                                    </td><td>57.14 %                               </td><td>80 %                                  </td><td>28.57 %                               </td></tr>\n",
       "\t<tr><td>manažér                               </td><td>Porterov model piatich síl            </td><td> 2                                    </td><td> 0                                    </td><td>  2                                   </td><td> 0                                    </td><td>0 %                                   </td><td>0 %                                   </td><td>0 %                                   </td></tr>\n",
       "\t<tr><td>rádový TH zamestnanec (administratíva)</td><td>Porterov model piatich síl            </td><td>12                                    </td><td> 0                                    </td><td>  8                                   </td><td> 4                                    </td><td>0 %                                   </td><td>0 %                                   </td><td>33.33 %                               </td></tr>\n",
       "\t<tr><td>rádový zamestnanec                    </td><td>Porterov model piatich síl            </td><td>18                                    </td><td> 0                                    </td><td>  0                                   </td><td>18                                    </td><td>0 %                                   </td><td>NaN %                                 </td><td>100 %                                 </td></tr>\n",
       "\t<tr><td>vedúci úseku                          </td><td>Porterov model piatich síl            </td><td> 7                                    </td><td> 2                                    </td><td>  3                                   </td><td> 2                                    </td><td>28.57 %                               </td><td>40 %                                  </td><td>28.57 %                               </td></tr>\n",
       "\t<tr><td>manažér                               </td><td>SPACE analýzu                         </td><td> 2                                    </td><td> 0                                    </td><td>  2                                   </td><td> 0                                    </td><td>0 %                                   </td><td>0 %                                   </td><td>0 %                                   </td></tr>\n",
       "\t<tr><td>rádový TH zamestnanec (administratíva)</td><td>SPACE analýzu                         </td><td>12                                    </td><td> 0                                    </td><td>  8                                   </td><td> 4                                    </td><td>0 %                                   </td><td>0 %                                   </td><td>33.33 %                               </td></tr>\n",
       "\t<tr><td>rádový zamestnanec                    </td><td>SPACE analýzu                         </td><td>18                                    </td><td> 0                                    </td><td>  0                                   </td><td>18                                    </td><td>0 %                                   </td><td>NaN %                                 </td><td>100 %                                 </td></tr>\n",
       "\t<tr><td>vedúci úseku                          </td><td>SPACE analýzu                         </td><td> 7                                    </td><td> 2                                    </td><td>  3                                   </td><td> 2                                    </td><td>28.57 %                               </td><td>40 %                                  </td><td>28.57 %                               </td></tr>\n",
       "\t<tr><td>manažér                               </td><td>SWOT analýzu                          </td><td> 2                                    </td><td> 2                                    </td><td>  0                                   </td><td> 0                                    </td><td>100 %                                 </td><td>100 %                                 </td><td>0 %                                   </td></tr>\n",
       "\t<tr><td>rádový TH zamestnanec (administratíva)</td><td>SWOT analýzu                          </td><td>12                                    </td><td> 5                                    </td><td>  3                                   </td><td> 4                                    </td><td>41.67 %                               </td><td>62.5 %                                </td><td>33.33 %                               </td></tr>\n",
       "\t<tr><td>rádový zamestnanec                    </td><td>SWOT analýzu                          </td><td>18                                    </td><td> 0                                    </td><td>  0                                   </td><td>18                                    </td><td>0 %                                   </td><td>NaN %                                 </td><td>100 %                                 </td></tr>\n",
       "\t<tr><td>vedúci úseku                          </td><td>SWOT analýzu                          </td><td> 7                                    </td><td> 4                                    </td><td>  1                                   </td><td> 2                                    </td><td>57.14 %                               </td><td>80 %                                  </td><td>28.57 %                               </td></tr>\n",
       "</tbody>\n",
       "</table>\n"
      ],
      "text/latex": [
       "\\begin{tabular}{r|lllllllll}\n",
       " Pracovná funkcia & Metoda & Pocet & Zaznacilo & Nezaznacilo & NevediaPosudit & Pomer zaznačených & Pomer zaznačených pri tých čo vedia posúdiť & Pomer tých, čo nevedia posúdiť\\\\\n",
       "\\hline\n",
       "\t manažér                                & BCG maticu                             &  2                                     &  0                                     &   2                                    &  0                                     & 0 \\%                                  & 0 \\%                                  & 0 \\%                                 \\\\\n",
       "\t rádový TH zamestnanec (administratíva) & BCG maticu                             & 12                                     &  0                                     &   8                                    &  4                                     & 0 \\%                                  & 0 \\%                                  & 33.33 \\%                             \\\\\n",
       "\t rádový zamestnanec                     & BCG maticu                             & 18                                     &  0                                     &   0                                    & 18                                     & 0 \\%                                  & NaN \\%                                & 100 \\%                               \\\\\n",
       "\t vedúci úseku                           & BCG maticu                             &  7                                     &  3                                     &   2                                    &  2                                     & 42.86 \\%                              & 60 \\%                                 & 28.57 \\%                             \\\\\n",
       "\t manažér                                & Finančné analýzy                       &  2                                     &  2                                     &   0                                    &  0                                     & 100 \\%                                & 100 \\%                                & 0 \\%                                 \\\\\n",
       "\t rádový TH zamestnanec (administratíva) & Finančné analýzy                       & 12                                     &  8                                     &   0                                    &  4                                     & 66.67 \\%                              & 100 \\%                                & 33.33 \\%                             \\\\\n",
       "\t rádový zamestnanec                     & Finančné analýzy                       & 18                                     &  0                                     &   0                                    & 18                                     & 0 \\%                                  & NaN \\%                                & 100 \\%                               \\\\\n",
       "\t vedúci úseku                           & Finančné analýzy                       &  7                                     &  4                                     &   1                                    &  2                                     & 57.14 \\%                              & 80 \\%                                 & 28.57 \\%                             \\\\\n",
       "\t manažér                                & Iné                                    &  2                                     &  0                                     &   2                                    &  0                                     & 0 \\%                                  & 0 \\%                                  & 0 \\%                                 \\\\\n",
       "\t rádový TH zamestnanec (administratíva) & Iné                                    & 12                                     &  0                                     &   8                                    &  4                                     & 0 \\%                                  & 0 \\%                                  & 33.33 \\%                             \\\\\n",
       "\t rádový zamestnanec                     & Iné                                    & 18                                     &  0                                     &   0                                    & 18                                     & 0 \\%                                  & NaN \\%                                & 100 \\%                               \\\\\n",
       "\t vedúci úseku                           & Iné                                    &  7                                     &  0                                     &   5                                    &  2                                     & 0 \\%                                  & 0 \\%                                  & 28.57 \\%                             \\\\\n",
       "\t manažér                                & Metódu 7S                              &  2                                     &  0                                     &   2                                    &  0                                     & 0 \\%                                  & 0 \\%                                  & 0 \\%                                 \\\\\n",
       "\t rádový TH zamestnanec (administratíva) & Metódu 7S                              & 12                                     &  0                                     &   8                                    &  4                                     & 0 \\%                                  & 0 \\%                                  & 33.33 \\%                             \\\\\n",
       "\t rádový zamestnanec                     & Metódu 7S                              & 18                                     &  0                                     &   0                                    & 18                                     & 0 \\%                                  & NaN \\%                                & 100 \\%                               \\\\\n",
       "\t vedúci úseku                           & Metódu 7S                              &  7                                     &  1                                     &   4                                    &  2                                     & 14.29 \\%                              & 20 \\%                                 & 28.57 \\%                             \\\\\n",
       "\t manažér                                & Neviem posúdiť                         &  2                                     &  0                                     &   2                                    &  0                                     & 0 \\%                                  & 0 \\%                                  & 0 \\%                                 \\\\\n",
       "\t rádový TH zamestnanec (administratíva) & Neviem posúdiť                         & 12                                     &  4                                     &   4                                    &  4                                     & 33.33 \\%                              & 50 \\%                                 & 33.33 \\%                             \\\\\n",
       "\t rádový zamestnanec                     & Neviem posúdiť                         & 18                                     & 18                                     & -18                                    & 18                                     & 100 \\%                                & Inf \\%                                & 100 \\%                               \\\\\n",
       "\t vedúci úseku                           & Neviem posúdiť                         &  7                                     &  2                                     &   3                                    &  2                                     & 28.57 \\%                              & 40 \\%                                 & 28.57 \\%                             \\\\\n",
       "\t manažér                                & PEST analýzu                           &  2                                     &  2                                     &   0                                    &  0                                     & 100 \\%                                & 100 \\%                                & 0 \\%                                 \\\\\n",
       "\t rádový TH zamestnanec (administratíva) & PEST analýzu                           & 12                                     &  3                                     &   5                                    &  4                                     & 25 \\%                                 & 37.5 \\%                               & 33.33 \\%                             \\\\\n",
       "\t rádový zamestnanec                     & PEST analýzu                           & 18                                     &  0                                     &   0                                    & 18                                     & 0 \\%                                  & NaN \\%                                & 100 \\%                               \\\\\n",
       "\t vedúci úseku                           & PEST analýzu                           &  7                                     &  4                                     &   1                                    &  2                                     & 57.14 \\%                              & 80 \\%                                 & 28.57 \\%                             \\\\\n",
       "\t manažér                                & Porterov model piatich síl             &  2                                     &  0                                     &   2                                    &  0                                     & 0 \\%                                  & 0 \\%                                  & 0 \\%                                 \\\\\n",
       "\t rádový TH zamestnanec (administratíva) & Porterov model piatich síl             & 12                                     &  0                                     &   8                                    &  4                                     & 0 \\%                                  & 0 \\%                                  & 33.33 \\%                             \\\\\n",
       "\t rádový zamestnanec                     & Porterov model piatich síl             & 18                                     &  0                                     &   0                                    & 18                                     & 0 \\%                                  & NaN \\%                                & 100 \\%                               \\\\\n",
       "\t vedúci úseku                           & Porterov model piatich síl             &  7                                     &  2                                     &   3                                    &  2                                     & 28.57 \\%                              & 40 \\%                                 & 28.57 \\%                             \\\\\n",
       "\t manažér                                & SPACE analýzu                          &  2                                     &  0                                     &   2                                    &  0                                     & 0 \\%                                  & 0 \\%                                  & 0 \\%                                 \\\\\n",
       "\t rádový TH zamestnanec (administratíva) & SPACE analýzu                          & 12                                     &  0                                     &   8                                    &  4                                     & 0 \\%                                  & 0 \\%                                  & 33.33 \\%                             \\\\\n",
       "\t rádový zamestnanec                     & SPACE analýzu                          & 18                                     &  0                                     &   0                                    & 18                                     & 0 \\%                                  & NaN \\%                                & 100 \\%                               \\\\\n",
       "\t vedúci úseku                           & SPACE analýzu                          &  7                                     &  2                                     &   3                                    &  2                                     & 28.57 \\%                              & 40 \\%                                 & 28.57 \\%                             \\\\\n",
       "\t manažér                                & SWOT analýzu                           &  2                                     &  2                                     &   0                                    &  0                                     & 100 \\%                                & 100 \\%                                & 0 \\%                                 \\\\\n",
       "\t rádový TH zamestnanec (administratíva) & SWOT analýzu                           & 12                                     &  5                                     &   3                                    &  4                                     & 41.67 \\%                              & 62.5 \\%                               & 33.33 \\%                             \\\\\n",
       "\t rádový zamestnanec                     & SWOT analýzu                           & 18                                     &  0                                     &   0                                    & 18                                     & 0 \\%                                  & NaN \\%                                & 100 \\%                               \\\\\n",
       "\t vedúci úseku                           & SWOT analýzu                           &  7                                     &  4                                     &   1                                    &  2                                     & 57.14 \\%                              & 80 \\%                                 & 28.57 \\%                             \\\\\n",
       "\\end{tabular}\n"
      ],
      "text/markdown": [
       "\n",
       "Pracovná funkcia | Metoda | Pocet | Zaznacilo | Nezaznacilo | NevediaPosudit | Pomer zaznačených | Pomer zaznačených pri tých čo vedia posúdiť | Pomer tých, čo nevedia posúdiť | \n",
       "|---|---|---|---|---|---|---|---|---|---|---|---|---|---|---|---|---|---|---|---|---|---|---|---|---|---|---|---|---|---|---|---|---|---|---|---|\n",
       "| manažér                                | BCG maticu                             |  2                                     |  0                                     |   2                                    |  0                                     | 0 %                                    | 0 %                                    | 0 %                                    | \n",
       "| rádový TH zamestnanec (administratíva) | BCG maticu                             | 12                                     |  0                                     |   8                                    |  4                                     | 0 %                                    | 0 %                                    | 33.33 %                                | \n",
       "| rádový zamestnanec                     | BCG maticu                             | 18                                     |  0                                     |   0                                    | 18                                     | 0 %                                    | NaN %                                  | 100 %                                  | \n",
       "| vedúci úseku                           | BCG maticu                             |  7                                     |  3                                     |   2                                    |  2                                     | 42.86 %                                | 60 %                                   | 28.57 %                                | \n",
       "| manažér                                | Finančné analýzy                       |  2                                     |  2                                     |   0                                    |  0                                     | 100 %                                  | 100 %                                  | 0 %                                    | \n",
       "| rádový TH zamestnanec (administratíva) | Finančné analýzy                       | 12                                     |  8                                     |   0                                    |  4                                     | 66.67 %                                | 100 %                                  | 33.33 %                                | \n",
       "| rádový zamestnanec                     | Finančné analýzy                       | 18                                     |  0                                     |   0                                    | 18                                     | 0 %                                    | NaN %                                  | 100 %                                  | \n",
       "| vedúci úseku                           | Finančné analýzy                       |  7                                     |  4                                     |   1                                    |  2                                     | 57.14 %                                | 80 %                                   | 28.57 %                                | \n",
       "| manažér                                | Iné                                    |  2                                     |  0                                     |   2                                    |  0                                     | 0 %                                    | 0 %                                    | 0 %                                    | \n",
       "| rádový TH zamestnanec (administratíva) | Iné                                    | 12                                     |  0                                     |   8                                    |  4                                     | 0 %                                    | 0 %                                    | 33.33 %                                | \n",
       "| rádový zamestnanec                     | Iné                                    | 18                                     |  0                                     |   0                                    | 18                                     | 0 %                                    | NaN %                                  | 100 %                                  | \n",
       "| vedúci úseku                           | Iné                                    |  7                                     |  0                                     |   5                                    |  2                                     | 0 %                                    | 0 %                                    | 28.57 %                                | \n",
       "| manažér                                | Metódu 7S                              |  2                                     |  0                                     |   2                                    |  0                                     | 0 %                                    | 0 %                                    | 0 %                                    | \n",
       "| rádový TH zamestnanec (administratíva) | Metódu 7S                              | 12                                     |  0                                     |   8                                    |  4                                     | 0 %                                    | 0 %                                    | 33.33 %                                | \n",
       "| rádový zamestnanec                     | Metódu 7S                              | 18                                     |  0                                     |   0                                    | 18                                     | 0 %                                    | NaN %                                  | 100 %                                  | \n",
       "| vedúci úseku                           | Metódu 7S                              |  7                                     |  1                                     |   4                                    |  2                                     | 14.29 %                                | 20 %                                   | 28.57 %                                | \n",
       "| manažér                                | Neviem posúdiť                         |  2                                     |  0                                     |   2                                    |  0                                     | 0 %                                    | 0 %                                    | 0 %                                    | \n",
       "| rádový TH zamestnanec (administratíva) | Neviem posúdiť                         | 12                                     |  4                                     |   4                                    |  4                                     | 33.33 %                                | 50 %                                   | 33.33 %                                | \n",
       "| rádový zamestnanec                     | Neviem posúdiť                         | 18                                     | 18                                     | -18                                    | 18                                     | 100 %                                  | Inf %                                  | 100 %                                  | \n",
       "| vedúci úseku                           | Neviem posúdiť                         |  7                                     |  2                                     |   3                                    |  2                                     | 28.57 %                                | 40 %                                   | 28.57 %                                | \n",
       "| manažér                                | PEST analýzu                           |  2                                     |  2                                     |   0                                    |  0                                     | 100 %                                  | 100 %                                  | 0 %                                    | \n",
       "| rádový TH zamestnanec (administratíva) | PEST analýzu                           | 12                                     |  3                                     |   5                                    |  4                                     | 25 %                                   | 37.5 %                                 | 33.33 %                                | \n",
       "| rádový zamestnanec                     | PEST analýzu                           | 18                                     |  0                                     |   0                                    | 18                                     | 0 %                                    | NaN %                                  | 100 %                                  | \n",
       "| vedúci úseku                           | PEST analýzu                           |  7                                     |  4                                     |   1                                    |  2                                     | 57.14 %                                | 80 %                                   | 28.57 %                                | \n",
       "| manažér                                | Porterov model piatich síl             |  2                                     |  0                                     |   2                                    |  0                                     | 0 %                                    | 0 %                                    | 0 %                                    | \n",
       "| rádový TH zamestnanec (administratíva) | Porterov model piatich síl             | 12                                     |  0                                     |   8                                    |  4                                     | 0 %                                    | 0 %                                    | 33.33 %                                | \n",
       "| rádový zamestnanec                     | Porterov model piatich síl             | 18                                     |  0                                     |   0                                    | 18                                     | 0 %                                    | NaN %                                  | 100 %                                  | \n",
       "| vedúci úseku                           | Porterov model piatich síl             |  7                                     |  2                                     |   3                                    |  2                                     | 28.57 %                                | 40 %                                   | 28.57 %                                | \n",
       "| manažér                                | SPACE analýzu                          |  2                                     |  0                                     |   2                                    |  0                                     | 0 %                                    | 0 %                                    | 0 %                                    | \n",
       "| rádový TH zamestnanec (administratíva) | SPACE analýzu                          | 12                                     |  0                                     |   8                                    |  4                                     | 0 %                                    | 0 %                                    | 33.33 %                                | \n",
       "| rádový zamestnanec                     | SPACE analýzu                          | 18                                     |  0                                     |   0                                    | 18                                     | 0 %                                    | NaN %                                  | 100 %                                  | \n",
       "| vedúci úseku                           | SPACE analýzu                          |  7                                     |  2                                     |   3                                    |  2                                     | 28.57 %                                | 40 %                                   | 28.57 %                                | \n",
       "| manažér                                | SWOT analýzu                           |  2                                     |  2                                     |   0                                    |  0                                     | 100 %                                  | 100 %                                  | 0 %                                    | \n",
       "| rádový TH zamestnanec (administratíva) | SWOT analýzu                           | 12                                     |  5                                     |   3                                    |  4                                     | 41.67 %                                | 62.5 %                                 | 33.33 %                                | \n",
       "| rádový zamestnanec                     | SWOT analýzu                           | 18                                     |  0                                     |   0                                    | 18                                     | 0 %                                    | NaN %                                  | 100 %                                  | \n",
       "| vedúci úseku                           | SWOT analýzu                           |  7                                     |  4                                     |   1                                    |  2                                     | 57.14 %                                | 80 %                                   | 28.57 %                                | \n",
       "\n",
       "\n"
      ],
      "text/plain": [
       "   Pracovná funkcia                       Metoda                     Pocet\n",
       "1  manažér                                BCG maticu                  2   \n",
       "2  rádový TH zamestnanec (administratíva) BCG maticu                 12   \n",
       "3  rádový zamestnanec                     BCG maticu                 18   \n",
       "4  vedúci úseku                           BCG maticu                  7   \n",
       "5  manažér                                Finančné analýzy            2   \n",
       "6  rádový TH zamestnanec (administratíva) Finančné analýzy           12   \n",
       "7  rádový zamestnanec                     Finančné analýzy           18   \n",
       "8  vedúci úseku                           Finančné analýzy            7   \n",
       "9  manažér                                Iné                         2   \n",
       "10 rádový TH zamestnanec (administratíva) Iné                        12   \n",
       "11 rádový zamestnanec                     Iné                        18   \n",
       "12 vedúci úseku                           Iné                         7   \n",
       "13 manažér                                Metódu 7S                   2   \n",
       "14 rádový TH zamestnanec (administratíva) Metódu 7S                  12   \n",
       "15 rádový zamestnanec                     Metódu 7S                  18   \n",
       "16 vedúci úseku                           Metódu 7S                   7   \n",
       "17 manažér                                Neviem posúdiť              2   \n",
       "18 rádový TH zamestnanec (administratíva) Neviem posúdiť             12   \n",
       "19 rádový zamestnanec                     Neviem posúdiť             18   \n",
       "20 vedúci úseku                           Neviem posúdiť              7   \n",
       "21 manažér                                PEST analýzu                2   \n",
       "22 rádový TH zamestnanec (administratíva) PEST analýzu               12   \n",
       "23 rádový zamestnanec                     PEST analýzu               18   \n",
       "24 vedúci úseku                           PEST analýzu                7   \n",
       "25 manažér                                Porterov model piatich síl  2   \n",
       "26 rádový TH zamestnanec (administratíva) Porterov model piatich síl 12   \n",
       "27 rádový zamestnanec                     Porterov model piatich síl 18   \n",
       "28 vedúci úseku                           Porterov model piatich síl  7   \n",
       "29 manažér                                SPACE analýzu               2   \n",
       "30 rádový TH zamestnanec (administratíva) SPACE analýzu              12   \n",
       "31 rádový zamestnanec                     SPACE analýzu              18   \n",
       "32 vedúci úseku                           SPACE analýzu               7   \n",
       "33 manažér                                SWOT analýzu                2   \n",
       "34 rádový TH zamestnanec (administratíva) SWOT analýzu               12   \n",
       "35 rádový zamestnanec                     SWOT analýzu               18   \n",
       "36 vedúci úseku                           SWOT analýzu                7   \n",
       "   Zaznacilo Nezaznacilo NevediaPosudit Pomer zaznačených\n",
       "1   0          2          0             0 %              \n",
       "2   0          8          4             0 %              \n",
       "3   0          0         18             0 %              \n",
       "4   3          2          2             42.86 %          \n",
       "5   2          0          0             100 %            \n",
       "6   8          0          4             66.67 %          \n",
       "7   0          0         18             0 %              \n",
       "8   4          1          2             57.14 %          \n",
       "9   0          2          0             0 %              \n",
       "10  0          8          4             0 %              \n",
       "11  0          0         18             0 %              \n",
       "12  0          5          2             0 %              \n",
       "13  0          2          0             0 %              \n",
       "14  0          8          4             0 %              \n",
       "15  0          0         18             0 %              \n",
       "16  1          4          2             14.29 %          \n",
       "17  0          2          0             0 %              \n",
       "18  4          4          4             33.33 %          \n",
       "19 18        -18         18             100 %            \n",
       "20  2          3          2             28.57 %          \n",
       "21  2          0          0             100 %            \n",
       "22  3          5          4             25 %             \n",
       "23  0          0         18             0 %              \n",
       "24  4          1          2             57.14 %          \n",
       "25  0          2          0             0 %              \n",
       "26  0          8          4             0 %              \n",
       "27  0          0         18             0 %              \n",
       "28  2          3          2             28.57 %          \n",
       "29  0          2          0             0 %              \n",
       "30  0          8          4             0 %              \n",
       "31  0          0         18             0 %              \n",
       "32  2          3          2             28.57 %          \n",
       "33  2          0          0             100 %            \n",
       "34  5          3          4             41.67 %          \n",
       "35  0          0         18             0 %              \n",
       "36  4          1          2             57.14 %          \n",
       "   Pomer zaznačených pri tých čo vedia posúdiť Pomer tých, čo nevedia posúdiť\n",
       "1  0 %                                         0 %                           \n",
       "2  0 %                                         33.33 %                       \n",
       "3  NaN %                                       100 %                         \n",
       "4  60 %                                        28.57 %                       \n",
       "5  100 %                                       0 %                           \n",
       "6  100 %                                       33.33 %                       \n",
       "7  NaN %                                       100 %                         \n",
       "8  80 %                                        28.57 %                       \n",
       "9  0 %                                         0 %                           \n",
       "10 0 %                                         33.33 %                       \n",
       "11 NaN %                                       100 %                         \n",
       "12 0 %                                         28.57 %                       \n",
       "13 0 %                                         0 %                           \n",
       "14 0 %                                         33.33 %                       \n",
       "15 NaN %                                       100 %                         \n",
       "16 20 %                                        28.57 %                       \n",
       "17 0 %                                         0 %                           \n",
       "18 50 %                                        33.33 %                       \n",
       "19 Inf %                                       100 %                         \n",
       "20 40 %                                        28.57 %                       \n",
       "21 100 %                                       0 %                           \n",
       "22 37.5 %                                      33.33 %                       \n",
       "23 NaN %                                       100 %                         \n",
       "24 80 %                                        28.57 %                       \n",
       "25 0 %                                         0 %                           \n",
       "26 0 %                                         33.33 %                       \n",
       "27 NaN %                                       100 %                         \n",
       "28 40 %                                        28.57 %                       \n",
       "29 0 %                                         0 %                           \n",
       "30 0 %                                         33.33 %                       \n",
       "31 NaN %                                       100 %                         \n",
       "32 40 %                                        28.57 %                       \n",
       "33 100 %                                       0 %                           \n",
       "34 62.5 %                                      33.33 %                       \n",
       "35 NaN %                                       100 %                         \n",
       "36 80 %                                        28.57 %                       "
      ]
     },
     "metadata": {},
     "output_type": "display_data"
    }
   ],
   "source": [
    "data %>% \n",
    "    filter(fl_chyba_odpoved == 0) %>%\n",
    "    #filter(fl_nevie_posudit == 0) %>%\n",
    "    select(-Otázka, -fl_chyba_odpoved) %>%\n",
    "    gather(key = \"Metoda\", value = \"Hodnota\", `SWOT analýzu`:`Neviem posúdiť`) %>% \n",
    "    mutate(Zaznacil = ifelse(is.na(Hodnota), 0, 1)) %>% \n",
    "    group_by(`Pracovná funkcia`, Metoda) %>%\n",
    "    summarise(Pocet = n(), \n",
    "              Zaznacilo = sum(Zaznacil), \n",
    "              Nezaznacilo = n() - sum(Zaznacil) - sum(fl_nevie_posudit),\n",
    "              NevediaPosudit = sum(fl_nevie_posudit),\n",
    "              `Pomer zaznačených` = paste(round(100 * mean(Zaznacil),2), \"%\"),\n",
    "              `Pomer zaznačených pri tých čo vedia posúdiť` = paste(round(100 * sum(Zaznacil) / (n() - sum(fl_nevie_posudit)),2), \"%\"),\n",
    "              `Pomer tých, čo nevedia posúdiť` = paste(round(100 * mean(fl_nevie_posudit),2), \"%\")\n",
    "              ) %>% \n",
    "     arrange(Metoda)  #%>% write.table(\"clipboard\", sep=\"\\t\", row.names=FALSE,dec = \",\")"
   ]
  },
  {
   "cell_type": "markdown",
   "metadata": {},
   "source": [
    "<b> Výsledky slovne - sú aj v xlsx: </b>"
   ]
  },
  {
   "cell_type": "markdown",
   "metadata": {},
   "source": [
    "- Všetci klasickí rádoví zamestnanci (nie tí TH - administratíva) odpovedali - \"neviem posúdiť\""
   ]
  },
  {
   "cell_type": "markdown",
   "metadata": {},
   "source": [
    "<b> ŠTATISTIKY BEZ REPSONDENTOV, KTORÍ NEVEDIA POSÚDIŤ </b>"
   ]
  },
  {
   "cell_type": "code",
   "execution_count": 300,
   "metadata": {},
   "outputs": [
    {
     "data": {
      "text/html": [
       "<table>\n",
       "<thead><tr><th scope=col>Pracovná funkcia</th><th scope=col>Metoda</th><th scope=col>Pocet</th><th scope=col>Zaznacilo</th><th scope=col>Nezaznacilo</th><th scope=col>Pomer zaznačených</th></tr></thead>\n",
       "<tbody>\n",
       "\t<tr><td>manažér                               </td><td>BCG maticu                            </td><td>2                                     </td><td>0                                     </td><td>2                                     </td><td>0 %                                   </td></tr>\n",
       "\t<tr><td>rádový TH zamestnanec (administratíva)</td><td>BCG maticu                            </td><td>8                                     </td><td>0                                     </td><td>8                                     </td><td>0 %                                   </td></tr>\n",
       "\t<tr><td>vedúci úseku                          </td><td>BCG maticu                            </td><td>5                                     </td><td>3                                     </td><td>2                                     </td><td>60 %                                  </td></tr>\n",
       "\t<tr><td>manažér                               </td><td>Finančné analýzy                      </td><td>2                                     </td><td>2                                     </td><td>0                                     </td><td>100 %                                 </td></tr>\n",
       "\t<tr><td>rádový TH zamestnanec (administratíva)</td><td>Finančné analýzy                      </td><td>8                                     </td><td>8                                     </td><td>0                                     </td><td>100 %                                 </td></tr>\n",
       "\t<tr><td>vedúci úseku                          </td><td>Finančné analýzy                      </td><td>5                                     </td><td>4                                     </td><td>1                                     </td><td>80 %                                  </td></tr>\n",
       "\t<tr><td>manažér                               </td><td>Iné                                   </td><td>2                                     </td><td>0                                     </td><td>2                                     </td><td>0 %                                   </td></tr>\n",
       "\t<tr><td>rádový TH zamestnanec (administratíva)</td><td>Iné                                   </td><td>8                                     </td><td>0                                     </td><td>8                                     </td><td>0 %                                   </td></tr>\n",
       "\t<tr><td>vedúci úseku                          </td><td>Iné                                   </td><td>5                                     </td><td>0                                     </td><td>5                                     </td><td>0 %                                   </td></tr>\n",
       "\t<tr><td>manažér                               </td><td>Metódu 7S                             </td><td>2                                     </td><td>0                                     </td><td>2                                     </td><td>0 %                                   </td></tr>\n",
       "\t<tr><td>rádový TH zamestnanec (administratíva)</td><td>Metódu 7S                             </td><td>8                                     </td><td>0                                     </td><td>8                                     </td><td>0 %                                   </td></tr>\n",
       "\t<tr><td>vedúci úseku                          </td><td>Metódu 7S                             </td><td>5                                     </td><td>1                                     </td><td>4                                     </td><td>20 %                                  </td></tr>\n",
       "\t<tr><td>manažér                               </td><td>Neviem posúdiť                        </td><td>2                                     </td><td>0                                     </td><td>2                                     </td><td>0 %                                   </td></tr>\n",
       "\t<tr><td>rádový TH zamestnanec (administratíva)</td><td>Neviem posúdiť                        </td><td>8                                     </td><td>0                                     </td><td>8                                     </td><td>0 %                                   </td></tr>\n",
       "\t<tr><td>vedúci úseku                          </td><td>Neviem posúdiť                        </td><td>5                                     </td><td>0                                     </td><td>5                                     </td><td>0 %                                   </td></tr>\n",
       "\t<tr><td>manažér                               </td><td>PEST analýzu                          </td><td>2                                     </td><td>2                                     </td><td>0                                     </td><td>100 %                                 </td></tr>\n",
       "\t<tr><td>rádový TH zamestnanec (administratíva)</td><td>PEST analýzu                          </td><td>8                                     </td><td>3                                     </td><td>5                                     </td><td>37.5 %                                </td></tr>\n",
       "\t<tr><td>vedúci úseku                          </td><td>PEST analýzu                          </td><td>5                                     </td><td>4                                     </td><td>1                                     </td><td>80 %                                  </td></tr>\n",
       "\t<tr><td>manažér                               </td><td>Porterov model piatich síl            </td><td>2                                     </td><td>0                                     </td><td>2                                     </td><td>0 %                                   </td></tr>\n",
       "\t<tr><td>rádový TH zamestnanec (administratíva)</td><td>Porterov model piatich síl            </td><td>8                                     </td><td>0                                     </td><td>8                                     </td><td>0 %                                   </td></tr>\n",
       "\t<tr><td>vedúci úseku                          </td><td>Porterov model piatich síl            </td><td>5                                     </td><td>2                                     </td><td>3                                     </td><td>40 %                                  </td></tr>\n",
       "\t<tr><td>manažér                               </td><td>SPACE analýzu                         </td><td>2                                     </td><td>0                                     </td><td>2                                     </td><td>0 %                                   </td></tr>\n",
       "\t<tr><td>rádový TH zamestnanec (administratíva)</td><td>SPACE analýzu                         </td><td>8                                     </td><td>0                                     </td><td>8                                     </td><td>0 %                                   </td></tr>\n",
       "\t<tr><td>vedúci úseku                          </td><td>SPACE analýzu                         </td><td>5                                     </td><td>2                                     </td><td>3                                     </td><td>40 %                                  </td></tr>\n",
       "\t<tr><td>manažér                               </td><td>SWOT analýzu                          </td><td>2                                     </td><td>2                                     </td><td>0                                     </td><td>100 %                                 </td></tr>\n",
       "\t<tr><td>rádový TH zamestnanec (administratíva)</td><td>SWOT analýzu                          </td><td>8                                     </td><td>5                                     </td><td>3                                     </td><td>62.5 %                                </td></tr>\n",
       "\t<tr><td>vedúci úseku                          </td><td>SWOT analýzu                          </td><td>5                                     </td><td>4                                     </td><td>1                                     </td><td>80 %                                  </td></tr>\n",
       "</tbody>\n",
       "</table>\n"
      ],
      "text/latex": [
       "\\begin{tabular}{r|llllll}\n",
       " Pracovná funkcia & Metoda & Pocet & Zaznacilo & Nezaznacilo & Pomer zaznačených\\\\\n",
       "\\hline\n",
       "\t manažér                                & BCG maticu                             & 2                                      & 0                                      & 2                                      & 0 \\%                                 \\\\\n",
       "\t rádový TH zamestnanec (administratíva) & BCG maticu                             & 8                                      & 0                                      & 8                                      & 0 \\%                                 \\\\\n",
       "\t vedúci úseku                           & BCG maticu                             & 5                                      & 3                                      & 2                                      & 60 \\%                                \\\\\n",
       "\t manažér                                & Finančné analýzy                       & 2                                      & 2                                      & 0                                      & 100 \\%                               \\\\\n",
       "\t rádový TH zamestnanec (administratíva) & Finančné analýzy                       & 8                                      & 8                                      & 0                                      & 100 \\%                               \\\\\n",
       "\t vedúci úseku                           & Finančné analýzy                       & 5                                      & 4                                      & 1                                      & 80 \\%                                \\\\\n",
       "\t manažér                                & Iné                                    & 2                                      & 0                                      & 2                                      & 0 \\%                                 \\\\\n",
       "\t rádový TH zamestnanec (administratíva) & Iné                                    & 8                                      & 0                                      & 8                                      & 0 \\%                                 \\\\\n",
       "\t vedúci úseku                           & Iné                                    & 5                                      & 0                                      & 5                                      & 0 \\%                                 \\\\\n",
       "\t manažér                                & Metódu 7S                              & 2                                      & 0                                      & 2                                      & 0 \\%                                 \\\\\n",
       "\t rádový TH zamestnanec (administratíva) & Metódu 7S                              & 8                                      & 0                                      & 8                                      & 0 \\%                                 \\\\\n",
       "\t vedúci úseku                           & Metódu 7S                              & 5                                      & 1                                      & 4                                      & 20 \\%                                \\\\\n",
       "\t manažér                                & Neviem posúdiť                         & 2                                      & 0                                      & 2                                      & 0 \\%                                 \\\\\n",
       "\t rádový TH zamestnanec (administratíva) & Neviem posúdiť                         & 8                                      & 0                                      & 8                                      & 0 \\%                                 \\\\\n",
       "\t vedúci úseku                           & Neviem posúdiť                         & 5                                      & 0                                      & 5                                      & 0 \\%                                 \\\\\n",
       "\t manažér                                & PEST analýzu                           & 2                                      & 2                                      & 0                                      & 100 \\%                               \\\\\n",
       "\t rádový TH zamestnanec (administratíva) & PEST analýzu                           & 8                                      & 3                                      & 5                                      & 37.5 \\%                              \\\\\n",
       "\t vedúci úseku                           & PEST analýzu                           & 5                                      & 4                                      & 1                                      & 80 \\%                                \\\\\n",
       "\t manažér                                & Porterov model piatich síl             & 2                                      & 0                                      & 2                                      & 0 \\%                                 \\\\\n",
       "\t rádový TH zamestnanec (administratíva) & Porterov model piatich síl             & 8                                      & 0                                      & 8                                      & 0 \\%                                 \\\\\n",
       "\t vedúci úseku                           & Porterov model piatich síl             & 5                                      & 2                                      & 3                                      & 40 \\%                                \\\\\n",
       "\t manažér                                & SPACE analýzu                          & 2                                      & 0                                      & 2                                      & 0 \\%                                 \\\\\n",
       "\t rádový TH zamestnanec (administratíva) & SPACE analýzu                          & 8                                      & 0                                      & 8                                      & 0 \\%                                 \\\\\n",
       "\t vedúci úseku                           & SPACE analýzu                          & 5                                      & 2                                      & 3                                      & 40 \\%                                \\\\\n",
       "\t manažér                                & SWOT analýzu                           & 2                                      & 2                                      & 0                                      & 100 \\%                               \\\\\n",
       "\t rádový TH zamestnanec (administratíva) & SWOT analýzu                           & 8                                      & 5                                      & 3                                      & 62.5 \\%                              \\\\\n",
       "\t vedúci úseku                           & SWOT analýzu                           & 5                                      & 4                                      & 1                                      & 80 \\%                                \\\\\n",
       "\\end{tabular}\n"
      ],
      "text/markdown": [
       "\n",
       "Pracovná funkcia | Metoda | Pocet | Zaznacilo | Nezaznacilo | Pomer zaznačených | \n",
       "|---|---|---|---|---|---|---|---|---|---|---|---|---|---|---|---|---|---|---|---|---|---|---|---|---|---|---|\n",
       "| manažér                                | BCG maticu                             | 2                                      | 0                                      | 2                                      | 0 %                                    | \n",
       "| rádový TH zamestnanec (administratíva) | BCG maticu                             | 8                                      | 0                                      | 8                                      | 0 %                                    | \n",
       "| vedúci úseku                           | BCG maticu                             | 5                                      | 3                                      | 2                                      | 60 %                                   | \n",
       "| manažér                                | Finančné analýzy                       | 2                                      | 2                                      | 0                                      | 100 %                                  | \n",
       "| rádový TH zamestnanec (administratíva) | Finančné analýzy                       | 8                                      | 8                                      | 0                                      | 100 %                                  | \n",
       "| vedúci úseku                           | Finančné analýzy                       | 5                                      | 4                                      | 1                                      | 80 %                                   | \n",
       "| manažér                                | Iné                                    | 2                                      | 0                                      | 2                                      | 0 %                                    | \n",
       "| rádový TH zamestnanec (administratíva) | Iné                                    | 8                                      | 0                                      | 8                                      | 0 %                                    | \n",
       "| vedúci úseku                           | Iné                                    | 5                                      | 0                                      | 5                                      | 0 %                                    | \n",
       "| manažér                                | Metódu 7S                              | 2                                      | 0                                      | 2                                      | 0 %                                    | \n",
       "| rádový TH zamestnanec (administratíva) | Metódu 7S                              | 8                                      | 0                                      | 8                                      | 0 %                                    | \n",
       "| vedúci úseku                           | Metódu 7S                              | 5                                      | 1                                      | 4                                      | 20 %                                   | \n",
       "| manažér                                | Neviem posúdiť                         | 2                                      | 0                                      | 2                                      | 0 %                                    | \n",
       "| rádový TH zamestnanec (administratíva) | Neviem posúdiť                         | 8                                      | 0                                      | 8                                      | 0 %                                    | \n",
       "| vedúci úseku                           | Neviem posúdiť                         | 5                                      | 0                                      | 5                                      | 0 %                                    | \n",
       "| manažér                                | PEST analýzu                           | 2                                      | 2                                      | 0                                      | 100 %                                  | \n",
       "| rádový TH zamestnanec (administratíva) | PEST analýzu                           | 8                                      | 3                                      | 5                                      | 37.5 %                                 | \n",
       "| vedúci úseku                           | PEST analýzu                           | 5                                      | 4                                      | 1                                      | 80 %                                   | \n",
       "| manažér                                | Porterov model piatich síl             | 2                                      | 0                                      | 2                                      | 0 %                                    | \n",
       "| rádový TH zamestnanec (administratíva) | Porterov model piatich síl             | 8                                      | 0                                      | 8                                      | 0 %                                    | \n",
       "| vedúci úseku                           | Porterov model piatich síl             | 5                                      | 2                                      | 3                                      | 40 %                                   | \n",
       "| manažér                                | SPACE analýzu                          | 2                                      | 0                                      | 2                                      | 0 %                                    | \n",
       "| rádový TH zamestnanec (administratíva) | SPACE analýzu                          | 8                                      | 0                                      | 8                                      | 0 %                                    | \n",
       "| vedúci úseku                           | SPACE analýzu                          | 5                                      | 2                                      | 3                                      | 40 %                                   | \n",
       "| manažér                                | SWOT analýzu                           | 2                                      | 2                                      | 0                                      | 100 %                                  | \n",
       "| rádový TH zamestnanec (administratíva) | SWOT analýzu                           | 8                                      | 5                                      | 3                                      | 62.5 %                                 | \n",
       "| vedúci úseku                           | SWOT analýzu                           | 5                                      | 4                                      | 1                                      | 80 %                                   | \n",
       "\n",
       "\n"
      ],
      "text/plain": [
       "   Pracovná funkcia                       Metoda                     Pocet\n",
       "1  manažér                                BCG maticu                 2    \n",
       "2  rádový TH zamestnanec (administratíva) BCG maticu                 8    \n",
       "3  vedúci úseku                           BCG maticu                 5    \n",
       "4  manažér                                Finančné analýzy           2    \n",
       "5  rádový TH zamestnanec (administratíva) Finančné analýzy           8    \n",
       "6  vedúci úseku                           Finančné analýzy           5    \n",
       "7  manažér                                Iné                        2    \n",
       "8  rádový TH zamestnanec (administratíva) Iné                        8    \n",
       "9  vedúci úseku                           Iné                        5    \n",
       "10 manažér                                Metódu 7S                  2    \n",
       "11 rádový TH zamestnanec (administratíva) Metódu 7S                  8    \n",
       "12 vedúci úseku                           Metódu 7S                  5    \n",
       "13 manažér                                Neviem posúdiť             2    \n",
       "14 rádový TH zamestnanec (administratíva) Neviem posúdiť             8    \n",
       "15 vedúci úseku                           Neviem posúdiť             5    \n",
       "16 manažér                                PEST analýzu               2    \n",
       "17 rádový TH zamestnanec (administratíva) PEST analýzu               8    \n",
       "18 vedúci úseku                           PEST analýzu               5    \n",
       "19 manažér                                Porterov model piatich síl 2    \n",
       "20 rádový TH zamestnanec (administratíva) Porterov model piatich síl 8    \n",
       "21 vedúci úseku                           Porterov model piatich síl 5    \n",
       "22 manažér                                SPACE analýzu              2    \n",
       "23 rádový TH zamestnanec (administratíva) SPACE analýzu              8    \n",
       "24 vedúci úseku                           SPACE analýzu              5    \n",
       "25 manažér                                SWOT analýzu               2    \n",
       "26 rádový TH zamestnanec (administratíva) SWOT analýzu               8    \n",
       "27 vedúci úseku                           SWOT analýzu               5    \n",
       "   Zaznacilo Nezaznacilo Pomer zaznačených\n",
       "1  0         2           0 %              \n",
       "2  0         8           0 %              \n",
       "3  3         2           60 %             \n",
       "4  2         0           100 %            \n",
       "5  8         0           100 %            \n",
       "6  4         1           80 %             \n",
       "7  0         2           0 %              \n",
       "8  0         8           0 %              \n",
       "9  0         5           0 %              \n",
       "10 0         2           0 %              \n",
       "11 0         8           0 %              \n",
       "12 1         4           20 %             \n",
       "13 0         2           0 %              \n",
       "14 0         8           0 %              \n",
       "15 0         5           0 %              \n",
       "16 2         0           100 %            \n",
       "17 3         5           37.5 %           \n",
       "18 4         1           80 %             \n",
       "19 0         2           0 %              \n",
       "20 0         8           0 %              \n",
       "21 2         3           40 %             \n",
       "22 0         2           0 %              \n",
       "23 0         8           0 %              \n",
       "24 2         3           40 %             \n",
       "25 2         0           100 %            \n",
       "26 5         3           62.5 %           \n",
       "27 4         1           80 %             "
      ]
     },
     "metadata": {},
     "output_type": "display_data"
    }
   ],
   "source": [
    "data %>% \n",
    "    filter(fl_chyba_odpoved == 0) %>%\n",
    "    filter(fl_nevie_posudit == 0) %>%\n",
    "    select(-Otázka, -fl_chyba_odpoved) %>%\n",
    "    gather(key = \"Metoda\", value = \"Hodnota\", `SWOT analýzu`:`Neviem posúdiť`) %>% \n",
    "    mutate(Zaznacil = ifelse(is.na(Hodnota), 0, 1)) %>% \n",
    "    group_by(`Pracovná funkcia`, Metoda) %>%\n",
    "    summarise(Pocet = n(), \n",
    "              Zaznacilo = sum(Zaznacil), \n",
    "              Nezaznacilo = n() - sum(Zaznacil),\n",
    "              `Pomer zaznačených` = paste(round(100 * mean(Zaznacil),2), \"%\")\n",
    "              ) %>% \n",
    "     arrange(Metoda) #%>% write.table(\"clipboard\", sep=\"\\t\", row.names=FALSE,dec = \",\")"
   ]
  },
  {
   "cell_type": "markdown",
   "metadata": {},
   "source": [
    "<b> Výsledky slovne - sú aj v xlsx</b>"
   ]
  },
  {
   "cell_type": "markdown",
   "metadata": {},
   "source": [
    "- BCG maticu poznajú len vedúci úseku\n",
    "- Finančné analýzy poznajú pkrem radových zamestnancov viacmenej všetci\n",
    "- Iné nezaznačil nikto\n",
    "- Metódu 7S pozná len jeden človek - 1 vedúci úseku\n",
    "- PEST analýzu poznajú skôr vyššie postavení zamestnanci\n",
    "- Porterov model piatich síl - iba vedúci úseku\n",
    "- SPACE analýza - iba vedúci úseku\n",
    "- SWOT analýzu registrujú aj rádový TH zamestnanci. Ich podiel je menší oproti manažérov / vedúcich úseku"
   ]
  },
  {
   "cell_type": "code",
   "execution_count": null,
   "metadata": {},
   "outputs": [],
   "source": []
  },
  {
   "cell_type": "markdown",
   "metadata": {},
   "source": [
    "## Hypotéza 4"
   ]
  },
  {
   "cell_type": "markdown",
   "metadata": {},
   "source": [
    "Nulová hypotéza H0: Predpokladáme, že neexistujú štatisticky významné súvislosti medzi niektorými dvojicami hodnotení faktorov konkurencieschopnosti regiónu.\n",
    "\n",
    "Alternatívna hypotéza H1:  Predpokladáme, že existujú štatisticky významné súvislosti medzi niektorými dvojicami hodnotení potenciálu projektov HBP a.s. v rámci transformácie ťažby uhlia?\n"
   ]
  },
  {
   "cell_type": "markdown",
   "metadata": {},
   "source": [
    "#### Načítanie, úprava a pohľad na dáta"
   ]
  },
  {
   "cell_type": "code",
   "execution_count": 301,
   "metadata": {},
   "outputs": [],
   "source": [
    "data <- readxl::read_excel(\"data.xlsx\", sheet = \"Hypoteza4\")"
   ]
  },
  {
   "cell_type": "code",
   "execution_count": 302,
   "metadata": {},
   "outputs": [
    {
     "data": {
      "text/html": [
       "'K dispozícii máme 63 odpovedí, pričom 10 respondentov nevedelo posúdiť potenciál aspoň v 1 projekte'"
      ],
      "text/latex": [
       "'K dispozícii máme 63 odpovedí, pričom 10 respondentov nevedelo posúdiť potenciál aspoň v 1 projekte'"
      ],
      "text/markdown": [
       "'K dispozícii máme 63 odpovedí, pričom 10 respondentov nevedelo posúdiť potenciál aspoň v 1 projekte'"
      ],
      "text/plain": [
       "K dispozícii máme 63 odpovedí, pričom 10 respondentov nevedelo posúdiť potenciál aspoň v 1 projekte"
      ]
     },
     "metadata": {},
     "output_type": "display_data"
    },
    {
     "data": {
      "text/html": [
       "'K dispozícii máme 63 odpovedí, pričom 8 respondentov nevedelo posúdiť potenciál aspoň v 4 projektoch'"
      ],
      "text/latex": [
       "'K dispozícii máme 63 odpovedí, pričom 8 respondentov nevedelo posúdiť potenciál aspoň v 4 projektoch'"
      ],
      "text/markdown": [
       "'K dispozícii máme 63 odpovedí, pričom 8 respondentov nevedelo posúdiť potenciál aspoň v 4 projektoch'"
      ],
      "text/plain": [
       "K dispozícii máme 63 odpovedí, pričom 8 respondentov nevedelo posúdiť potenciál aspoň v 4 projektoch"
      ]
     },
     "metadata": {},
     "output_type": "display_data"
    }
   ],
   "source": [
    "glue::glue(\"K dispozícii máme {nrow(data)} odpovedí, pričom {sum(data$fl_nevie_cnt > 0 )} respondentov nevedelo posúdiť potenciál aspoň v 1 projekte\")\n",
    "glue::glue(\"K dispozícii máme {nrow(data)} odpovedí, pričom {sum(data$fl_nevie_cnt >= 4 )} respondentov nevedelo posúdiť potenciál aspoň v 4 projektoch\")"
   ]
  },
  {
   "cell_type": "markdown",
   "metadata": {},
   "source": [
    "Rozhodli sme sa vylúčiť z tejto analýzy odpovede, ktoré mali aspoň jeden krát \"Neviem posúdiť\". Pracujeme s 53 odpoveďami."
   ]
  },
  {
   "cell_type": "code",
   "execution_count": 303,
   "metadata": {},
   "outputs": [],
   "source": [
    "data <- data %>% filter(fl_nevie_cnt == 0)"
   ]
  },
  {
   "cell_type": "code",
   "execution_count": 304,
   "metadata": {},
   "outputs": [
    {
     "data": {
      "text/html": [
       "<table>\n",
       "<thead><tr><th scope=col>Otázka</th><th scope=col>Opravy a revízie vagónov</th><th scope=col>Výroba podvozkov v BME Nováky</th><th scope=col>Činnosť HBZS</th><th scope=col>Projekt zásobovania teplom</th><th scope=col>Revitalizácia areálu bane Cigeľ</th><th scope=col>Skleníkové hospodárstvo</th><th scope=col>Chov sumca afrického</th><th scope=col>Prevádzka hotelových zariadení</th><th scope=col>fl_nevie</th><th scope=col>fl_nevie_cnt</th></tr></thead>\n",
       "<tbody>\n",
       "\t<tr><td>Posúďte potenciál jednotlivých projektov v rámci plánu náhrady ťažby uhlia po roku 2020</td><td>Vysoký potenciál                                                                       </td><td>Nižší potenciál                                                                        </td><td>Vysoký potenciál                                                                       </td><td>Vysoký potenciál                                                                       </td><td>Vysoký potenciál                                                                       </td><td>Vysoký potenciál                                                                       </td><td>Vysoký potenciál                                                                       </td><td>Nižší potenciál                                                                        </td><td>0                                                                                      </td><td>0                                                                                      </td></tr>\n",
       "\t<tr><td>Posúďte potenciál jednotlivých projektov v rámci plánu náhrady ťažby uhlia po roku 2020</td><td>Nižší potenciál                                                                        </td><td>Nižší potenciál                                                                        </td><td>Vysoký potenciál                                                                       </td><td>Nižší potenciál                                                                        </td><td>Nižší potenciál                                                                        </td><td>Vysoký potenciál                                                                       </td><td>Vysoký potenciál                                                                       </td><td>Vysoký potenciál                                                                       </td><td>0                                                                                      </td><td>0                                                                                      </td></tr>\n",
       "\t<tr><td>Posúďte potenciál jednotlivých projektov v rámci plánu náhrady ťažby uhlia po roku 2020</td><td>Nižší potenciál                                                                        </td><td>Nižší potenciál                                                                        </td><td>Vysoký potenciál                                                                       </td><td>Nižší potenciál                                                                        </td><td>Nižší potenciál                                                                        </td><td>Vysoký potenciál                                                                       </td><td>Nižší potenciál                                                                        </td><td>Nižší potenciál                                                                        </td><td>0                                                                                      </td><td>0                                                                                      </td></tr>\n",
       "\t<tr><td>Posúďte potenciál jednotlivých projektov v rámci plánu náhrady ťažby uhlia po roku 2020</td><td>Nižší potenciál                                                                        </td><td>Žiadny potenciál                                                                       </td><td>Vysoký potenciál                                                                       </td><td>Nižší potenciál                                                                        </td><td>Nižší potenciál                                                                        </td><td>Vysoký potenciál                                                                       </td><td>Vysoký potenciál                                                                       </td><td>Nižší potenciál                                                                        </td><td>0                                                                                      </td><td>0                                                                                      </td></tr>\n",
       "\t<tr><td>Posúďte potenciál jednotlivých projektov v rámci plánu náhrady ťažby uhlia po roku 2020</td><td>Žiadny potenciál                                                                       </td><td>Žiadny potenciál                                                                       </td><td>Vysoký potenciál                                                                       </td><td>Žiadny potenciál                                                                       </td><td>Nižší potenciál                                                                        </td><td>Vysoký potenciál                                                                       </td><td>Vysoký potenciál                                                                       </td><td>Nižší potenciál                                                                        </td><td>0                                                                                      </td><td>0                                                                                      </td></tr>\n",
       "</tbody>\n",
       "</table>\n"
      ],
      "text/latex": [
       "\\begin{tabular}{r|lllllllllll}\n",
       " Otázka & Opravy a revízie vagónov & Výroba podvozkov v BME Nováky & Činnosť HBZS & Projekt zásobovania teplom & Revitalizácia areálu bane Cigeľ & Skleníkové hospodárstvo & Chov sumca afrického & Prevádzka hotelových zariadení & fl\\_nevie & fl\\_nevie\\_cnt\\\\\n",
       "\\hline\n",
       "\t Posúďte potenciál jednotlivých projektov v rámci plánu náhrady ťažby uhlia po roku 2020 & Vysoký potenciál                                                                        & Nižší potenciál                                                                         & Vysoký potenciál                                                                        & Vysoký potenciál                                                                        & Vysoký potenciál                                                                        & Vysoký potenciál                                                                        & Vysoký potenciál                                                                        & Nižší potenciál                                                                         & 0                                                                                       & 0                                                                                      \\\\\n",
       "\t Posúďte potenciál jednotlivých projektov v rámci plánu náhrady ťažby uhlia po roku 2020 & Nižší potenciál                                                                         & Nižší potenciál                                                                         & Vysoký potenciál                                                                        & Nižší potenciál                                                                         & Nižší potenciál                                                                         & Vysoký potenciál                                                                        & Vysoký potenciál                                                                        & Vysoký potenciál                                                                        & 0                                                                                       & 0                                                                                      \\\\\n",
       "\t Posúďte potenciál jednotlivých projektov v rámci plánu náhrady ťažby uhlia po roku 2020 & Nižší potenciál                                                                         & Nižší potenciál                                                                         & Vysoký potenciál                                                                        & Nižší potenciál                                                                         & Nižší potenciál                                                                         & Vysoký potenciál                                                                        & Nižší potenciál                                                                         & Nižší potenciál                                                                         & 0                                                                                       & 0                                                                                      \\\\\n",
       "\t Posúďte potenciál jednotlivých projektov v rámci plánu náhrady ťažby uhlia po roku 2020 & Nižší potenciál                                                                         & Žiadny potenciál                                                                        & Vysoký potenciál                                                                        & Nižší potenciál                                                                         & Nižší potenciál                                                                         & Vysoký potenciál                                                                        & Vysoký potenciál                                                                        & Nižší potenciál                                                                         & 0                                                                                       & 0                                                                                      \\\\\n",
       "\t Posúďte potenciál jednotlivých projektov v rámci plánu náhrady ťažby uhlia po roku 2020 & Žiadny potenciál                                                                        & Žiadny potenciál                                                                        & Vysoký potenciál                                                                        & Žiadny potenciál                                                                        & Nižší potenciál                                                                         & Vysoký potenciál                                                                        & Vysoký potenciál                                                                        & Nižší potenciál                                                                         & 0                                                                                       & 0                                                                                      \\\\\n",
       "\\end{tabular}\n"
      ],
      "text/markdown": [
       "\n",
       "Otázka | Opravy a revízie vagónov | Výroba podvozkov v BME Nováky | Činnosť HBZS | Projekt zásobovania teplom | Revitalizácia areálu bane Cigeľ | Skleníkové hospodárstvo | Chov sumca afrického | Prevádzka hotelových zariadení | fl_nevie | fl_nevie_cnt | \n",
       "|---|---|---|---|---|\n",
       "| Posúďte potenciál jednotlivých projektov v rámci plánu náhrady ťažby uhlia po roku 2020 | Vysoký potenciál                                                                        | Nižší potenciál                                                                         | Vysoký potenciál                                                                        | Vysoký potenciál                                                                        | Vysoký potenciál                                                                        | Vysoký potenciál                                                                        | Vysoký potenciál                                                                        | Nižší potenciál                                                                         | 0                                                                                       | 0                                                                                       | \n",
       "| Posúďte potenciál jednotlivých projektov v rámci plánu náhrady ťažby uhlia po roku 2020 | Nižší potenciál                                                                         | Nižší potenciál                                                                         | Vysoký potenciál                                                                        | Nižší potenciál                                                                         | Nižší potenciál                                                                         | Vysoký potenciál                                                                        | Vysoký potenciál                                                                        | Vysoký potenciál                                                                        | 0                                                                                       | 0                                                                                       | \n",
       "| Posúďte potenciál jednotlivých projektov v rámci plánu náhrady ťažby uhlia po roku 2020 | Nižší potenciál                                                                         | Nižší potenciál                                                                         | Vysoký potenciál                                                                        | Nižší potenciál                                                                         | Nižší potenciál                                                                         | Vysoký potenciál                                                                        | Nižší potenciál                                                                         | Nižší potenciál                                                                         | 0                                                                                       | 0                                                                                       | \n",
       "| Posúďte potenciál jednotlivých projektov v rámci plánu náhrady ťažby uhlia po roku 2020 | Nižší potenciál                                                                         | Žiadny potenciál                                                                        | Vysoký potenciál                                                                        | Nižší potenciál                                                                         | Nižší potenciál                                                                         | Vysoký potenciál                                                                        | Vysoký potenciál                                                                        | Nižší potenciál                                                                         | 0                                                                                       | 0                                                                                       | \n",
       "| Posúďte potenciál jednotlivých projektov v rámci plánu náhrady ťažby uhlia po roku 2020 | Žiadny potenciál                                                                        | Žiadny potenciál                                                                        | Vysoký potenciál                                                                        | Žiadny potenciál                                                                        | Nižší potenciál                                                                         | Vysoký potenciál                                                                        | Vysoký potenciál                                                                        | Nižší potenciál                                                                         | 0                                                                                       | 0                                                                                       | \n",
       "\n",
       "\n"
      ],
      "text/plain": [
       "  Otázka                                                                                 \n",
       "1 Posúďte potenciál jednotlivých projektov v rámci plánu náhrady ťažby uhlia po roku 2020\n",
       "2 Posúďte potenciál jednotlivých projektov v rámci plánu náhrady ťažby uhlia po roku 2020\n",
       "3 Posúďte potenciál jednotlivých projektov v rámci plánu náhrady ťažby uhlia po roku 2020\n",
       "4 Posúďte potenciál jednotlivých projektov v rámci plánu náhrady ťažby uhlia po roku 2020\n",
       "5 Posúďte potenciál jednotlivých projektov v rámci plánu náhrady ťažby uhlia po roku 2020\n",
       "  Opravy a revízie vagónov Výroba podvozkov v BME Nováky Činnosť HBZS    \n",
       "1 Vysoký potenciál         Nižší potenciál               Vysoký potenciál\n",
       "2 Nižší potenciál          Nižší potenciál               Vysoký potenciál\n",
       "3 Nižší potenciál          Nižší potenciál               Vysoký potenciál\n",
       "4 Nižší potenciál          Žiadny potenciál              Vysoký potenciál\n",
       "5 Žiadny potenciál         Žiadny potenciál              Vysoký potenciál\n",
       "  Projekt zásobovania teplom Revitalizácia areálu bane Cigeľ\n",
       "1 Vysoký potenciál           Vysoký potenciál               \n",
       "2 Nižší potenciál            Nižší potenciál                \n",
       "3 Nižší potenciál            Nižší potenciál                \n",
       "4 Nižší potenciál            Nižší potenciál                \n",
       "5 Žiadny potenciál           Nižší potenciál                \n",
       "  Skleníkové hospodárstvo Chov sumca afrického Prevádzka hotelových zariadení\n",
       "1 Vysoký potenciál        Vysoký potenciál     Nižší potenciál               \n",
       "2 Vysoký potenciál        Vysoký potenciál     Vysoký potenciál              \n",
       "3 Vysoký potenciál        Nižší potenciál      Nižší potenciál               \n",
       "4 Vysoký potenciál        Vysoký potenciál     Nižší potenciál               \n",
       "5 Vysoký potenciál        Vysoký potenciál     Nižší potenciál               \n",
       "  fl_nevie fl_nevie_cnt\n",
       "1 0        0           \n",
       "2 0        0           \n",
       "3 0        0           \n",
       "4 0        0           \n",
       "5 0        0           "
      ]
     },
     "metadata": {},
     "output_type": "display_data"
    }
   ],
   "source": [
    "data %>% sample_n(5)"
   ]
  },
  {
   "cell_type": "markdown",
   "metadata": {},
   "source": [
    "### Vytvorenie prevodníka medzi odpoveďami a číselnou hodnotou"
   ]
  },
  {
   "cell_type": "code",
   "execution_count": 305,
   "metadata": {},
   "outputs": [
    {
     "data": {
      "text/html": [
       "<table>\n",
       "<thead><tr><th scope=col>Odpoved</th><th scope=col>Hodnota</th></tr></thead>\n",
       "<tbody>\n",
       "\t<tr><td>Žiadny potenciál</td><td>0               </td></tr>\n",
       "\t<tr><td>Nižší potenciál </td><td>1               </td></tr>\n",
       "\t<tr><td>Vysoký potenciál</td><td>2               </td></tr>\n",
       "</tbody>\n",
       "</table>\n"
      ],
      "text/latex": [
       "\\begin{tabular}{r|ll}\n",
       " Odpoved & Hodnota\\\\\n",
       "\\hline\n",
       "\t Žiadny potenciál & 0               \\\\\n",
       "\t Nižší potenciál  & 1               \\\\\n",
       "\t Vysoký potenciál & 2               \\\\\n",
       "\\end{tabular}\n"
      ],
      "text/markdown": [
       "\n",
       "Odpoved | Hodnota | \n",
       "|---|---|---|\n",
       "| Žiadny potenciál | 0                | \n",
       "| Nižší potenciál  | 1                | \n",
       "| Vysoký potenciál | 2                | \n",
       "\n",
       "\n"
      ],
      "text/plain": [
       "  Odpoved          Hodnota\n",
       "1 Žiadny potenciál 0      \n",
       "2 Nižší potenciál  1      \n",
       "3 Vysoký potenciál 2      "
      ]
     },
     "metadata": {},
     "output_type": "display_data"
    }
   ],
   "source": [
    "# prevodnik <- data.frame(Odpoved = c(\"Rozhodne nesúhlasím\", \"Skôr nesúhlasím\", \"Neviem posúdiť\",\"Skôr súhlasím\",\"Rozhodne súhlasím\"), Hodnota = c(-2,-1,0,1,2))\n",
    "prevodnik <- data.frame(Odpoved = c(\"Žiadny potenciál\", \"Nižší potenciál\",\"Vysoký potenciál\"), Hodnota = c(0,1,2))\n",
    "prevodnik"
   ]
  },
  {
   "cell_type": "code",
   "execution_count": 306,
   "metadata": {},
   "outputs": [
    {
     "data": {
      "text/html": [
       "<table>\n",
       "<thead><tr><th scope=col>Otázka</th><th scope=col>Opravy a revízie vagónov</th><th scope=col>Výroba podvozkov v BME Nováky</th><th scope=col>Činnosť HBZS</th><th scope=col>Projekt zásobovania teplom</th><th scope=col>Revitalizácia areálu bane Cigeľ</th><th scope=col>Skleníkové hospodárstvo</th><th scope=col>Chov sumca afrického</th><th scope=col>Prevádzka hotelových zariadení</th><th scope=col>fl_nevie</th><th scope=col>fl_nevie_cnt</th></tr></thead>\n",
       "<tbody>\n",
       "\t<tr><td>Posúďte potenciál jednotlivých projektov v rámci plánu náhrady ťažby uhlia po roku 2020</td><td>Nižší potenciál                                                                        </td><td>Nižší potenciál                                                                        </td><td>Vysoký potenciál                                                                       </td><td>Nižší potenciál                                                                        </td><td>Nižší potenciál                                                                        </td><td>Vysoký potenciál                                                                       </td><td>Vysoký potenciál                                                                       </td><td>Vysoký potenciál                                                                       </td><td>0                                                                                      </td><td>0                                                                                      </td></tr>\n",
       "\t<tr><td>Posúďte potenciál jednotlivých projektov v rámci plánu náhrady ťažby uhlia po roku 2020</td><td>Nižší potenciál                                                                        </td><td>Žiadny potenciál                                                                       </td><td>Vysoký potenciál                                                                       </td><td>Žiadny potenciál                                                                       </td><td>Nižší potenciál                                                                        </td><td>Vysoký potenciál                                                                       </td><td>Vysoký potenciál                                                                       </td><td>Nižší potenciál                                                                        </td><td>0                                                                                      </td><td>0                                                                                      </td></tr>\n",
       "\t<tr><td>Posúďte potenciál jednotlivých projektov v rámci plánu náhrady ťažby uhlia po roku 2020</td><td>Žiadny potenciál                                                                       </td><td>Žiadny potenciál                                                                       </td><td>Vysoký potenciál                                                                       </td><td>Žiadny potenciál                                                                       </td><td>Žiadny potenciál                                                                       </td><td>Vysoký potenciál                                                                       </td><td>Vysoký potenciál                                                                       </td><td>Nižší potenciál                                                                        </td><td>0                                                                                      </td><td>0                                                                                      </td></tr>\n",
       "</tbody>\n",
       "</table>\n"
      ],
      "text/latex": [
       "\\begin{tabular}{r|lllllllllll}\n",
       " Otázka & Opravy a revízie vagónov & Výroba podvozkov v BME Nováky & Činnosť HBZS & Projekt zásobovania teplom & Revitalizácia areálu bane Cigeľ & Skleníkové hospodárstvo & Chov sumca afrického & Prevádzka hotelových zariadení & fl\\_nevie & fl\\_nevie\\_cnt\\\\\n",
       "\\hline\n",
       "\t Posúďte potenciál jednotlivých projektov v rámci plánu náhrady ťažby uhlia po roku 2020 & Nižší potenciál                                                                         & Nižší potenciál                                                                         & Vysoký potenciál                                                                        & Nižší potenciál                                                                         & Nižší potenciál                                                                         & Vysoký potenciál                                                                        & Vysoký potenciál                                                                        & Vysoký potenciál                                                                        & 0                                                                                       & 0                                                                                      \\\\\n",
       "\t Posúďte potenciál jednotlivých projektov v rámci plánu náhrady ťažby uhlia po roku 2020 & Nižší potenciál                                                                         & Žiadny potenciál                                                                        & Vysoký potenciál                                                                        & Žiadny potenciál                                                                        & Nižší potenciál                                                                         & Vysoký potenciál                                                                        & Vysoký potenciál                                                                        & Nižší potenciál                                                                         & 0                                                                                       & 0                                                                                      \\\\\n",
       "\t Posúďte potenciál jednotlivých projektov v rámci plánu náhrady ťažby uhlia po roku 2020 & Žiadny potenciál                                                                        & Žiadny potenciál                                                                        & Vysoký potenciál                                                                        & Žiadny potenciál                                                                        & Žiadny potenciál                                                                        & Vysoký potenciál                                                                        & Vysoký potenciál                                                                        & Nižší potenciál                                                                         & 0                                                                                       & 0                                                                                      \\\\\n",
       "\\end{tabular}\n"
      ],
      "text/markdown": [
       "\n",
       "Otázka | Opravy a revízie vagónov | Výroba podvozkov v BME Nováky | Činnosť HBZS | Projekt zásobovania teplom | Revitalizácia areálu bane Cigeľ | Skleníkové hospodárstvo | Chov sumca afrického | Prevádzka hotelových zariadení | fl_nevie | fl_nevie_cnt | \n",
       "|---|---|---|\n",
       "| Posúďte potenciál jednotlivých projektov v rámci plánu náhrady ťažby uhlia po roku 2020 | Nižší potenciál                                                                         | Nižší potenciál                                                                         | Vysoký potenciál                                                                        | Nižší potenciál                                                                         | Nižší potenciál                                                                         | Vysoký potenciál                                                                        | Vysoký potenciál                                                                        | Vysoký potenciál                                                                        | 0                                                                                       | 0                                                                                       | \n",
       "| Posúďte potenciál jednotlivých projektov v rámci plánu náhrady ťažby uhlia po roku 2020 | Nižší potenciál                                                                         | Žiadny potenciál                                                                        | Vysoký potenciál                                                                        | Žiadny potenciál                                                                        | Nižší potenciál                                                                         | Vysoký potenciál                                                                        | Vysoký potenciál                                                                        | Nižší potenciál                                                                         | 0                                                                                       | 0                                                                                       | \n",
       "| Posúďte potenciál jednotlivých projektov v rámci plánu náhrady ťažby uhlia po roku 2020 | Žiadny potenciál                                                                        | Žiadny potenciál                                                                        | Vysoký potenciál                                                                        | Žiadny potenciál                                                                        | Žiadny potenciál                                                                        | Vysoký potenciál                                                                        | Vysoký potenciál                                                                        | Nižší potenciál                                                                         | 0                                                                                       | 0                                                                                       | \n",
       "\n",
       "\n"
      ],
      "text/plain": [
       "  Otázka                                                                                 \n",
       "1 Posúďte potenciál jednotlivých projektov v rámci plánu náhrady ťažby uhlia po roku 2020\n",
       "2 Posúďte potenciál jednotlivých projektov v rámci plánu náhrady ťažby uhlia po roku 2020\n",
       "3 Posúďte potenciál jednotlivých projektov v rámci plánu náhrady ťažby uhlia po roku 2020\n",
       "  Opravy a revízie vagónov Výroba podvozkov v BME Nováky Činnosť HBZS    \n",
       "1 Nižší potenciál          Nižší potenciál               Vysoký potenciál\n",
       "2 Nižší potenciál          Žiadny potenciál              Vysoký potenciál\n",
       "3 Žiadny potenciál         Žiadny potenciál              Vysoký potenciál\n",
       "  Projekt zásobovania teplom Revitalizácia areálu bane Cigeľ\n",
       "1 Nižší potenciál            Nižší potenciál                \n",
       "2 Žiadny potenciál           Nižší potenciál                \n",
       "3 Žiadny potenciál           Žiadny potenciál               \n",
       "  Skleníkové hospodárstvo Chov sumca afrického Prevádzka hotelových zariadení\n",
       "1 Vysoký potenciál        Vysoký potenciál     Vysoký potenciál              \n",
       "2 Vysoký potenciál        Vysoký potenciál     Nižší potenciál               \n",
       "3 Vysoký potenciál        Vysoký potenciál     Nižší potenciál               \n",
       "  fl_nevie fl_nevie_cnt\n",
       "1 0        0           \n",
       "2 0        0           \n",
       "3 0        0           "
      ]
     },
     "metadata": {},
     "output_type": "display_data"
    }
   ],
   "source": [
    "data %>% head(3)"
   ]
  },
  {
   "cell_type": "markdown",
   "metadata": {},
   "source": [
    "#### Prekódovanie slovných odpovedí na číšelné podľa prevodníka, nakoľko na korelačný koeficient je potrebný numerický vstup"
   ]
  },
  {
   "cell_type": "code",
   "execution_count": 309,
   "metadata": {},
   "outputs": [
    {
     "data": {
      "text/html": [
       "<table>\n",
       "<thead><tr><th scope=col>Opravy a revízie vagónov</th><th scope=col>Výroba podvozkov v BME Nováky</th><th scope=col>Činnosť HBZS</th><th scope=col>Projekt zásobovania teplom</th><th scope=col>Revitalizácia areálu bane Cigeľ</th><th scope=col>Skleníkové hospodárstvo</th><th scope=col>Chov sumca afrického</th><th scope=col>Prevádzka hotelových zariadení</th></tr></thead>\n",
       "<tbody>\n",
       "\t<tr><td>1</td><td>1</td><td>2</td><td>1</td><td>1</td><td>2</td><td>2</td><td>2</td></tr>\n",
       "\t<tr><td>1</td><td>0</td><td>2</td><td>0</td><td>1</td><td>2</td><td>2</td><td>1</td></tr>\n",
       "\t<tr><td>0</td><td>0</td><td>2</td><td>0</td><td>0</td><td>2</td><td>2</td><td>1</td></tr>\n",
       "\t<tr><td>1</td><td>1</td><td>2</td><td>1</td><td>1</td><td>2</td><td>2</td><td>2</td></tr>\n",
       "\t<tr><td>1</td><td>1</td><td>2</td><td>1</td><td>1</td><td>2</td><td>2</td><td>2</td></tr>\n",
       "\t<tr><td>0</td><td>0</td><td>2</td><td>0</td><td>1</td><td>2</td><td>2</td><td>1</td></tr>\n",
       "</tbody>\n",
       "</table>\n"
      ],
      "text/latex": [
       "\\begin{tabular}{r|llllllll}\n",
       " Opravy a revízie vagónov & Výroba podvozkov v BME Nováky & Činnosť HBZS & Projekt zásobovania teplom & Revitalizácia areálu bane Cigeľ & Skleníkové hospodárstvo & Chov sumca afrického & Prevádzka hotelových zariadení\\\\\n",
       "\\hline\n",
       "\t 1 & 1 & 2 & 1 & 1 & 2 & 2 & 2\\\\\n",
       "\t 1 & 0 & 2 & 0 & 1 & 2 & 2 & 1\\\\\n",
       "\t 0 & 0 & 2 & 0 & 0 & 2 & 2 & 1\\\\\n",
       "\t 1 & 1 & 2 & 1 & 1 & 2 & 2 & 2\\\\\n",
       "\t 1 & 1 & 2 & 1 & 1 & 2 & 2 & 2\\\\\n",
       "\t 0 & 0 & 2 & 0 & 1 & 2 & 2 & 1\\\\\n",
       "\\end{tabular}\n"
      ],
      "text/markdown": [
       "\n",
       "Opravy a revízie vagónov | Výroba podvozkov v BME Nováky | Činnosť HBZS | Projekt zásobovania teplom | Revitalizácia areálu bane Cigeľ | Skleníkové hospodárstvo | Chov sumca afrického | Prevádzka hotelových zariadení | \n",
       "|---|---|---|---|---|---|\n",
       "| 1 | 1 | 2 | 1 | 1 | 2 | 2 | 2 | \n",
       "| 1 | 0 | 2 | 0 | 1 | 2 | 2 | 1 | \n",
       "| 0 | 0 | 2 | 0 | 0 | 2 | 2 | 1 | \n",
       "| 1 | 1 | 2 | 1 | 1 | 2 | 2 | 2 | \n",
       "| 1 | 1 | 2 | 1 | 1 | 2 | 2 | 2 | \n",
       "| 0 | 0 | 2 | 0 | 1 | 2 | 2 | 1 | \n",
       "\n",
       "\n"
      ],
      "text/plain": [
       "  Opravy a revízie vagónov Výroba podvozkov v BME Nováky Činnosť HBZS\n",
       "1 1                        1                             2           \n",
       "2 1                        0                             2           \n",
       "3 0                        0                             2           \n",
       "4 1                        1                             2           \n",
       "5 1                        1                             2           \n",
       "6 0                        0                             2           \n",
       "  Projekt zásobovania teplom Revitalizácia areálu bane Cigeľ\n",
       "1 1                          1                              \n",
       "2 0                          1                              \n",
       "3 0                          0                              \n",
       "4 1                          1                              \n",
       "5 1                          1                              \n",
       "6 0                          1                              \n",
       "  Skleníkové hospodárstvo Chov sumca afrického Prevádzka hotelových zariadení\n",
       "1 2                       2                    2                             \n",
       "2 2                       2                    1                             \n",
       "3 2                       2                    1                             \n",
       "4 2                       2                    2                             \n",
       "5 2                       2                    2                             \n",
       "6 2                       2                    1                             "
      ]
     },
     "metadata": {},
     "output_type": "display_data"
    }
   ],
   "source": [
    "data %>% \n",
    "    select(-fl_nevie, -fl_nevie_cnt,-`Otázka`) %>% \n",
    "    mutate_all(funs(recode(. , 'Žiadny potenciál' = 0, 'Nižší potenciál' = 1, 'Vysoký potenciál' = 2))) %>%\n",
    "    head()"
   ]
  },
  {
   "cell_type": "code",
   "execution_count": 310,
   "metadata": {},
   "outputs": [],
   "source": [
    "spearman_vysledky <- \n",
    "    data %>% \n",
    "        select(-fl_nevie, -fl_nevie_cnt,-`Otázka`) %>% \n",
    "        mutate_all(funs(recode(. , 'Žiadny potenciál' = 0, 'Nižší potenciál' = 1, 'Vysoký potenciál' = 2))) %>%\n",
    "        as.matrix() %>% \n",
    "        rcorr(type = \"spearman\")"
   ]
  },
  {
   "cell_type": "code",
   "execution_count": 311,
   "metadata": {},
   "outputs": [],
   "source": [
    "#spearman_vysledky"
   ]
  },
  {
   "cell_type": "markdown",
   "metadata": {},
   "source": [
    "### Speamanové korelačné koeficienty"
   ]
  },
  {
   "cell_type": "code",
   "execution_count": 312,
   "metadata": {},
   "outputs": [
    {
     "data": {
      "text/html": [
       "<table>\n",
       "<thead><tr><th></th><th scope=col>Opravy a revízie vagónov</th><th scope=col>Výroba podvozkov v BME Nováky</th><th scope=col>Činnosť HBZS</th><th scope=col>Projekt zásobovania teplom</th><th scope=col>Revitalizácia areálu bane Cigeľ</th><th scope=col>Skleníkové hospodárstvo</th><th scope=col>Chov sumca afrického</th><th scope=col>Prevádzka hotelových zariadení</th></tr></thead>\n",
       "<tbody>\n",
       "\t<tr><th scope=row>Opravy a revízie vagónov</th><td>1.0000</td><td>0.6693</td><td>0.2948</td><td>0.6441</td><td>0.5068</td><td>0.1544</td><td>0.2325</td><td>0.4784</td></tr>\n",
       "\t<tr><th scope=row>Výroba podvozkov v BME Nováky</th><td>0.6693</td><td>1.0000</td><td>0.3325</td><td>0.8139</td><td>0.5614</td><td>0.2289</td><td>0.4329</td><td>0.6634</td></tr>\n",
       "\t<tr><th scope=row>Činnosť HBZS</th><td>0.2948</td><td>0.3325</td><td>1.0000</td><td>0.2937</td><td>0.3437</td><td>0.7598</td><td>0.5366</td><td>0.4606</td></tr>\n",
       "\t<tr><th scope=row>Projekt zásobovania teplom</th><td>0.6441</td><td>0.8139</td><td>0.2937</td><td>1.0000</td><td>0.7118</td><td>0.2668</td><td>0.3875</td><td>0.4388</td></tr>\n",
       "\t<tr><th scope=row>Revitalizácia areálu bane Cigeľ</th><td>0.5068</td><td>0.5614</td><td>0.3437</td><td>0.7118</td><td>1.0000</td><td>0.4282</td><td>0.3574</td><td>0.3324</td></tr>\n",
       "\t<tr><th scope=row>Skleníkové hospodárstvo</th><td>0.1544</td><td>0.2289</td><td>0.7598</td><td>0.2668</td><td>0.4282</td><td>1.0000</td><td>0.5583</td><td>0.3577</td></tr>\n",
       "\t<tr><th scope=row>Chov sumca afrického</th><td>0.2325</td><td>0.4329</td><td>0.5366</td><td>0.3875</td><td>0.3574</td><td>0.5583</td><td>1.0000</td><td>0.5792</td></tr>\n",
       "\t<tr><th scope=row>Prevádzka hotelových zariadení</th><td>0.4784</td><td>0.6634</td><td>0.4606</td><td>0.4388</td><td>0.3324</td><td>0.3577</td><td>0.5792</td><td>1.0000</td></tr>\n",
       "</tbody>\n",
       "</table>\n"
      ],
      "text/latex": [
       "\\begin{tabular}{r|llllllll}\n",
       "  & Opravy a revízie vagónov & Výroba podvozkov v BME Nováky & Činnosť HBZS & Projekt zásobovania teplom & Revitalizácia areálu bane Cigeľ & Skleníkové hospodárstvo & Chov sumca afrického & Prevádzka hotelových zariadení\\\\\n",
       "\\hline\n",
       "\tOpravy a revízie vagónov & 1.0000 & 0.6693 & 0.2948 & 0.6441 & 0.5068 & 0.1544 & 0.2325 & 0.4784\\\\\n",
       "\tVýroba podvozkov v BME Nováky & 0.6693 & 1.0000 & 0.3325 & 0.8139 & 0.5614 & 0.2289 & 0.4329 & 0.6634\\\\\n",
       "\tČinnosť HBZS & 0.2948 & 0.3325 & 1.0000 & 0.2937 & 0.3437 & 0.7598 & 0.5366 & 0.4606\\\\\n",
       "\tProjekt zásobovania teplom & 0.6441 & 0.8139 & 0.2937 & 1.0000 & 0.7118 & 0.2668 & 0.3875 & 0.4388\\\\\n",
       "\tRevitalizácia areálu bane Cigeľ & 0.5068 & 0.5614 & 0.3437 & 0.7118 & 1.0000 & 0.4282 & 0.3574 & 0.3324\\\\\n",
       "\tSkleníkové hospodárstvo & 0.1544 & 0.2289 & 0.7598 & 0.2668 & 0.4282 & 1.0000 & 0.5583 & 0.3577\\\\\n",
       "\tChov sumca afrického & 0.2325 & 0.4329 & 0.5366 & 0.3875 & 0.3574 & 0.5583 & 1.0000 & 0.5792\\\\\n",
       "\tPrevádzka hotelových zariadení & 0.4784 & 0.6634 & 0.4606 & 0.4388 & 0.3324 & 0.3577 & 0.5792 & 1.0000\\\\\n",
       "\\end{tabular}\n"
      ],
      "text/markdown": [
       "\n",
       "| <!--/--> | Opravy a revízie vagónov | Výroba podvozkov v BME Nováky | Činnosť HBZS | Projekt zásobovania teplom | Revitalizácia areálu bane Cigeľ | Skleníkové hospodárstvo | Chov sumca afrického | Prevádzka hotelových zariadení | \n",
       "|---|---|---|---|---|---|---|---|\n",
       "| Opravy a revízie vagónov | 1.0000 | 0.6693 | 0.2948 | 0.6441 | 0.5068 | 0.1544 | 0.2325 | 0.4784 | \n",
       "| Výroba podvozkov v BME Nováky | 0.6693 | 1.0000 | 0.3325 | 0.8139 | 0.5614 | 0.2289 | 0.4329 | 0.6634 | \n",
       "| Činnosť HBZS | 0.2948 | 0.3325 | 1.0000 | 0.2937 | 0.3437 | 0.7598 | 0.5366 | 0.4606 | \n",
       "| Projekt zásobovania teplom | 0.6441 | 0.8139 | 0.2937 | 1.0000 | 0.7118 | 0.2668 | 0.3875 | 0.4388 | \n",
       "| Revitalizácia areálu bane Cigeľ | 0.5068 | 0.5614 | 0.3437 | 0.7118 | 1.0000 | 0.4282 | 0.3574 | 0.3324 | \n",
       "| Skleníkové hospodárstvo | 0.1544 | 0.2289 | 0.7598 | 0.2668 | 0.4282 | 1.0000 | 0.5583 | 0.3577 | \n",
       "| Chov sumca afrického | 0.2325 | 0.4329 | 0.5366 | 0.3875 | 0.3574 | 0.5583 | 1.0000 | 0.5792 | \n",
       "| Prevádzka hotelových zariadení | 0.4784 | 0.6634 | 0.4606 | 0.4388 | 0.3324 | 0.3577 | 0.5792 | 1.0000 | \n",
       "\n",
       "\n"
      ],
      "text/plain": [
       "                                Opravy a revízie vagónov\n",
       "Opravy a revízie vagónov        1.0000                  \n",
       "Výroba podvozkov v BME Nováky   0.6693                  \n",
       "Činnosť HBZS                    0.2948                  \n",
       "Projekt zásobovania teplom      0.6441                  \n",
       "Revitalizácia areálu bane Cigeľ 0.5068                  \n",
       "Skleníkové hospodárstvo         0.1544                  \n",
       "Chov sumca afrického            0.2325                  \n",
       "Prevádzka hotelových zariadení  0.4784                  \n",
       "                                Výroba podvozkov v BME Nováky Činnosť HBZS\n",
       "Opravy a revízie vagónov        0.6693                        0.2948      \n",
       "Výroba podvozkov v BME Nováky   1.0000                        0.3325      \n",
       "Činnosť HBZS                    0.3325                        1.0000      \n",
       "Projekt zásobovania teplom      0.8139                        0.2937      \n",
       "Revitalizácia areálu bane Cigeľ 0.5614                        0.3437      \n",
       "Skleníkové hospodárstvo         0.2289                        0.7598      \n",
       "Chov sumca afrického            0.4329                        0.5366      \n",
       "Prevádzka hotelových zariadení  0.6634                        0.4606      \n",
       "                                Projekt zásobovania teplom\n",
       "Opravy a revízie vagónov        0.6441                    \n",
       "Výroba podvozkov v BME Nováky   0.8139                    \n",
       "Činnosť HBZS                    0.2937                    \n",
       "Projekt zásobovania teplom      1.0000                    \n",
       "Revitalizácia areálu bane Cigeľ 0.7118                    \n",
       "Skleníkové hospodárstvo         0.2668                    \n",
       "Chov sumca afrického            0.3875                    \n",
       "Prevádzka hotelových zariadení  0.4388                    \n",
       "                                Revitalizácia areálu bane Cigeľ\n",
       "Opravy a revízie vagónov        0.5068                         \n",
       "Výroba podvozkov v BME Nováky   0.5614                         \n",
       "Činnosť HBZS                    0.3437                         \n",
       "Projekt zásobovania teplom      0.7118                         \n",
       "Revitalizácia areálu bane Cigeľ 1.0000                         \n",
       "Skleníkové hospodárstvo         0.4282                         \n",
       "Chov sumca afrického            0.3574                         \n",
       "Prevádzka hotelových zariadení  0.3324                         \n",
       "                                Skleníkové hospodárstvo Chov sumca afrického\n",
       "Opravy a revízie vagónov        0.1544                  0.2325              \n",
       "Výroba podvozkov v BME Nováky   0.2289                  0.4329              \n",
       "Činnosť HBZS                    0.7598                  0.5366              \n",
       "Projekt zásobovania teplom      0.2668                  0.3875              \n",
       "Revitalizácia areálu bane Cigeľ 0.4282                  0.3574              \n",
       "Skleníkové hospodárstvo         1.0000                  0.5583              \n",
       "Chov sumca afrického            0.5583                  1.0000              \n",
       "Prevádzka hotelových zariadení  0.3577                  0.5792              \n",
       "                                Prevádzka hotelových zariadení\n",
       "Opravy a revízie vagónov        0.4784                        \n",
       "Výroba podvozkov v BME Nováky   0.6634                        \n",
       "Činnosť HBZS                    0.4606                        \n",
       "Projekt zásobovania teplom      0.4388                        \n",
       "Revitalizácia areálu bane Cigeľ 0.3324                        \n",
       "Skleníkové hospodárstvo         0.3577                        \n",
       "Chov sumca afrického            0.5792                        \n",
       "Prevádzka hotelových zariadení  1.0000                        "
      ]
     },
     "metadata": {},
     "output_type": "display_data"
    }
   ],
   "source": [
    "round(spearman_vysledky$r, 4)"
   ]
  },
  {
   "cell_type": "markdown",
   "metadata": {},
   "source": [
    "### Matica p-hodnôt pre korelačné testy nezávislosti"
   ]
  },
  {
   "cell_type": "code",
   "execution_count": 313,
   "metadata": {},
   "outputs": [
    {
     "data": {
      "text/html": [
       "<table>\n",
       "<thead><tr><th></th><th scope=col>Opravy a revízie vagónov</th><th scope=col>Výroba podvozkov v BME Nováky</th><th scope=col>Činnosť HBZS</th><th scope=col>Projekt zásobovania teplom</th><th scope=col>Revitalizácia areálu bane Cigeľ</th><th scope=col>Skleníkové hospodárstvo</th><th scope=col>Chov sumca afrického</th><th scope=col>Prevádzka hotelových zariadení</th></tr></thead>\n",
       "<tbody>\n",
       "\t<tr><th scope=row>Opravy a revízie vagónov</th><td>    NA</td><td>0.0000</td><td>0.0321</td><td>0.0000</td><td>0.0001</td><td>0.2698</td><td>0.0938</td><td>0.0003</td></tr>\n",
       "\t<tr><th scope=row>Výroba podvozkov v BME Nováky</th><td>0.0000</td><td>    NA</td><td>0.0150</td><td>0.0000</td><td>0.0000</td><td>0.0992</td><td>0.0012</td><td>0.0000</td></tr>\n",
       "\t<tr><th scope=row>Činnosť HBZS</th><td>0.0321</td><td>0.0150</td><td>    NA</td><td>0.0328</td><td>0.0117</td><td>0.0000</td><td>0.0000</td><td>0.0005</td></tr>\n",
       "\t<tr><th scope=row>Projekt zásobovania teplom</th><td>0.0000</td><td>0.0000</td><td>0.0328</td><td>    NA</td><td>0.0000</td><td>0.0535</td><td>0.0042</td><td>0.0010</td></tr>\n",
       "\t<tr><th scope=row>Revitalizácia areálu bane Cigeľ</th><td>0.0001</td><td>0.0000</td><td>0.0117</td><td>0.0000</td><td>    NA</td><td>0.0014</td><td>0.0086</td><td>0.0150</td></tr>\n",
       "\t<tr><th scope=row>Skleníkové hospodárstvo</th><td>0.2698</td><td>0.0992</td><td>0.0000</td><td>0.0535</td><td>0.0014</td><td>    NA</td><td>0.0000</td><td>0.0085</td></tr>\n",
       "\t<tr><th scope=row>Chov sumca afrického</th><td>0.0938</td><td>0.0012</td><td>0.0000</td><td>0.0042</td><td>0.0086</td><td>0.0000</td><td>    NA</td><td>0.0000</td></tr>\n",
       "\t<tr><th scope=row>Prevádzka hotelových zariadení</th><td>0.0003</td><td>0.0000</td><td>0.0005</td><td>0.0010</td><td>0.0150</td><td>0.0085</td><td>0.0000</td><td>    NA</td></tr>\n",
       "</tbody>\n",
       "</table>\n"
      ],
      "text/latex": [
       "\\begin{tabular}{r|llllllll}\n",
       "  & Opravy a revízie vagónov & Výroba podvozkov v BME Nováky & Činnosť HBZS & Projekt zásobovania teplom & Revitalizácia areálu bane Cigeľ & Skleníkové hospodárstvo & Chov sumca afrického & Prevádzka hotelových zariadení\\\\\n",
       "\\hline\n",
       "\tOpravy a revízie vagónov &     NA & 0.0000 & 0.0321 & 0.0000 & 0.0001 & 0.2698 & 0.0938 & 0.0003\\\\\n",
       "\tVýroba podvozkov v BME Nováky & 0.0000 &     NA & 0.0150 & 0.0000 & 0.0000 & 0.0992 & 0.0012 & 0.0000\\\\\n",
       "\tČinnosť HBZS & 0.0321 & 0.0150 &     NA & 0.0328 & 0.0117 & 0.0000 & 0.0000 & 0.0005\\\\\n",
       "\tProjekt zásobovania teplom & 0.0000 & 0.0000 & 0.0328 &     NA & 0.0000 & 0.0535 & 0.0042 & 0.0010\\\\\n",
       "\tRevitalizácia areálu bane Cigeľ & 0.0001 & 0.0000 & 0.0117 & 0.0000 &     NA & 0.0014 & 0.0086 & 0.0150\\\\\n",
       "\tSkleníkové hospodárstvo & 0.2698 & 0.0992 & 0.0000 & 0.0535 & 0.0014 &     NA & 0.0000 & 0.0085\\\\\n",
       "\tChov sumca afrického & 0.0938 & 0.0012 & 0.0000 & 0.0042 & 0.0086 & 0.0000 &     NA & 0.0000\\\\\n",
       "\tPrevádzka hotelových zariadení & 0.0003 & 0.0000 & 0.0005 & 0.0010 & 0.0150 & 0.0085 & 0.0000 &     NA\\\\\n",
       "\\end{tabular}\n"
      ],
      "text/markdown": [
       "\n",
       "| <!--/--> | Opravy a revízie vagónov | Výroba podvozkov v BME Nováky | Činnosť HBZS | Projekt zásobovania teplom | Revitalizácia areálu bane Cigeľ | Skleníkové hospodárstvo | Chov sumca afrického | Prevádzka hotelových zariadení | \n",
       "|---|---|---|---|---|---|---|---|\n",
       "| Opravy a revízie vagónov |     NA | 0.0000 | 0.0321 | 0.0000 | 0.0001 | 0.2698 | 0.0938 | 0.0003 | \n",
       "| Výroba podvozkov v BME Nováky | 0.0000 |     NA | 0.0150 | 0.0000 | 0.0000 | 0.0992 | 0.0012 | 0.0000 | \n",
       "| Činnosť HBZS | 0.0321 | 0.0150 |     NA | 0.0328 | 0.0117 | 0.0000 | 0.0000 | 0.0005 | \n",
       "| Projekt zásobovania teplom | 0.0000 | 0.0000 | 0.0328 |     NA | 0.0000 | 0.0535 | 0.0042 | 0.0010 | \n",
       "| Revitalizácia areálu bane Cigeľ | 0.0001 | 0.0000 | 0.0117 | 0.0000 |     NA | 0.0014 | 0.0086 | 0.0150 | \n",
       "| Skleníkové hospodárstvo | 0.2698 | 0.0992 | 0.0000 | 0.0535 | 0.0014 |     NA | 0.0000 | 0.0085 | \n",
       "| Chov sumca afrického | 0.0938 | 0.0012 | 0.0000 | 0.0042 | 0.0086 | 0.0000 |     NA | 0.0000 | \n",
       "| Prevádzka hotelových zariadení | 0.0003 | 0.0000 | 0.0005 | 0.0010 | 0.0150 | 0.0085 | 0.0000 |     NA | \n",
       "\n",
       "\n"
      ],
      "text/plain": [
       "                                Opravy a revízie vagónov\n",
       "Opravy a revízie vagónov            NA                  \n",
       "Výroba podvozkov v BME Nováky   0.0000                  \n",
       "Činnosť HBZS                    0.0321                  \n",
       "Projekt zásobovania teplom      0.0000                  \n",
       "Revitalizácia areálu bane Cigeľ 0.0001                  \n",
       "Skleníkové hospodárstvo         0.2698                  \n",
       "Chov sumca afrického            0.0938                  \n",
       "Prevádzka hotelových zariadení  0.0003                  \n",
       "                                Výroba podvozkov v BME Nováky Činnosť HBZS\n",
       "Opravy a revízie vagónov        0.0000                        0.0321      \n",
       "Výroba podvozkov v BME Nováky       NA                        0.0150      \n",
       "Činnosť HBZS                    0.0150                            NA      \n",
       "Projekt zásobovania teplom      0.0000                        0.0328      \n",
       "Revitalizácia areálu bane Cigeľ 0.0000                        0.0117      \n",
       "Skleníkové hospodárstvo         0.0992                        0.0000      \n",
       "Chov sumca afrického            0.0012                        0.0000      \n",
       "Prevádzka hotelových zariadení  0.0000                        0.0005      \n",
       "                                Projekt zásobovania teplom\n",
       "Opravy a revízie vagónov        0.0000                    \n",
       "Výroba podvozkov v BME Nováky   0.0000                    \n",
       "Činnosť HBZS                    0.0328                    \n",
       "Projekt zásobovania teplom          NA                    \n",
       "Revitalizácia areálu bane Cigeľ 0.0000                    \n",
       "Skleníkové hospodárstvo         0.0535                    \n",
       "Chov sumca afrického            0.0042                    \n",
       "Prevádzka hotelových zariadení  0.0010                    \n",
       "                                Revitalizácia areálu bane Cigeľ\n",
       "Opravy a revízie vagónov        0.0001                         \n",
       "Výroba podvozkov v BME Nováky   0.0000                         \n",
       "Činnosť HBZS                    0.0117                         \n",
       "Projekt zásobovania teplom      0.0000                         \n",
       "Revitalizácia areálu bane Cigeľ     NA                         \n",
       "Skleníkové hospodárstvo         0.0014                         \n",
       "Chov sumca afrického            0.0086                         \n",
       "Prevádzka hotelových zariadení  0.0150                         \n",
       "                                Skleníkové hospodárstvo Chov sumca afrického\n",
       "Opravy a revízie vagónov        0.2698                  0.0938              \n",
       "Výroba podvozkov v BME Nováky   0.0992                  0.0012              \n",
       "Činnosť HBZS                    0.0000                  0.0000              \n",
       "Projekt zásobovania teplom      0.0535                  0.0042              \n",
       "Revitalizácia areálu bane Cigeľ 0.0014                  0.0086              \n",
       "Skleníkové hospodárstvo             NA                  0.0000              \n",
       "Chov sumca afrického            0.0000                      NA              \n",
       "Prevádzka hotelových zariadení  0.0085                  0.0000              \n",
       "                                Prevádzka hotelových zariadení\n",
       "Opravy a revízie vagónov        0.0003                        \n",
       "Výroba podvozkov v BME Nováky   0.0000                        \n",
       "Činnosť HBZS                    0.0005                        \n",
       "Projekt zásobovania teplom      0.0010                        \n",
       "Revitalizácia areálu bane Cigeľ 0.0150                        \n",
       "Skleníkové hospodárstvo         0.0085                        \n",
       "Chov sumca afrického            0.0000                        \n",
       "Prevádzka hotelových zariadení      NA                        "
      ]
     },
     "metadata": {},
     "output_type": "display_data"
    }
   ],
   "source": [
    "round(spearman_vysledky$P, 4)"
   ]
  },
  {
   "cell_type": "markdown",
   "metadata": {},
   "source": [
    "### Zoznam dvojíc faktorov s významnou závislosťou"
   ]
  },
  {
   "cell_type": "code",
   "execution_count": 314,
   "metadata": {},
   "outputs": [
    {
     "data": {
      "text/html": [
       "<table>\n",
       "<thead><tr><th scope=col>row</th><th scope=col>column</th><th scope=col>cor</th><th scope=col>p</th><th scope=col>vyznamna_zavislost</th></tr></thead>\n",
       "<tbody>\n",
       "\t<tr><td>Opravy a revízie vagónov       </td><td>Výroba podvozkov v BME Nováky  </td><td>0.669                          </td><td>0.0000                         </td><td>Áno                            </td></tr>\n",
       "\t<tr><td>Opravy a revízie vagónov       </td><td>Činnosť HBZS                   </td><td>0.295                          </td><td>0.0321                         </td><td>Áno                            </td></tr>\n",
       "\t<tr><td>Výroba podvozkov v BME Nováky  </td><td>Činnosť HBZS                   </td><td>0.333                          </td><td>0.0150                         </td><td>Áno                            </td></tr>\n",
       "\t<tr><td>Opravy a revízie vagónov       </td><td>Projekt zásobovania teplom     </td><td>0.644                          </td><td>0.0000                         </td><td>Áno                            </td></tr>\n",
       "\t<tr><td>Výroba podvozkov v BME Nováky  </td><td>Projekt zásobovania teplom     </td><td>0.814                          </td><td>0.0000                         </td><td>Áno                            </td></tr>\n",
       "\t<tr><td>Činnosť HBZS                   </td><td>Projekt zásobovania teplom     </td><td>0.294                          </td><td>0.0328                         </td><td>Áno                            </td></tr>\n",
       "\t<tr><td>Opravy a revízie vagónov       </td><td>Revitalizácia areálu bane Cigeľ</td><td>0.507                          </td><td>0.0001                         </td><td>Áno                            </td></tr>\n",
       "\t<tr><td>Výroba podvozkov v BME Nováky  </td><td>Revitalizácia areálu bane Cigeľ</td><td>0.561                          </td><td>0.0000                         </td><td>Áno                            </td></tr>\n",
       "\t<tr><td>Činnosť HBZS                   </td><td>Revitalizácia areálu bane Cigeľ</td><td>0.344                          </td><td>0.0117                         </td><td>Áno                            </td></tr>\n",
       "\t<tr><td>Projekt zásobovania teplom     </td><td>Revitalizácia areálu bane Cigeľ</td><td>0.712                          </td><td>0.0000                         </td><td>Áno                            </td></tr>\n",
       "\t<tr><td>Činnosť HBZS                   </td><td>Skleníkové hospodárstvo        </td><td>0.760                          </td><td>0.0000                         </td><td>Áno                            </td></tr>\n",
       "\t<tr><td>Revitalizácia areálu bane Cigeľ</td><td>Skleníkové hospodárstvo        </td><td>0.428                          </td><td>0.0014                         </td><td>Áno                            </td></tr>\n",
       "\t<tr><td>Výroba podvozkov v BME Nováky  </td><td>Chov sumca afrického           </td><td>0.433                          </td><td>0.0012                         </td><td>Áno                            </td></tr>\n",
       "\t<tr><td>Činnosť HBZS                   </td><td>Chov sumca afrického           </td><td>0.537                          </td><td>0.0000                         </td><td>Áno                            </td></tr>\n",
       "\t<tr><td>Projekt zásobovania teplom     </td><td>Chov sumca afrického           </td><td>0.387                          </td><td>0.0042                         </td><td>Áno                            </td></tr>\n",
       "\t<tr><td>Revitalizácia areálu bane Cigeľ</td><td>Chov sumca afrického           </td><td>0.357                          </td><td>0.0086                         </td><td>Áno                            </td></tr>\n",
       "\t<tr><td>Skleníkové hospodárstvo        </td><td>Chov sumca afrického           </td><td>0.558                          </td><td>0.0000                         </td><td>Áno                            </td></tr>\n",
       "\t<tr><td>Opravy a revízie vagónov       </td><td>Prevádzka hotelových zariadení </td><td>0.478                          </td><td>0.0003                         </td><td>Áno                            </td></tr>\n",
       "\t<tr><td>Výroba podvozkov v BME Nováky  </td><td>Prevádzka hotelových zariadení </td><td>0.663                          </td><td>0.0000                         </td><td>Áno                            </td></tr>\n",
       "\t<tr><td>Činnosť HBZS                   </td><td>Prevádzka hotelových zariadení </td><td>0.461                          </td><td>0.0005                         </td><td>Áno                            </td></tr>\n",
       "\t<tr><td>Projekt zásobovania teplom     </td><td>Prevádzka hotelových zariadení </td><td>0.439                          </td><td>0.0010                         </td><td>Áno                            </td></tr>\n",
       "\t<tr><td>Revitalizácia areálu bane Cigeľ</td><td>Prevádzka hotelových zariadení </td><td>0.332                          </td><td>0.0150                         </td><td>Áno                            </td></tr>\n",
       "\t<tr><td>Skleníkové hospodárstvo        </td><td>Prevádzka hotelových zariadení </td><td>0.358                          </td><td>0.0085                         </td><td>Áno                            </td></tr>\n",
       "\t<tr><td>Chov sumca afrického           </td><td>Prevádzka hotelových zariadení </td><td>0.579                          </td><td>0.0000                         </td><td>Áno                            </td></tr>\n",
       "</tbody>\n",
       "</table>\n"
      ],
      "text/latex": [
       "\\begin{tabular}{r|lllll}\n",
       " row & column & cor & p & vyznamna\\_zavislost\\\\\n",
       "\\hline\n",
       "\t Opravy a revízie vagónov        & Výroba podvozkov v BME Nováky   & 0.669                           & 0.0000                          & Áno                            \\\\\n",
       "\t Opravy a revízie vagónov        & Činnosť HBZS                    & 0.295                           & 0.0321                          & Áno                            \\\\\n",
       "\t Výroba podvozkov v BME Nováky   & Činnosť HBZS                    & 0.333                           & 0.0150                          & Áno                            \\\\\n",
       "\t Opravy a revízie vagónov        & Projekt zásobovania teplom      & 0.644                           & 0.0000                          & Áno                            \\\\\n",
       "\t Výroba podvozkov v BME Nováky   & Projekt zásobovania teplom      & 0.814                           & 0.0000                          & Áno                            \\\\\n",
       "\t Činnosť HBZS                    & Projekt zásobovania teplom      & 0.294                           & 0.0328                          & Áno                            \\\\\n",
       "\t Opravy a revízie vagónov        & Revitalizácia areálu bane Cigeľ & 0.507                           & 0.0001                          & Áno                            \\\\\n",
       "\t Výroba podvozkov v BME Nováky   & Revitalizácia areálu bane Cigeľ & 0.561                           & 0.0000                          & Áno                            \\\\\n",
       "\t Činnosť HBZS                    & Revitalizácia areálu bane Cigeľ & 0.344                           & 0.0117                          & Áno                            \\\\\n",
       "\t Projekt zásobovania teplom      & Revitalizácia areálu bane Cigeľ & 0.712                           & 0.0000                          & Áno                            \\\\\n",
       "\t Činnosť HBZS                    & Skleníkové hospodárstvo         & 0.760                           & 0.0000                          & Áno                            \\\\\n",
       "\t Revitalizácia areálu bane Cigeľ & Skleníkové hospodárstvo         & 0.428                           & 0.0014                          & Áno                            \\\\\n",
       "\t Výroba podvozkov v BME Nováky   & Chov sumca afrického            & 0.433                           & 0.0012                          & Áno                            \\\\\n",
       "\t Činnosť HBZS                    & Chov sumca afrického            & 0.537                           & 0.0000                          & Áno                            \\\\\n",
       "\t Projekt zásobovania teplom      & Chov sumca afrického            & 0.387                           & 0.0042                          & Áno                            \\\\\n",
       "\t Revitalizácia areálu bane Cigeľ & Chov sumca afrického            & 0.357                           & 0.0086                          & Áno                            \\\\\n",
       "\t Skleníkové hospodárstvo         & Chov sumca afrického            & 0.558                           & 0.0000                          & Áno                            \\\\\n",
       "\t Opravy a revízie vagónov        & Prevádzka hotelových zariadení  & 0.478                           & 0.0003                          & Áno                            \\\\\n",
       "\t Výroba podvozkov v BME Nováky   & Prevádzka hotelových zariadení  & 0.663                           & 0.0000                          & Áno                            \\\\\n",
       "\t Činnosť HBZS                    & Prevádzka hotelových zariadení  & 0.461                           & 0.0005                          & Áno                            \\\\\n",
       "\t Projekt zásobovania teplom      & Prevádzka hotelových zariadení  & 0.439                           & 0.0010                          & Áno                            \\\\\n",
       "\t Revitalizácia areálu bane Cigeľ & Prevádzka hotelových zariadení  & 0.332                           & 0.0150                          & Áno                            \\\\\n",
       "\t Skleníkové hospodárstvo         & Prevádzka hotelových zariadení  & 0.358                           & 0.0085                          & Áno                            \\\\\n",
       "\t Chov sumca afrického            & Prevádzka hotelových zariadení  & 0.579                           & 0.0000                          & Áno                            \\\\\n",
       "\\end{tabular}\n"
      ],
      "text/markdown": [
       "\n",
       "row | column | cor | p | vyznamna_zavislost | \n",
       "|---|---|---|---|---|---|---|---|---|---|---|---|---|---|---|---|---|---|---|---|---|---|---|---|\n",
       "| Opravy a revízie vagónov        | Výroba podvozkov v BME Nováky   | 0.669                           | 0.0000                          | Áno                             | \n",
       "| Opravy a revízie vagónov        | Činnosť HBZS                    | 0.295                           | 0.0321                          | Áno                             | \n",
       "| Výroba podvozkov v BME Nováky   | Činnosť HBZS                    | 0.333                           | 0.0150                          | Áno                             | \n",
       "| Opravy a revízie vagónov        | Projekt zásobovania teplom      | 0.644                           | 0.0000                          | Áno                             | \n",
       "| Výroba podvozkov v BME Nováky   | Projekt zásobovania teplom      | 0.814                           | 0.0000                          | Áno                             | \n",
       "| Činnosť HBZS                    | Projekt zásobovania teplom      | 0.294                           | 0.0328                          | Áno                             | \n",
       "| Opravy a revízie vagónov        | Revitalizácia areálu bane Cigeľ | 0.507                           | 0.0001                          | Áno                             | \n",
       "| Výroba podvozkov v BME Nováky   | Revitalizácia areálu bane Cigeľ | 0.561                           | 0.0000                          | Áno                             | \n",
       "| Činnosť HBZS                    | Revitalizácia areálu bane Cigeľ | 0.344                           | 0.0117                          | Áno                             | \n",
       "| Projekt zásobovania teplom      | Revitalizácia areálu bane Cigeľ | 0.712                           | 0.0000                          | Áno                             | \n",
       "| Činnosť HBZS                    | Skleníkové hospodárstvo         | 0.760                           | 0.0000                          | Áno                             | \n",
       "| Revitalizácia areálu bane Cigeľ | Skleníkové hospodárstvo         | 0.428                           | 0.0014                          | Áno                             | \n",
       "| Výroba podvozkov v BME Nováky   | Chov sumca afrického            | 0.433                           | 0.0012                          | Áno                             | \n",
       "| Činnosť HBZS                    | Chov sumca afrického            | 0.537                           | 0.0000                          | Áno                             | \n",
       "| Projekt zásobovania teplom      | Chov sumca afrického            | 0.387                           | 0.0042                          | Áno                             | \n",
       "| Revitalizácia areálu bane Cigeľ | Chov sumca afrického            | 0.357                           | 0.0086                          | Áno                             | \n",
       "| Skleníkové hospodárstvo         | Chov sumca afrického            | 0.558                           | 0.0000                          | Áno                             | \n",
       "| Opravy a revízie vagónov        | Prevádzka hotelových zariadení  | 0.478                           | 0.0003                          | Áno                             | \n",
       "| Výroba podvozkov v BME Nováky   | Prevádzka hotelových zariadení  | 0.663                           | 0.0000                          | Áno                             | \n",
       "| Činnosť HBZS                    | Prevádzka hotelových zariadení  | 0.461                           | 0.0005                          | Áno                             | \n",
       "| Projekt zásobovania teplom      | Prevádzka hotelových zariadení  | 0.439                           | 0.0010                          | Áno                             | \n",
       "| Revitalizácia areálu bane Cigeľ | Prevádzka hotelových zariadení  | 0.332                           | 0.0150                          | Áno                             | \n",
       "| Skleníkové hospodárstvo         | Prevádzka hotelových zariadení  | 0.358                           | 0.0085                          | Áno                             | \n",
       "| Chov sumca afrického            | Prevádzka hotelových zariadení  | 0.579                           | 0.0000                          | Áno                             | \n",
       "\n",
       "\n"
      ],
      "text/plain": [
       "   row                             column                          cor   p     \n",
       "1  Opravy a revízie vagónov        Výroba podvozkov v BME Nováky   0.669 0.0000\n",
       "2  Opravy a revízie vagónov        Činnosť HBZS                    0.295 0.0321\n",
       "3  Výroba podvozkov v BME Nováky   Činnosť HBZS                    0.333 0.0150\n",
       "4  Opravy a revízie vagónov        Projekt zásobovania teplom      0.644 0.0000\n",
       "5  Výroba podvozkov v BME Nováky   Projekt zásobovania teplom      0.814 0.0000\n",
       "6  Činnosť HBZS                    Projekt zásobovania teplom      0.294 0.0328\n",
       "7  Opravy a revízie vagónov        Revitalizácia areálu bane Cigeľ 0.507 0.0001\n",
       "8  Výroba podvozkov v BME Nováky   Revitalizácia areálu bane Cigeľ 0.561 0.0000\n",
       "9  Činnosť HBZS                    Revitalizácia areálu bane Cigeľ 0.344 0.0117\n",
       "10 Projekt zásobovania teplom      Revitalizácia areálu bane Cigeľ 0.712 0.0000\n",
       "11 Činnosť HBZS                    Skleníkové hospodárstvo         0.760 0.0000\n",
       "12 Revitalizácia areálu bane Cigeľ Skleníkové hospodárstvo         0.428 0.0014\n",
       "13 Výroba podvozkov v BME Nováky   Chov sumca afrického            0.433 0.0012\n",
       "14 Činnosť HBZS                    Chov sumca afrického            0.537 0.0000\n",
       "15 Projekt zásobovania teplom      Chov sumca afrického            0.387 0.0042\n",
       "16 Revitalizácia areálu bane Cigeľ Chov sumca afrického            0.357 0.0086\n",
       "17 Skleníkové hospodárstvo         Chov sumca afrického            0.558 0.0000\n",
       "18 Opravy a revízie vagónov        Prevádzka hotelových zariadení  0.478 0.0003\n",
       "19 Výroba podvozkov v BME Nováky   Prevádzka hotelových zariadení  0.663 0.0000\n",
       "20 Činnosť HBZS                    Prevádzka hotelových zariadení  0.461 0.0005\n",
       "21 Projekt zásobovania teplom      Prevádzka hotelových zariadení  0.439 0.0010\n",
       "22 Revitalizácia areálu bane Cigeľ Prevádzka hotelových zariadení  0.332 0.0150\n",
       "23 Skleníkové hospodárstvo         Prevádzka hotelových zariadení  0.358 0.0085\n",
       "24 Chov sumca afrického            Prevádzka hotelových zariadení  0.579 0.0000\n",
       "   vyznamna_zavislost\n",
       "1  Áno               \n",
       "2  Áno               \n",
       "3  Áno               \n",
       "4  Áno               \n",
       "5  Áno               \n",
       "6  Áno               \n",
       "7  Áno               \n",
       "8  Áno               \n",
       "9  Áno               \n",
       "10 Áno               \n",
       "11 Áno               \n",
       "12 Áno               \n",
       "13 Áno               \n",
       "14 Áno               \n",
       "15 Áno               \n",
       "16 Áno               \n",
       "17 Áno               \n",
       "18 Áno               \n",
       "19 Áno               \n",
       "20 Áno               \n",
       "21 Áno               \n",
       "22 Áno               \n",
       "23 Áno               \n",
       "24 Áno               "
      ]
     },
     "metadata": {},
     "output_type": "display_data"
    }
   ],
   "source": [
    "flattenCorrMatrix(round(spearman_vysledky$r,3), round(spearman_vysledky$P,4)) %>% mutate(vyznamna_zavislost = ifelse(p < 0.05, \"Áno\",\"Nie\")) %>% filter(vyznamna_zavislost == \"Áno\")"
   ]
  },
  {
   "cell_type": "markdown",
   "metadata": {},
   "source": [
    "### Zoznam dvojíc faktorov s nevýznamnou závislosťou"
   ]
  },
  {
   "cell_type": "code",
   "execution_count": 315,
   "metadata": {},
   "outputs": [
    {
     "data": {
      "text/html": [
       "<table>\n",
       "<thead><tr><th scope=col>row</th><th scope=col>column</th><th scope=col>cor</th><th scope=col>p</th><th scope=col>vyznamna_zavislost</th></tr></thead>\n",
       "<tbody>\n",
       "\t<tr><td>Opravy a revízie vagónov     </td><td>Skleníkové hospodárstvo      </td><td>0.154                        </td><td>0.2698                       </td><td>Nie                          </td></tr>\n",
       "\t<tr><td>Výroba podvozkov v BME Nováky</td><td>Skleníkové hospodárstvo      </td><td>0.229                        </td><td>0.0992                       </td><td>Nie                          </td></tr>\n",
       "\t<tr><td>Projekt zásobovania teplom   </td><td>Skleníkové hospodárstvo      </td><td>0.267                        </td><td>0.0535                       </td><td>Nie                          </td></tr>\n",
       "\t<tr><td>Opravy a revízie vagónov     </td><td>Chov sumca afrického         </td><td>0.233                        </td><td>0.0938                       </td><td>Nie                          </td></tr>\n",
       "</tbody>\n",
       "</table>\n"
      ],
      "text/latex": [
       "\\begin{tabular}{r|lllll}\n",
       " row & column & cor & p & vyznamna\\_zavislost\\\\\n",
       "\\hline\n",
       "\t Opravy a revízie vagónov      & Skleníkové hospodárstvo       & 0.154                         & 0.2698                        & Nie                          \\\\\n",
       "\t Výroba podvozkov v BME Nováky & Skleníkové hospodárstvo       & 0.229                         & 0.0992                        & Nie                          \\\\\n",
       "\t Projekt zásobovania teplom    & Skleníkové hospodárstvo       & 0.267                         & 0.0535                        & Nie                          \\\\\n",
       "\t Opravy a revízie vagónov      & Chov sumca afrického          & 0.233                         & 0.0938                        & Nie                          \\\\\n",
       "\\end{tabular}\n"
      ],
      "text/markdown": [
       "\n",
       "row | column | cor | p | vyznamna_zavislost | \n",
       "|---|---|---|---|\n",
       "| Opravy a revízie vagónov      | Skleníkové hospodárstvo       | 0.154                         | 0.2698                        | Nie                           | \n",
       "| Výroba podvozkov v BME Nováky | Skleníkové hospodárstvo       | 0.229                         | 0.0992                        | Nie                           | \n",
       "| Projekt zásobovania teplom    | Skleníkové hospodárstvo       | 0.267                         | 0.0535                        | Nie                           | \n",
       "| Opravy a revízie vagónov      | Chov sumca afrického          | 0.233                         | 0.0938                        | Nie                           | \n",
       "\n",
       "\n"
      ],
      "text/plain": [
       "  row                           column                  cor   p     \n",
       "1 Opravy a revízie vagónov      Skleníkové hospodárstvo 0.154 0.2698\n",
       "2 Výroba podvozkov v BME Nováky Skleníkové hospodárstvo 0.229 0.0992\n",
       "3 Projekt zásobovania teplom    Skleníkové hospodárstvo 0.267 0.0535\n",
       "4 Opravy a revízie vagónov      Chov sumca afrického    0.233 0.0938\n",
       "  vyznamna_zavislost\n",
       "1 Nie               \n",
       "2 Nie               \n",
       "3 Nie               \n",
       "4 Nie               "
      ]
     },
     "metadata": {},
     "output_type": "display_data"
    }
   ],
   "source": [
    "flattenCorrMatrix(round(spearman_vysledky$r,3), round(spearman_vysledky$P,4)) %>% mutate(vyznamna_zavislost = ifelse(p < 0.05, \"Áno\",\"Nie\")) %>% filter(vyznamna_zavislost == \"Nie\")"
   ]
  },
  {
   "cell_type": "markdown",
   "metadata": {},
   "source": [
    "### Kopírovanie výsledkov do excelu"
   ]
  },
  {
   "cell_type": "code",
   "execution_count": 316,
   "metadata": {},
   "outputs": [],
   "source": [
    "flattenCorrMatrix(round(spearman_vysledky$r,3), round(spearman_vysledky$P,4))  %>% write.table(\"clipboard\", sep=\"\\t\", row.names=FALSE,dec = \",\")"
   ]
  },
  {
   "cell_type": "code",
   "execution_count": 317,
   "metadata": {},
   "outputs": [],
   "source": [
    "round(spearman_vysledky$r, 4) %>% write.table(\"clipboard\", sep=\"\\t\", row.names=FALSE,dec = \",\")"
   ]
  },
  {
   "cell_type": "code",
   "execution_count": 318,
   "metadata": {},
   "outputs": [],
   "source": [
    "round(spearman_vysledky$P, 4) %>% write.table(\"clipboard\", sep=\"\\t\", row.names=FALSE,dec = \",\")"
   ]
  },
  {
   "cell_type": "code",
   "execution_count": null,
   "metadata": {},
   "outputs": [],
   "source": []
  },
  {
   "cell_type": "markdown",
   "metadata": {},
   "source": [
    "### Import knižníc a funckií potrebných na analýzu"
   ]
  },
  {
   "cell_type": "code",
   "execution_count": 4,
   "metadata": {},
   "outputs": [],
   "source": [
    "library(tidyverse) # vizualizácia a práca s dátami\n",
    "library(readxl)    # pre load excel dat\n",
    "library(glue)      # práca s textom\n",
    "library(repr)      # veľkosť obrázkov"
   ]
  },
  {
   "cell_type": "code",
   "execution_count": 62,
   "metadata": {},
   "outputs": [],
   "source": [
    "stat_fill_labels <- function(mapping = NULL, data = NULL, geom = \"text\",\n",
    "                             position = \"identity\", width = NULL, na.rm = FALSE, show.legend = NA,\n",
    "                             inherit.aes = TRUE, ...) {\n",
    "  layer(\n",
    "    stat = StatFillLabels, data = data, mapping = mapping, geom = geom,\n",
    "    position = position, show.legend = show.legend, inherit.aes = inherit.aes,\n",
    "    params = list(na.rm = na.rm, ...)\n",
    "  )\n",
    "}\n",
    "\n",
    "#' @rdname stat_fill_labels\n",
    "#' @format NULL\n",
    "#' @usage NULL\n",
    "#' @export\n",
    "StatFillLabels <- ggproto(\n",
    "  \"StatFillLabels\",\n",
    "  StatCount,\n",
    "  compute_panel = function(self, data, scales, ...) {\n",
    "    if (ggplot2:::empty(data)) {\n",
    "      return(data.frame())\n",
    "    }\n",
    "    groups <- split(data, data$group)\n",
    "    stats <- lapply(groups, function(group) {\n",
    "      self$compute_group(data = group, scales = scales, ...)\n",
    "    })\n",
    "    stats <- mapply(function(new, old) {\n",
    "      if (ggplot2:::empty(new)) {\n",
    "        return(data.frame())\n",
    "      }\n",
    "      unique <- ggplot2:::uniquecols(old)\n",
    "      missing <- !(names(unique) %in% names(new))\n",
    "      cbind(new, unique[rep(1, nrow(new)), missing, drop = FALSE])\n",
    "    }, stats, groups, SIMPLIFY = FALSE)\n",
    "    data <- do.call(plyr::rbind.fill, stats)\n",
    "    plyr::ddply(\n",
    "      data, \"x\", plyr::mutate,\n",
    "      prop = count / sum(count),\n",
    "      cumprop = inv_cumsum(count) / sum(count),\n",
    "      ylabel = (inv_cumsum(count) - count / 2) / sum(count),\n",
    "      na.rm = TRUE\n",
    "    )\n",
    "  },\n",
    "  default_aes = aes(y = ..ylabel.., label = paste0(round(100 * ..prop.., digits = 1), \"%\"))\n",
    ")\n",
    "\n",
    "inv_cumsum <- function(x) {\n",
    "  sum(x) - cumsum(x) + x\n",
    "}\n",
    "\n",
    "flattenCorrMatrix <- function(cormat, pmat) {\n",
    "  ut <- upper.tri(cormat)\n",
    "  data.frame(\n",
    "    row = rownames(cormat)[row(cormat)[ut]],\n",
    "    column = rownames(cormat)[col(cormat)[ut]],\n",
    "    cor  =(cormat)[ut],\n",
    "    p = pmat[ut]\n",
    "    )\n",
    "}\n",
    "\n"
   ]
  }
 ],
 "metadata": {
  "kernelspec": {
   "display_name": "R",
   "language": "R",
   "name": "ir"
  },
  "language_info": {
   "codemirror_mode": "r",
   "file_extension": ".r",
   "mimetype": "text/x-r-source",
   "name": "R",
   "pygments_lexer": "r",
   "version": "3.6.2"
  }
 },
 "nbformat": 4,
 "nbformat_minor": 2
}
